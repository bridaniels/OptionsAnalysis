{
 "cells": [
  {
   "cell_type": "markdown",
   "metadata": {},
   "source": [
    "# **Volatility Measures**\n",
    "---"
   ]
  },
  {
   "cell_type": "code",
   "execution_count": 1,
   "metadata": {},
   "outputs": [],
   "source": [
    "# Volatility \n",
    "import STOCK_VOL as SV \n",
    "\n",
    "stock = 'AAPL'\n",
    "start = '2016-01-01'\n",
    "end = '2016-03-01'"
   ]
  },
  {
   "cell_type": "code",
   "execution_count": 2,
   "metadata": {},
   "outputs": [
    {
     "name": "stderr",
     "output_type": "stream",
     "text": [
      "/Users/CODEUSR/opt/anaconda3/lib/python3.8/site-packages/arch/univariate/base.py:309: DataScaleWarning: y is poorly scaled, which may affect convergence of the optimizer when\n",
      "estimating the model parameters. The scale of y is 0.0005057. Parameter\n",
      "estimation work better when this value is between 1 and 1000. The recommended\n",
      "rescaling is 100 * y.\n",
      "\n",
      "This warning can be disabled by either rescaling y before initializing the\n",
      "model or by setting rescale=False.\n",
      "\n",
      "  warnings.warn(\n",
      "/Users/CODEUSR/opt/anaconda3/lib/python3.8/site-packages/arch/__future__/_utility.py:11: FutureWarning: \n",
      "The default for reindex is True. After September 2021 this will change to\n",
      "False. Set reindex to True or False to silence this message. Alternatively,\n",
      "you can use the import comment\n",
      "\n",
      "from arch.__future__ import reindexing\n",
      "\n",
      "to globally set reindex to True and silence this warning.\n",
      "\n",
      "  warnings.warn(\n"
     ]
    },
    {
     "name": "stdout",
     "output_type": "stream",
     "text": [
      "Iteration:      1,   Func. Count:      5,   Neg. LLF: 18286180.254286394\n",
      "Iteration:      2,   Func. Count:     11,   Neg. LLF: -92.89421692119215\n",
      "Iteration:      3,   Func. Count:     15,   Neg. LLF: -92.50383142557503\n",
      "Iteration:      4,   Func. Count:     19,   Neg. LLF: -93.17584045030439\n",
      "Optimization terminated successfully    (Exit mode 0)\n",
      "            Current function value: -93.17584054677145\n",
      "            Iterations: 8\n",
      "            Function evaluations: 19\n",
      "            Gradient evaluations: 4\n",
      "\n",
      "RESULTS \n",
      "===================\n",
      "Mean Sigma: 0.022508054317058674 \n",
      "Garch Sigma: 0.018784692918098863\n"
     ]
    },
    {
     "data": {
      "image/png": "[encoded data removed]",
      "text/plain": [
       "<Figure size 1080x360 with 1 Axes>"
      ]
     },
     "metadata": {
      "needs_background": "light"
     },
     "output_type": "display_data"
    }
   ],
   "source": [
    "vol = SV.VOLATILITY(stock,start,end)\n",
    "\n",
    "m_sig = vol.mean_sigma()\n",
    "garch_sig = vol.garch_sigma()\n",
    "\n",
    "print(\"\\nRESULTS \\n===================\\nMean Sigma: {} \\nGarch Sigma: {}\".format(m_sig, garch_sig))\n",
    "vol.plotting_autocorrelation()"
   ]
  },
  {
   "cell_type": "code",
   "execution_count": null,
   "metadata": {},
   "outputs": [],
   "source": []
  }
 ],
 "metadata": {
  "interpreter": {
   "hash": "08a0dfaf3fa74e1b9a1bb705dbe1b2708914f992320bdd77350db063c3b717dd"
  },
  "kernelspec": {
   "display_name": "Python 3.8.8 ('base')",
   "language": "python",
   "name": "python3"
  },
  "language_info": {
   "codemirror_mode": {
    "name": "ipython",
    "version": 3
   },
   "file_extension": ".py",
   "mimetype": "text/x-python",
   "name": "python",
   "nbconvert_exporter": "python",
   "pygments_lexer": "ipython3",
   "version": "3.8.8"
  },
  "orig_nbformat": 4
 },
 "nbformat": 4,
 "nbformat_minor": 2
}
