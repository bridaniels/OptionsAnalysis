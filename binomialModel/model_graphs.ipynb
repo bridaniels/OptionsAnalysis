{
 "cells": [
  {
   "cell_type": "markdown",
   "metadata": {},
   "source": [
    "# **Volatility Measures**\n",
    "---"
   ]
  },
  {
   "cell_type": "code",
   "execution_count": 1,
   "metadata": {},
   "outputs": [],
   "source": [
    "# Volatility \n",
    "import STOCK_VOL as SV \n",
    "\n",
    "ticker = 'AAPL'\n",
    "start = '2017-08-18'\n",
    "end = '2018-08-18'"
   ]
  },
  {
   "cell_type": "code",
   "execution_count": 2,
   "metadata": {},
   "outputs": [
    {
     "name": "stdout",
     "output_type": "stream",
     "text": [
      "Iteration:      1,   Func. Count:      5,   Neg. LLF: 1019.1970085770148\n",
      "Iteration:      2,   Func. Count:     12,   Neg. LLF: 435.166137156499\n",
      "Iteration:      3,   Func. Count:     18,   Neg. LLF: 162005.72534569204\n",
      "Iteration:      4,   Func. Count:     23,   Neg. LLF: 422.41394506131513\n",
      "Iteration:      5,   Func. Count:     27,   Neg. LLF: 422.4139321197711\n",
      "Iteration:      6,   Func. Count:     30,   Neg. LLF: 422.4139321197333\n",
      "Optimization terminated successfully    (Exit mode 0)\n",
      "            Current function value: 422.4139321197711\n",
      "            Iterations: 6\n",
      "            Function evaluations: 30\n",
      "            Gradient evaluations: 6\n",
      "\n",
      "RESULTS \n",
      "===================\n",
      "Mean Sigma: 1.3802803647985724 \n",
      "Garch Sigma: 1.4303308596282276\n"
     ]
    },
    {
     "data": {
      "image/png": "[encoded data removed]",
      "text/plain": [
       "<Figure size 1080x360 with 1 Axes>"
      ]
     },
     "metadata": {
      "needs_background": "light"
     },
     "output_type": "display_data"
    }
   ],
   "source": [
    "vol = SV.VOLATILITY(ticker,start,end)\n",
    "\n",
    "m_sig = vol.mean_sigma()\n",
    "garch_sig = vol.garch_sigma()\n",
    "\n",
    "print(\"\\nRESULTS \\n===================\\nMean Sigma: {} \\nGarch Sigma: {}\".format(m_sig, garch_sig))\n",
    "vol.plotting_autocorrelation()"
   ]
  },
  {
   "cell_type": "markdown",
   "metadata": {},
   "source": [
    "# **European Option**\n",
    "---"
   ]
  },
  {
   "cell_type": "code",
   "execution_count": 3,
   "metadata": {},
   "outputs": [],
   "source": [
    "from EURO_OPTION import EUROPEAN_OPTION\n",
    "\n",
    "iterations = 40\n",
    "stock_p = 217.58\n",
    "strike = 215\n",
    "riskFree = 0.05\n",
    "tMature = 0.1\n",
    "mean_sig = {'ticker': ticker, 'is_calc': True, 'use_garch': True, 'start': start, 'end': end, 'eu_option': False}\n",
    "garch_sig = {'ticker': ticker, 'is_calc': True, 'use_garch': False, 'start': start, 'end': end, 'eu_option': False}"
   ]
  },
  {
   "cell_type": "code",
   "execution_count": 4,
   "metadata": {},
   "outputs": [
    {
     "name": "stdout",
     "output_type": "stream",
     "text": [
      "Iteration:      1,   Func. Count:      5,   Neg. LLF: 1019.1882200162677\n",
      "Iteration:      2,   Func. Count:     12,   Neg. LLF: 435.166177384941\n",
      "Iteration:      3,   Func. Count:     18,   Neg. LLF: 162063.0806253418\n",
      "Iteration:      4,   Func. Count:     23,   Neg. LLF: 422.41386725368983\n",
      "Iteration:      5,   Func. Count:     27,   Neg. LLF: 422.413854318513\n",
      "Iteration:      6,   Func. Count:     30,   Neg. LLF: 422.4138543184751\n",
      "Optimization terminated successfully    (Exit mode 0)\n",
      "            Current function value: 422.413854318513\n",
      "            Iterations: 6\n",
      "            Function evaluations: 30\n",
      "            Gradient evaluations: 6\n",
      "Option Price Using Mean Sigma: 40.35870085667898\n"
     ]
    }
   ],
   "source": [
    "mean = EUROPEAN_OPTION(iterations, stock_p, strike, riskFree, tMature, mean_sig)\n",
    "\n",
    "print(\"Option Price Using Mean Sigma: {}\".format(mean.price()))"
   ]
  },
  {
   "cell_type": "code",
   "execution_count": 5,
   "metadata": {},
   "outputs": [
    {
     "name": "stdout",
     "output_type": "stream",
     "text": [
      "Option Price Using GARCH Process: 39.038710283543146\n"
     ]
    }
   ],
   "source": [
    "garch = EUROPEAN_OPTION(iterations, stock_p, strike, riskFree, tMature, garch_sig)\n",
    "\n",
    "print(\"Option Price Using GARCH Process: {}\".format(garch.price()))"
   ]
  },
  {
   "cell_type": "code",
   "execution_count": null,
   "metadata": {},
   "outputs": [],
   "source": []
  }
 ],
 "metadata": {
  "interpreter": {
   "hash": "08a0dfaf3fa74e1b9a1bb705dbe1b2708914f992320bdd77350db063c3b717dd"
  },
  "kernelspec": {
   "display_name": "Python 3.8.8 ('base')",
   "language": "python",
   "name": "python3"
  },
  "language_info": {
   "codemirror_mode": {
    "name": "ipython",
    "version": 3
   },
   "file_extension": ".py",
   "mimetype": "text/x-python",
   "name": "python",
   "nbconvert_exporter": "python",
   "pygments_lexer": "ipython3",
   "version": "3.8.8"
  },
  "orig_nbformat": 4
 },
 "nbformat": 4,
 "nbformat_minor": 2
}
