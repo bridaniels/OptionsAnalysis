{
 "cells": [
  {
   "cell_type": "markdown",
   "id": "ae2df59f-2bc1-47da-9999-3aed843e730d",
   "metadata": {},
   "source": [
    "---\n",
    "---\n",
    "# **Black Scholes**\n",
    "---\n",
    "---"
   ]
  },
  {
   "cell_type": "markdown",
   "id": "4f51a780-9ac9-47cc-bdec-8d01807a69d1",
   "metadata": {},
   "source": [
    "#### Import Libraries "
   ]
  },
  {
   "cell_type": "code",
   "execution_count": 1,
   "id": "7e1eaf4e-9600-4735-b451-ad63a20e7c88",
   "metadata": {},
   "outputs": [],
   "source": [
    "import pandas as pd\n",
    "import numpy as np \n",
    "\n",
    "from pandas_datareader import data as web\n",
    "from datetime import datetime,date\n",
    "from scipy.stats import norm\n",
    "from math import log, sqrt, pi, exp"
   ]
  },
  {
   "cell_type": "markdown",
   "id": "11d95ee6-dd2f-4048-846a-fa4f29332387",
   "metadata": {},
   "source": [
    "### Define Variables"
   ]
  },
  {
   "cell_type": "code",
   "execution_count": 2,
   "id": "a68340f9-b502-4309-b0b5-fe300a14fa2f",
   "metadata": {},
   "outputs": [],
   "source": [
    "stock = 'SPY'\n",
    "expiration = '12-18-2022'\n",
    "strike_price = 370"
   ]
  },
  {
   "cell_type": "markdown",
   "id": "f537b89b-4681-4085-9ab1-3eb4e3c6595e",
   "metadata": {},
   "source": [
    "### Import Data"
   ]
  },
  {
   "cell_type": "code",
   "execution_count": 3,
   "id": "c2dba161-ac7c-4b91-b410-b4d40e7d7c9e",
   "metadata": {},
   "outputs": [
    {
     "name": "stdout",
     "output_type": "stream",
     "text": [
      "<class 'pandas.core.frame.DataFrame'>\n",
      "DatetimeIndex: 253 entries, 2021-04-29 to 2022-04-28\n",
      "Data columns (total 8 columns):\n",
      " #   Column            Non-Null Count  Dtype  \n",
      "---  ------            --------------  -----  \n",
      " 0   High              253 non-null    float64\n",
      " 1   Low               253 non-null    float64\n",
      " 2   Open              253 non-null    float64\n",
      " 3   Close             253 non-null    float64\n",
      " 4   Volume            253 non-null    float64\n",
      " 5   Adj Close         253 non-null    float64\n",
      " 6   close_day_before  252 non-null    float64\n",
      " 7   returns           252 non-null    float64\n",
      "dtypes: float64(8)\n",
      "memory usage: 17.8 KB\n"
     ]
    }
   ],
   "source": [
    "today = datetime.now()\n",
    "one_yr_ago = today.replace(year=today.year-1)\n",
    "\n",
    "df = web.DataReader(name=stock, data_source='yahoo', start=one_yr_ago, end=today)\n",
    "df = df.sort_values(by='Date')\n",
    "df = df.dropna()\n",
    "\n",
    "df = df.assign(close_day_before=df.Close.shift(1))\n",
    "df['returns'] = ((df.Close-df.close_day_before) / df.close_day_before)\n",
    "\n",
    "df.info()"
   ]
  },
  {
   "cell_type": "markdown",
   "id": "954ff0c9-17f9-4456-b212-0cf2efde5acd",
   "metadata": {},
   "source": [
    "---\n",
    "## Collecting Variables\n",
    "---"
   ]
  },
  {
   "cell_type": "code",
   "execution_count": 4,
   "id": "634eb82e-4aa1-439b-ab9e-73f215b3d093",
   "metadata": {},
   "outputs": [
    {
     "name": "stdout",
     "output_type": "stream",
     "text": [
      "SPY Black Scholes Variables Are:\n",
      "Volatility:  0.15948160363892538\n",
      "Risk-Free Rate:  0.0286299991607666\n",
      "Current Price:  427.80999755859375\n",
      "Time to Maturity:  0.6383561643835617\n",
      "\n",
      "\n",
      "Determined via Biased Analysis:\n",
      "Strike Price:  370\n"
     ]
    }
   ],
   "source": [
    "# σ = volatility (σ is lowercase)\n",
    "sigma = np.sqrt(252) * df['returns'].std()\n",
    "\n",
    "# r = risk-free rate (10-yr U.S. Treasury Yield, can get from ^TNX)\n",
    "usTY10 = '^TNX'\n",
    "riskFree = (web.DataReader(name=usTY10, data_source='yahoo', start=today.replace(day=today.day-1), end=today)['Close'].iloc[-1])/100\n",
    "\n",
    "# s = Current Stock Price (spot price, or last close price )\n",
    "lastCloseP = df['Close'].iloc[-1]\n",
    "\n",
    "# t = Time To Maturity \n",
    "tMature = (datetime.strptime(expiration, \"%m-%d-%Y\") - datetime.utcnow()).days / 365\n",
    "\n",
    "\n",
    "print('{} Black Scholes Variables Are:'.format(stock),end='\\n')\n",
    "print('Volatility: ',sigma,end='\\n')\n",
    "print('Risk-Free Rate: ',riskFree,end='\\n')\n",
    "print('Current Price: ',lastCloseP,end='\\n')\n",
    "print('Time to Maturity: ',tMature,end='\\n')\n",
    "print('\\n')\n",
    "print('Determined via Biased Analysis:',end='\\n')\n",
    "print('Strike Price: ',strike_price,end='\\n')"
   ]
  },
  {
   "cell_type": "markdown",
   "id": "7c9ead60-b7b3-43d9-84cb-d0180f8319da",
   "metadata": {},
   "source": [
    "---\n",
    "## Calculate D1 and D2 Values \n",
    "---\n",
    "![BlackScholesFunction](data/black_scholes_formula.png)"
   ]
  },
  {
   "cell_type": "code",
   "execution_count": 5,
   "id": "beac9743-3e2f-4711-8291-300f71889207",
   "metadata": {},
   "outputs": [],
   "source": [
    "def d1(s,k,t,r,sigma):\n",
    "    return(log(s/k) + (r+sigma**2/2) * t) / (sigma*sqrt(t))\n",
    "\n",
    "def d2(s,k,t,r,sigma):\n",
    "    return d1(s,k,t,r,sigma) - sigma*sqrt(t)\n",
    "\n",
    "def d22(s,k,t,r,sigma):\n",
    "    return (log(s/k) + (r - sigma**2/2) * t)/ (sigma*sqrt(t))"
   ]
  },
  {
   "cell_type": "code",
   "execution_count": 6,
   "id": "7e01f61f-782d-4ae7-9a27-f2d3b2c7aa5c",
   "metadata": {},
   "outputs": [
    {
     "name": "stdout",
     "output_type": "stream",
     "text": [
      "Derivative 1: 1.3464809910807405\n",
      "Derivative 2: 1.2190596644800977\n",
      "Derivative22: 1.219059664480098\n"
     ]
    }
   ],
   "source": [
    "print('Derivative 1: {}'.format(d1(lastCloseP, strike_price, tMature, riskFree, sigma)))\n",
    "print('Derivative 2: {}'.format(d2(lastCloseP, strike_price, tMature, riskFree, sigma)))\n",
    "print('Derivative22: {}'.format(d22(lastCloseP, strike_price, tMature, riskFree, sigma)))"
   ]
  },
  {
   "cell_type": "markdown",
   "id": "0927c49c-f226-43a9-97f7-9e9e23a4f397",
   "metadata": {},
   "source": [
    "---\n",
    "## Black Scholes: Call Option\n",
    "---"
   ]
  },
  {
   "cell_type": "code",
   "execution_count": 7,
   "id": "22fa8c0c-c19e-4244-a4a8-be9107fbdcaa",
   "metadata": {},
   "outputs": [],
   "source": [
    "def bs_call(s,k,t,r,sigma):\n",
    "    return s*norm.cdf(d1(s,k,t,r,sigma)) - k*exp(-r*t)*norm.cdf(d2(s,k,t,r,sigma))"
   ]
  },
  {
   "cell_type": "code",
   "execution_count": 8,
   "id": "c0f52c10-f70e-4ff0-9e70-10947690460c",
   "metadata": {},
   "outputs": [
    {
     "name": "stdout",
     "output_type": "stream",
     "text": [
      "Call Option: 66.87957058462212\n"
     ]
    }
   ],
   "source": [
    "callOption = bs_call(lastCloseP, strike_price, tMature, riskFree, sigma)\n",
    "\n",
    "print('Call Option: {}'.format(callOption))"
   ]
  },
  {
   "cell_type": "markdown",
   "id": "87f217cf-2419-48cb-a9d1-c4191f31b9ff",
   "metadata": {},
   "source": [
    "---\n",
    "## Black Scholes: Put Option\n",
    "---"
   ]
  },
  {
   "cell_type": "code",
   "execution_count": 9,
   "id": "c040ef24-e6be-48f9-8737-17f4cc2ee3c4",
   "metadata": {},
   "outputs": [],
   "source": [
    "def bs_put(s,k,t,r,sigma):\n",
    "    return k*exp(-r*t) - s+bs_call(s,k,t,r,sigma)"
   ]
  },
  {
   "cell_type": "code",
   "execution_count": 10,
   "id": "82cba8a7-9de2-40cd-af72-b6154a3e6982",
   "metadata": {},
   "outputs": [
    {
     "name": "stdout",
     "output_type": "stream",
     "text": [
      "Put Option: 2.3688209814717993\n"
     ]
    }
   ],
   "source": [
    "putOption = bs_put(lastCloseP, strike_price, tMature, riskFree, sigma)\n",
    "\n",
    "print('Put Option: {}'.format(putOption))"
   ]
  },
  {
   "cell_type": "markdown",
   "id": "21cc534e-0e68-4627-b2f7-d780c4d46033",
   "metadata": {},
   "source": [
    "---\n",
    "## Black Scholes as a Single Function \n",
    "---"
   ]
  },
  {
   "cell_type": "code",
   "execution_count": 11,
   "id": "79fc44ee-a065-4236-a9c9-cf48371d4134",
   "metadata": {},
   "outputs": [],
   "source": [
    "def blackScholes(s,k,t,r,sigma,option='call'):\n",
    "    \n",
    "    d1 = (log(s/k) + (r + sigma**2/2) * t) / (sigma*sqrt(t))\n",
    "    d2 = (log(s/k) + (r - sigma**2/2) * t) / (sigma*sqrt(t))\n",
    "    \n",
    "    if option == 'call':\n",
    "        call = (s*norm.cdf(d1,0.0,1.0) - k*exp(-r*t) * norm.cdf(d2, 0.0, 1.0))\n",
    "        return call\n",
    "    if option == 'put':\n",
    "        put = (k*exp(-r*t) * norm.cdf(-d2, 0.0, 1.0) - s * norm.cdf(-d1, 0.0, 1.0))\n",
    "        return put "
   ]
  },
  {
   "cell_type": "code",
   "execution_count": 12,
   "id": "f3b83524-fd97-4c90-b839-22eae4b50504",
   "metadata": {},
   "outputs": [
    {
     "name": "stdout",
     "output_type": "stream",
     "text": [
      "Call Option:  66.87957058462212\n",
      "Put Option: 2.368820981471785\n"
     ]
    }
   ],
   "source": [
    "callSing = blackScholes(lastCloseP, strike_price, tMature, riskFree, sigma, option='call')\n",
    "putSing = blackScholes(lastCloseP, strike_price, tMature, riskFree, sigma, option='put')\n",
    "print('Call Option:  {}'.format(callSing))\n",
    "print('Put Option: {}'.format(putSing))"
   ]
  },
  {
   "cell_type": "markdown",
   "id": "b9c92bf6-9aa3-4ed1-a98f-67951dd629e1",
   "metadata": {},
   "source": [
    "--- \n",
    "---\n",
    "## Implied Volatility\n",
    "---\n",
    "---\n",
    "- expected future volatility of the stock over the life of the option \n",
    "- influenced by supply and demand of the underlying option and the market's expectation of the stock price's direction \n",
    "- calculated by solving the *Black Scholes* equation backwards for the (σ)volatility starting with option trading price \n",
    "- measure if prices are cheap or expensive \n",
    "- **High:** high-priced option premiums\n",
    "- **Low:** demand for option decreasing, prices decrease "
   ]
  },
  {
   "cell_type": "code",
   "execution_count": 13,
   "id": "73231ee3-5ae8-40c4-80f9-be4d5c9acee2",
   "metadata": {},
   "outputs": [],
   "source": [
    "vol_sigma = 0.001"
   ]
  },
  {
   "cell_type": "markdown",
   "id": "6e9c10a1-c1f7-41d9-9411-0ba9c7eb3b4a",
   "metadata": {},
   "source": [
    "### Call Option Implied Volatility "
   ]
  },
  {
   "cell_type": "code",
   "execution_count": 14,
   "id": "7a36e5d9-9bd0-4188-aa26-98c34e28b7f0",
   "metadata": {},
   "outputs": [],
   "source": [
    "def call_implied_volatility(price,sigma,s,k,t,r):\n",
    "    og_sig = sigma\n",
    "    while sigma < 1:\n",
    "        implied_p = s * norm.cdf(d1(s,k,t,r,sigma))-k*exp(-r*t) * norm.cdf(d2(s,k,t,r,sigma))\n",
    "        if price-implied_p < og_sig:\n",
    "            return sigma \n",
    "        sigma += og_sig\n",
    "    return \"Not Found\""
   ]
  },
  {
   "cell_type": "code",
   "execution_count": 15,
   "id": "971f7962-bd70-4cb9-8975-28cd88631ab7",
   "metadata": {},
   "outputs": [
    {
     "name": "stdout",
     "output_type": "stream",
     "text": [
      "Call Option Implied Volatility: 16.00000000000001%\n"
     ]
    }
   ],
   "source": [
    "call_IV = call_implied_volatility(callOption, vol_sigma, lastCloseP, strike_price, tMature, riskFree)\n",
    "\n",
    "print('Call Option Implied Volatility: {}%'.format(100*call_IV))"
   ]
  },
  {
   "cell_type": "markdown",
   "id": "94377f29-4656-4bdc-b46b-f74607f3d8e7",
   "metadata": {},
   "source": [
    "### Put Option Implied Volatility"
   ]
  },
  {
   "cell_type": "code",
   "execution_count": 16,
   "id": "a4bf24ea-e75d-4681-a5e0-d2bc59baa0b6",
   "metadata": {},
   "outputs": [],
   "source": [
    "def put_implied_volatility(price,sigma,s,k,t,r):\n",
    "    og_sig = sigma\n",
    "    while sigma < 1: \n",
    "        implied_p = k*exp(-r*t) - s + bs_call(s,k,t,r,sigma)\n",
    "        if price-implied_p < og_sig: \n",
    "            return sigma\n",
    "        sigma += og_sig\n",
    "    return \"Not Found\""
   ]
  },
  {
   "cell_type": "code",
   "execution_count": 17,
   "id": "678e228a-fe55-4a7a-aa71-e259f2c4c00e",
   "metadata": {},
   "outputs": [
    {
     "name": "stdout",
     "output_type": "stream",
     "text": [
      "Put Option Implied Volatility: 77.30000000000005%\n"
     ]
    }
   ],
   "source": [
    "put_IV = put_implied_volatility(callOption, vol_sigma, lastCloseP, strike_price, tMature, riskFree)\n",
    "\n",
    "print('Put Option Implied Volatility: {}%'.format(100*put_IV))"
   ]
  },
  {
   "cell_type": "code",
   "execution_count": null,
   "id": "b8aa210e-daed-420b-b12f-51cdcf362a53",
   "metadata": {},
   "outputs": [],
   "source": []
  }
 ],
 "metadata": {
  "kernelspec": {
   "display_name": "Python 3",
   "language": "python",
   "name": "python3"
  },
  "language_info": {
   "codemirror_mode": {
    "name": "ipython",
    "version": 3
   },
   "file_extension": ".py",
   "mimetype": "text/x-python",
   "name": "python",
   "nbconvert_exporter": "python",
   "pygments_lexer": "ipython3",
   "version": "3.8.8"
  }
 },
 "nbformat": 4,
 "nbformat_minor": 5
}
