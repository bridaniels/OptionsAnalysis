{
 "cells": [
  {
   "cell_type": "markdown",
   "id": "77fa945a-6db9-4a0b-ba05-640850029167",
   "metadata": {},
   "source": [
    "---\n",
    "---\n",
    "# Level of Underlying \n",
    "---\n",
    "---"
   ]
  },
  {
   "cell_type": "markdown",
   "id": "08ee5db0-a621-4846-8343-ec3e28c6299f",
   "metadata": {},
   "source": [
    "### Import *.py* Files"
   ]
  },
  {
   "cell_type": "code",
   "execution_count": 1,
   "id": "29657db6-ce84-4dd8-a05f-cb7dbe6fa8d7",
   "metadata": {},
   "outputs": [
    {
     "name": "stdout",
     "output_type": "stream",
     "text": [
      "Stock: SPY \n",
      " Expiration: 12-18-2022 \n",
      " Strike Price: 370 \n",
      " Data Source: yahoo \n",
      "\n",
      "<class 'pandas.core.frame.DataFrame'>\n",
      "DatetimeIndex: 254 entries, 2021-05-04 to 2022-05-04\n",
      "Data columns (total 8 columns):\n",
      " #   Column            Non-Null Count  Dtype  \n",
      "---  ------            --------------  -----  \n",
      " 0   High              254 non-null    float64\n",
      " 1   Low               254 non-null    float64\n",
      " 2   Open              254 non-null    float64\n",
      " 3   Close             254 non-null    float64\n",
      " 4   Volume            254 non-null    float64\n",
      " 5   Adj Close         254 non-null    float64\n",
      " 6   close_day_before  253 non-null    float64\n",
      " 7   returns           253 non-null    float64\n",
      "dtypes: float64(8)\n",
      "memory usage: 17.9 KB\n",
      "None\n",
      " \n",
      "Variables: \n",
      " s = Last Close Price: 425.9200134277344 \n",
      " k = Strike Price: 370 \n",
      " t = Time to Maturity: 0.6219178082191781 \n",
      " r = Risk-Free-Rate: 0.029170000553131105 \n",
      " Sigma: 0.16490466876982768\n",
      "Risk-Adjusted Probability (d1): 1.2868141776289905 (d2): 1.1567674441899134\n",
      "Individual Functions: \n",
      " Call Option: 65.31208605503645 \n",
      " Put Option: 2.7402943116825895\n",
      "black_scholes(): \n",
      " Call Option: 65.31208605503645 \n",
      " Put Option: 2.7402943116825895\n"
     ]
    }
   ],
   "source": [
    "# only shows data first time - restart kernel \n",
    "import CONFIG as c\n",
    "import BLACK_SCHOLES as bs"
   ]
  },
  {
   "cell_type": "markdown",
   "id": "ac96c3e0-1573-42b5-b3fc-816883ef4319",
   "metadata": {},
   "source": [
    "### Import Libraries\n",
    "- [datascience](https://github.com/data-8/datascience)\n",
    "- [ipywidgets](https://ipywidgets.readthedocs.io/en/latest/)"
   ]
  },
  {
   "cell_type": "code",
   "execution_count": 2,
   "id": "10c50f7b-0339-4b8d-b3c7-d75570697993",
   "metadata": {},
   "outputs": [],
   "source": [
    "import matplotlib \n",
    "import warnings \n",
    "\n",
    "import pandas as pd\n",
    "import numpy as np \n",
    "\n",
    "import matplotlib.pyplot as plt \n",
    "import ipywidgets as widgets\n",
    "\n",
    "from pandas_datareader import data as web\n",
    "from datetime import datetime,date\n",
    "from scipy.stats import norm\n",
    "from math import log, sqrt, pi, exp\n",
    "\n",
    "from datascience import *\n",
    "from ipywidgets import interact, interactive, fixed, interact_manual\n",
    "\n",
    "plt.style.use('fivethirtyeight')\n",
    "warnings.simplefilter('ignore', FutureWarning)\n",
    "%matplotlib inline"
   ]
  },
  {
   "cell_type": "markdown",
   "id": "b8526082-4874-4a11-a7ee-4de1ea881669",
   "metadata": {},
   "source": [
    "---\n",
    "---\n",
    "## Level of Underlying \n",
    "---\n",
    "---"
   ]
  },
  {
   "cell_type": "code",
   "execution_count": 3,
   "id": "b5cf3f8d-1ece-4014-bf48-1114f79e5c07",
   "metadata": {},
   "outputs": [
    {
     "data": {
      "text/plain": [
       "532.400016784668"
      ]
     },
     "execution_count": 3,
     "metadata": {},
     "output_type": "execute_result"
    }
   ],
   "source": [
    "last_price = bs.lastCloseP\n",
    "start_table = last_price - ((last_price/4)*2)\n",
    "end_table = last_price + (last_price/4)\n",
    "step_size = (last_price/2)//10\n",
    "end_table"
   ]
  },
  {
   "cell_type": "code",
   "execution_count": 4,
   "id": "f964e6c0-224a-405b-b5fe-5fbd863ca580",
   "metadata": {},
   "outputs": [],
   "source": [
    "new_table = Table().with_column(\"Level of Underlying\", np.arange(start_table,end_table,step_size))\n",
    "#new_table.show()"
   ]
  },
  {
   "cell_type": "code",
   "execution_count": 5,
   "id": "f0ffc594-6b1b-422e-93bb-78333c541aca",
   "metadata": {},
   "outputs": [
    {
     "data": {
      "text/plain": [
       "array([1.58847717e-04, 3.47597928e-03, 3.87067812e-02, 2.54790451e-01,\n",
       "       1.11045043e+00, 3.49884440e+00, 8.54469066e+00, 1.71042722e+01,\n",
       "       2.93620477e+01, 4.48289741e+01, 6.26594941e+01, 8.20036038e+01,\n",
       "       1.02207608e+02, 1.22852407e+02, 1.43704024e+02, 1.64645542e+02])"
      ]
     },
     "execution_count": 5,
     "metadata": {},
     "output_type": "execute_result"
    }
   ],
   "source": [
    "expiration_oneYR_arr = make_array()\n",
    "for price in np.arange(start_table,end_table,step_size):\n",
    "    if price == 0:\n",
    "        expiration_oneYR_arr = np.append(expiration_oneYR_arr,0)\n",
    "    else:\n",
    "        expiration_oneYR_arr = np.append(expiration_oneYR_arr, bs.black_scholes(price, c.strike_price, bs.tMature, bs.riskFree, bs.sigma, option='call'))\n",
    "\n",
    "expiration_oneYR_arr"
   ]
  },
  {
   "cell_type": "code",
   "execution_count": 6,
   "id": "c43a64d5-1097-4ed3-8a60-4e6c42f72f98",
   "metadata": {},
   "outputs": [
    {
     "data": {
      "text/html": [
       "<table border=\"1\" class=\"dataframe\">\n",
       "    <thead>\n",
       "        <tr>\n",
       "            <th>Level of Underlying</th> <th>Time to Expiration of One Year</th>\n",
       "        </tr>\n",
       "    </thead>\n",
       "    <tbody>\n",
       "        <tr>\n",
       "            <td>212.96             </td> <td>0.000158848                   </td>\n",
       "        </tr>\n",
       "        <tr>\n",
       "            <td>233.96             </td> <td>0.00347598                    </td>\n",
       "        </tr>\n",
       "        <tr>\n",
       "            <td>254.96             </td> <td>0.0387068                     </td>\n",
       "        </tr>\n",
       "        <tr>\n",
       "            <td>275.96             </td> <td>0.25479                       </td>\n",
       "        </tr>\n",
       "        <tr>\n",
       "            <td>296.96             </td> <td>1.11045                       </td>\n",
       "        </tr>\n",
       "        <tr>\n",
       "            <td>317.96             </td> <td>3.49884                       </td>\n",
       "        </tr>\n",
       "        <tr>\n",
       "            <td>338.96             </td> <td>8.54469                       </td>\n",
       "        </tr>\n",
       "        <tr>\n",
       "            <td>359.96             </td> <td>17.1043                       </td>\n",
       "        </tr>\n",
       "        <tr>\n",
       "            <td>380.96             </td> <td>29.362                        </td>\n",
       "        </tr>\n",
       "        <tr>\n",
       "            <td>401.96             </td> <td>44.829                        </td>\n",
       "        </tr>\n",
       "        <tr>\n",
       "            <td>422.96             </td> <td>62.6595                       </td>\n",
       "        </tr>\n",
       "        <tr>\n",
       "            <td>443.96             </td> <td>82.0036                       </td>\n",
       "        </tr>\n",
       "        <tr>\n",
       "            <td>464.96             </td> <td>102.208                       </td>\n",
       "        </tr>\n",
       "        <tr>\n",
       "            <td>485.96             </td> <td>122.852                       </td>\n",
       "        </tr>\n",
       "        <tr>\n",
       "            <td>506.96             </td> <td>143.704                       </td>\n",
       "        </tr>\n",
       "        <tr>\n",
       "            <td>527.96             </td> <td>164.646                       </td>\n",
       "        </tr>\n",
       "    </tbody>\n",
       "</table>"
      ],
      "text/plain": [
       "<IPython.core.display.HTML object>"
      ]
     },
     "metadata": {},
     "output_type": "display_data"
    }
   ],
   "source": [
    "new_table = new_table.with_column(\"Time to Expiration of One Year\", expiration_oneYR_arr)\n",
    "new_table.show()"
   ]
  },
  {
   "cell_type": "code",
   "execution_count": 7,
   "id": "f915ffe7-783b-43a0-9f8c-24c4e291e3df",
   "metadata": {},
   "outputs": [
    {
     "data": {
      "text/plain": [
       "array([  0.        ,   0.        ,   0.        ,   0.        ,\n",
       "         0.        ,   0.        ,   0.        ,   0.        ,\n",
       "        10.96000779,  31.96000779,  52.96000779,  73.96000779,\n",
       "        94.96000779, 115.96000779, 136.96000779, 157.96000779])"
      ]
     },
     "execution_count": 7,
     "metadata": {},
     "output_type": "execute_result"
    }
   ],
   "source": [
    "no_expiration = make_array()\n",
    "noExpire = 0.0000001\n",
    "for price in np.arange(start_table,end_table,step_size):\n",
    "    if price == 0: \n",
    "        no_expiration = np.append(no_expiration, 0)\n",
    "    else: \n",
    "        no_expiration = np.append(no_expiration, bs.black_scholes(price, c.strike_price, noExpire, bs.riskFree, bs.sigma, option='call'))\n",
    "        \n",
    "no_expiration"
   ]
  },
  {
   "cell_type": "code",
   "execution_count": 8,
   "id": "5b4d205c-48c0-4f38-939c-378e3144583e",
   "metadata": {},
   "outputs": [
    {
     "data": {
      "text/html": [
       "<table border=\"1\" class=\"dataframe\">\n",
       "    <thead>\n",
       "        <tr>\n",
       "            <th>Level of Underlying</th> <th>Time to Expiration of One Year</th> <th>Time to Expiration of None</th>\n",
       "        </tr>\n",
       "    </thead>\n",
       "    <tbody>\n",
       "        <tr>\n",
       "            <td>212.96             </td> <td>0.000158848                   </td> <td>0                         </td>\n",
       "        </tr>\n",
       "        <tr>\n",
       "            <td>233.96             </td> <td>0.00347598                    </td> <td>0                         </td>\n",
       "        </tr>\n",
       "        <tr>\n",
       "            <td>254.96             </td> <td>0.0387068                     </td> <td>0                         </td>\n",
       "        </tr>\n",
       "        <tr>\n",
       "            <td>275.96             </td> <td>0.25479                       </td> <td>0                         </td>\n",
       "        </tr>\n",
       "        <tr>\n",
       "            <td>296.96             </td> <td>1.11045                       </td> <td>0                         </td>\n",
       "        </tr>\n",
       "        <tr>\n",
       "            <td>317.96             </td> <td>3.49884                       </td> <td>0                         </td>\n",
       "        </tr>\n",
       "        <tr>\n",
       "            <td>338.96             </td> <td>8.54469                       </td> <td>0                         </td>\n",
       "        </tr>\n",
       "        <tr>\n",
       "            <td>359.96             </td> <td>17.1043                       </td> <td>0                         </td>\n",
       "        </tr>\n",
       "        <tr>\n",
       "            <td>380.96             </td> <td>29.362                        </td> <td>10.96                     </td>\n",
       "        </tr>\n",
       "        <tr>\n",
       "            <td>401.96             </td> <td>44.829                        </td> <td>31.96                     </td>\n",
       "        </tr>\n",
       "        <tr>\n",
       "            <td>422.96             </td> <td>62.6595                       </td> <td>52.96                     </td>\n",
       "        </tr>\n",
       "        <tr>\n",
       "            <td>443.96             </td> <td>82.0036                       </td> <td>73.96                     </td>\n",
       "        </tr>\n",
       "        <tr>\n",
       "            <td>464.96             </td> <td>102.208                       </td> <td>94.96                     </td>\n",
       "        </tr>\n",
       "        <tr>\n",
       "            <td>485.96             </td> <td>122.852                       </td> <td>115.96                    </td>\n",
       "        </tr>\n",
       "        <tr>\n",
       "            <td>506.96             </td> <td>143.704                       </td> <td>136.96                    </td>\n",
       "        </tr>\n",
       "        <tr>\n",
       "            <td>527.96             </td> <td>164.646                       </td> <td>157.96                    </td>\n",
       "        </tr>\n",
       "    </tbody>\n",
       "</table>"
      ],
      "text/plain": [
       "<IPython.core.display.HTML object>"
      ]
     },
     "metadata": {},
     "output_type": "display_data"
    }
   ],
   "source": [
    "new_table = new_table.with_column(\"Time to Expiration of None\", no_expiration)\n",
    "new_table.show()"
   ]
  },
  {
   "cell_type": "code",
   "execution_count": 9,
   "id": "1ed50790-6a30-4941-a053-53d3248c5f78",
   "metadata": {},
   "outputs": [
    {
     "data": {
      "image/png": "[encoded data removed]",
      "text/plain": [
       "<Figure size 432x432 with 1 Axes>"
      ]
     },
     "metadata": {
      "needs_background": "light"
     },
     "output_type": "display_data"
    }
   ],
   "source": [
    "new_table.plot(\"Level of Underlying\")"
   ]
  },
  {
   "cell_type": "code",
   "execution_count": 10,
   "id": "0dc5edde-9974-40a8-918c-af1160f2e5ff",
   "metadata": {},
   "outputs": [
    {
     "data": {
      "text/plain": [
       "array([  1.65809793,   3.6491523 ,   6.98519803,  11.98842323,\n",
       "        18.86982547,  27.71136991,  38.47599865,  51.03459909,\n",
       "        65.19879533,  80.75155698,  97.47141838, 115.14912592,\n",
       "       133.59737916, 152.65516246, 172.188318  , 192.08780642])"
      ]
     },
     "execution_count": 10,
     "metadata": {},
     "output_type": "execute_result"
    }
   ],
   "source": [
    "exp_threeYr_arr = make_array()\n",
    "for price in np.arange(start_table,end_table,step_size):\n",
    "    threeYr = 3\n",
    "    if price == 0: \n",
    "        exp_threeYr_arr = np.append(exp_threeYr_arr, 0)\n",
    "    else: \n",
    "        exp_threeYr_arr = np.append(exp_threeYr_arr, bs.black_scholes(price, c.strike_price, threeYr, bs.riskFree, bs.sigma, option='call'))\n",
    "exp_threeYr_arr"
   ]
  },
  {
   "cell_type": "code",
   "execution_count": 11,
   "id": "d5770fd3-96c7-4a98-ba2a-e91d01ef230e",
   "metadata": {},
   "outputs": [
    {
     "data": {
      "text/html": [
       "<table border=\"1\" class=\"dataframe\">\n",
       "    <thead>\n",
       "        <tr>\n",
       "            <th>Level of Underlying</th> <th>Time to Expiration of One Year</th> <th>Time to Expiration of None</th> <th>Time to Expiration of Three Years</th>\n",
       "        </tr>\n",
       "    </thead>\n",
       "    <tbody>\n",
       "        <tr>\n",
       "            <td>212.96             </td> <td>0.000158848                   </td> <td>0                         </td> <td>1.6581                           </td>\n",
       "        </tr>\n",
       "        <tr>\n",
       "            <td>233.96             </td> <td>0.00347598                    </td> <td>0                         </td> <td>3.64915                          </td>\n",
       "        </tr>\n",
       "        <tr>\n",
       "            <td>254.96             </td> <td>0.0387068                     </td> <td>0                         </td> <td>6.9852                           </td>\n",
       "        </tr>\n",
       "        <tr>\n",
       "            <td>275.96             </td> <td>0.25479                       </td> <td>0                         </td> <td>11.9884                          </td>\n",
       "        </tr>\n",
       "        <tr>\n",
       "            <td>296.96             </td> <td>1.11045                       </td> <td>0                         </td> <td>18.8698                          </td>\n",
       "        </tr>\n",
       "        <tr>\n",
       "            <td>317.96             </td> <td>3.49884                       </td> <td>0                         </td> <td>27.7114                          </td>\n",
       "        </tr>\n",
       "        <tr>\n",
       "            <td>338.96             </td> <td>8.54469                       </td> <td>0                         </td> <td>38.476                           </td>\n",
       "        </tr>\n",
       "        <tr>\n",
       "            <td>359.96             </td> <td>17.1043                       </td> <td>0                         </td> <td>51.0346                          </td>\n",
       "        </tr>\n",
       "        <tr>\n",
       "            <td>380.96             </td> <td>29.362                        </td> <td>10.96                     </td> <td>65.1988                          </td>\n",
       "        </tr>\n",
       "        <tr>\n",
       "            <td>401.96             </td> <td>44.829                        </td> <td>31.96                     </td> <td>80.7516                          </td>\n",
       "        </tr>\n",
       "        <tr>\n",
       "            <td>422.96             </td> <td>62.6595                       </td> <td>52.96                     </td> <td>97.4714                          </td>\n",
       "        </tr>\n",
       "        <tr>\n",
       "            <td>443.96             </td> <td>82.0036                       </td> <td>73.96                     </td> <td>115.149                          </td>\n",
       "        </tr>\n",
       "        <tr>\n",
       "            <td>464.96             </td> <td>102.208                       </td> <td>94.96                     </td> <td>133.597                          </td>\n",
       "        </tr>\n",
       "        <tr>\n",
       "            <td>485.96             </td> <td>122.852                       </td> <td>115.96                    </td> <td>152.655                          </td>\n",
       "        </tr>\n",
       "        <tr>\n",
       "            <td>506.96             </td> <td>143.704                       </td> <td>136.96                    </td> <td>172.188                          </td>\n",
       "        </tr>\n",
       "        <tr>\n",
       "            <td>527.96             </td> <td>164.646                       </td> <td>157.96                    </td> <td>192.088                          </td>\n",
       "        </tr>\n",
       "    </tbody>\n",
       "</table>"
      ],
      "text/plain": [
       "<IPython.core.display.HTML object>"
      ]
     },
     "metadata": {},
     "output_type": "display_data"
    }
   ],
   "source": [
    "new_table = new_table.with_column(\"Time to Expiration of Three Years\", exp_threeYr_arr)\n",
    "new_table.show()"
   ]
  },
  {
   "cell_type": "code",
   "execution_count": 12,
   "id": "1d831451-df3d-4069-b32a-075c5931e5f5",
   "metadata": {},
   "outputs": [
    {
     "data": {
      "image/png": "[encoded data removed]",
      "text/plain": [
       "<Figure size 432x432 with 1 Axes>"
      ]
     },
     "metadata": {
      "needs_background": "light"
     },
     "output_type": "display_data"
    }
   ],
   "source": [
    "new_table.plot(\"Level of Underlying\")\n",
    "plt.title('Level of Underlying for {}'.format(c.stock))\n",
    "plt.xlabel('Level of Underlying (Arbitrary)')\n",
    "plt.ylabel('Price (Arbitrary)')\n",
    "\n",
    "plt.show()"
   ]
  },
  {
   "cell_type": "code",
   "execution_count": null,
   "id": "dd50c2e8-a427-46d7-b608-8fa410c7dd99",
   "metadata": {},
   "outputs": [],
   "source": []
  }
 ],
 "metadata": {
  "kernelspec": {
   "display_name": "Python 3",
   "language": "python",
   "name": "python3"
  },
  "language_info": {
   "codemirror_mode": {
    "name": "ipython",
    "version": 3
   },
   "file_extension": ".py",
   "mimetype": "text/x-python",
   "name": "python",
   "nbconvert_exporter": "python",
   "pygments_lexer": "ipython3",
   "version": "3.8.8"
  }
 },
 "nbformat": 4,
 "nbformat_minor": 5
}
