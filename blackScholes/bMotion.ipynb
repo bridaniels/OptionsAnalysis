{
 "cells": [
  {
   "cell_type": "markdown",
   "metadata": {},
   "source": [
    "# Geometric Brownian Motion\n",
    "---\n",
    "- stochastic process to help better define and expound upon Black-Scholes Model "
   ]
  },
  {
   "cell_type": "markdown",
   "metadata": {},
   "source": [
    "### Import *py* Libraries"
   ]
  },
  {
   "cell_type": "markdown",
   "metadata": {},
   "source": [
    "import CONFIG as c\n",
    "import BLACK_SCHOLES as bs"
   ]
  },
  {
   "cell_type": "code",
   "execution_count": 1,
   "metadata": {},
   "outputs": [
    {
     "name": "stdout",
     "output_type": "stream",
     "text": [
      "Stock: SPY \n",
      " Expiration: 12-18-2022 \n",
      " Strike Price: 370 \n",
      " Data Source: yahoo \n",
      "\n",
      "<class 'pandas.core.frame.DataFrame'>\n",
      "DatetimeIndex: 253 entries, 2021-05-03 to 2022-05-02\n",
      "Data columns (total 8 columns):\n",
      " #   Column            Non-Null Count  Dtype  \n",
      "---  ------            --------------  -----  \n",
      " 0   High              253 non-null    float64\n",
      " 1   Low               253 non-null    float64\n",
      " 2   Open              253 non-null    float64\n",
      " 3   Close             253 non-null    float64\n",
      " 4   Volume            253 non-null    float64\n",
      " 5   Adj Close         253 non-null    float64\n",
      " 6   close_day_before  252 non-null    float64\n",
      " 7   returns           252 non-null    float64\n",
      "dtypes: float64(8)\n",
      "memory usage: 17.8 KB\n",
      "None\n",
      " \n",
      "Variables: \n",
      " s = Last Close Price: 414.4800109863281 \n",
      " k = Strike Price: 370 \n",
      " t = Time to Maturity: 0.6273972602739726 \n",
      " r = Risk-Free-Rate: 0.02995999813079834 \n",
      " Sigma: 0.16369987620047677\n",
      "Risk-Adjusted Probability (d1): 1.0853040989892628 (d2): 0.9556400258693822\n",
      "Individual Functions: \n",
      " Call Option: 55.394606995077424 \n",
      " Put Option: 4.024728990447898\n",
      "black_scholes(): \n",
      " Call Option: 55.394606995077424 \n",
      " Put Option: 4.024728990447898\n"
     ]
    }
   ],
   "source": [
    "import CONFIG as c \n",
    "import BLACK_SCHOLES as bs "
   ]
  },
  {
   "cell_type": "markdown",
   "metadata": {},
   "source": [
    "### Import Libraries"
   ]
  },
  {
   "cell_type": "code",
   "execution_count": 2,
   "metadata": {},
   "outputs": [],
   "source": [
    "import pandas as pd\n",
    "import numpy as np \n",
    "import datetime as dt\n",
    "\n",
    "import matplotlib.pyplot as plt "
   ]
  },
  {
   "cell_type": "markdown",
   "metadata": {},
   "source": [
    "---\n",
    "---\n",
    "## Stochastic Differential Equation: \n",
    "---\n",
    "---\n",
    "#### Function: `dSt = r*Stdt + sigma*StdZt`\n",
    "##### Variables: \n",
    "> - St: index level at date *t*\n",
    "> - r: risk-free rate\n",
    "> - sigma: volatility \n",
    "> - Z: standard normally distributed random variable "
   ]
  },
  {
   "cell_type": "code",
   "execution_count": 3,
   "metadata": {},
   "outputs": [],
   "source": [
    "import BROWNIAN as b"
   ]
  },
  {
   "cell_type": "code",
   "execution_count": 4,
   "metadata": {},
   "outputs": [],
   "source": [
    "start_date = dt.datetime.now()\n",
    "init_val = bs.lastCloseP\n",
    "vol = bs.sigma\n",
    "final_date = c.one_yr_ago\n",
    "currency = 'USD'\n",
    "frequency = 'M'"
   ]
  },
  {
   "cell_type": "code",
   "execution_count": 5,
   "metadata": {},
   "outputs": [
    {
     "data": {
      "text/plain": [
       "<BROWNIAN.MarketEnvironment at 0x7fc22d29d3a0>"
      ]
     },
     "execution_count": 5,
     "metadata": {},
     "output_type": "execute_result"
    }
   ],
   "source": [
    "# MarketEnvironment\n",
    "def env_creation(day1,initval,volly,lastday,curr,freq,pth):\n",
    "    me_gbm = b.MarketEnvironment('me_gbm', start_date)\n",
    "\n",
    "    me_gbm.add_constant('initial_value', init_val)\n",
    "    me_gbm.add_constant('volatility', vol)\n",
    "    me_gbm.add_constant('final_date', final_date)\n",
    "    me_gbm.add_constant('currency', currency)\n",
    "    me_gbm.add_constant('frequency', frequency)\n",
    "    me_gbm.add_constant('paths', pth)\n",
    "\n",
    "    # ConstantShortRate\n",
    "    csr = b.ConstantShortRate('csr', 0.05)\n",
    "    me_gbm.add_curve('discount_curve', csr) \n",
    "    \n",
    "    return me_gbm\n",
    "\n",
    "\n",
    "prepped_env = env_creation(dt.datetime(2020,1,1),36,0.1,dt.datetime(2020,12,31),'EUR','M',10000)\n",
    "prepped_env"
   ]
  },
  {
   "cell_type": "code",
   "execution_count": 6,
   "metadata": {},
   "outputs": [
    {
     "name": "stdout",
     "output_type": "stream",
     "text": [
      "<BROWNIAN.GeometricBrownianMotion object at 0x7fc2307a3820>\n"
     ]
    },
    {
     "name": "stderr",
     "output_type": "stream",
     "text": [
      "/Users/CODEUSR/Documents/PROJECTS/finance/OptionsAnalysis/blackScholes/BROWNIAN.py:147: RuntimeWarning: invalid value encountered in sqrt\n",
      "  paths[t] = paths[t-1] * np.exp((short_rate - 0.5 * self.volatility**2) * dt + self.volatility*np.sqrt(dt)*ran)\n"
     ]
    }
   ],
   "source": [
    "# GeometricBrownian Motion\n",
    "def brownie(prepped_market_environment):\n",
    "    gbm = b.GeometricBrownianMotion('gbm', prepped_market_environment)\n",
    "\n",
    "    gbm.generate_time_grid()\n",
    "    paths_1 = gbm.get_instrument_values()\n",
    "    gbm.update(volatility=0.5)\n",
    "    paths_2 = gbm.get_instrument_values(fixed_seed=False)\n",
    "\n",
    "    return paths_1, paths_2, gbm \n",
    "\n",
    "plotting_brownie1, plotting_brownie2, new_brownies = brownie(prepped_env)\n",
    "#print('uno: \\n',plotting_brownie1)\n",
    "#print('dos: \\n',plotting_brownie2)\n",
    "print(new_brownies)"
   ]
  },
  {
   "cell_type": "code",
   "execution_count": null,
   "metadata": {},
   "outputs": [],
   "source": [
    "def plotting(uno, dos, market, filename, exportFig=False):\n",
    "    plt.figure(figsize=(12,6))\n",
    "    p1 = plt.plot(market.time_grid, uno[:,:15], 'b')\n",
    "    p2 = plt.plot(market.time_grid, dos[:,:15], 'r-.')\n",
    "\n",
    "    plt.grid(True)\n",
    "    plt.legend([p1[0],p2[0]],['Low Volatility', 'High Volatility'],loc=2)\n",
    "    plt.suptitle(\"Geometric Brownian Motion\",fontsize=15)\n",
    "    plt.xticks(rotation=30)\n",
    "\n",
    "    if exportFig == True: \n",
    "        plt.savefig('brownieCharts/png/{}.png'.format(filename)) #no title/tick marks\n",
    "        plt.savefig('brownieCharts/pdf/{}.pdf'.format(filename)) #title and tick marks\n",
    "        plt.savefig('brownieCharts/svg/{}.svg'.format(filename)) #able to zoom\n",
    "        plt.savefig('brownieCharts/jpeg/{}.jpeg'.format(filename)) #title and tick marks \n",
    "    else:\n",
    "        plt.show()\n",
    "\n",
    "plotting(plotting_brownie1, plotting_brownie2, new_brownies, 'example',exportFig=True)"
   ]
  },
  {
   "cell_type": "code",
   "execution_count": null,
   "metadata": {},
   "outputs": [],
   "source": []
  }
 ],
 "metadata": {
  "interpreter": {
   "hash": "08a0dfaf3fa74e1b9a1bb705dbe1b2708914f992320bdd77350db063c3b717dd"
  },
  "kernelspec": {
   "display_name": "Python 3",
   "language": "python",
   "name": "python3"
  },
  "language_info": {
   "codemirror_mode": {
    "name": "ipython",
    "version": 3
   },
   "file_extension": ".py",
   "mimetype": "text/x-python",
   "name": "python",
   "nbconvert_exporter": "python",
   "pygments_lexer": "ipython3",
   "version": "3.8.8"
  }
 },
 "nbformat": 4,
 "nbformat_minor": 4
}
