{
 "cells": [
  {
   "cell_type": "markdown",
   "id": "ae2df59f-2bc1-47da-9999-3aed843e730d",
   "metadata": {},
   "source": [
    "# **Black Scholes**\n",
    "---"
   ]
  },
  {
   "cell_type": "markdown",
   "id": "4f51a780-9ac9-47cc-bdec-8d01807a69d1",
   "metadata": {},
   "source": [
    "#### Import Libraries "
   ]
  },
  {
   "cell_type": "code",
   "execution_count": 1,
   "id": "7e1eaf4e-9600-4735-b451-ad63a20e7c88",
   "metadata": {},
   "outputs": [],
   "source": [
    "import pandas as pd\n",
    "import numpy as np \n",
    "\n",
    "from pandas_datareader import data as web\n",
    "from datetime import datetime,date\n",
    "from scipy.stats import norm\n",
    "from math import log, sqrt, pi, exp"
   ]
  },
  {
   "cell_type": "markdown",
   "id": "11d95ee6-dd2f-4048-846a-fa4f29332387",
   "metadata": {},
   "source": [
    "### Define Variables"
   ]
  },
  {
   "cell_type": "code",
   "execution_count": 2,
   "id": "a68340f9-b502-4309-b0b5-fe300a14fa2f",
   "metadata": {},
   "outputs": [],
   "source": [
    "stock = 'SPY'\n",
    "expiration = '12-18-2022'\n",
    "strike_price = 370"
   ]
  },
  {
   "cell_type": "markdown",
   "id": "f537b89b-4681-4085-9ab1-3eb4e3c6595e",
   "metadata": {},
   "source": [
    "### Import Data"
   ]
  },
  {
   "cell_type": "code",
   "execution_count": 3,
   "id": "c2dba161-ac7c-4b91-b410-b4d40e7d7c9e",
   "metadata": {},
   "outputs": [
    {
     "name": "stdout",
     "output_type": "stream",
     "text": [
      "<class 'pandas.core.frame.DataFrame'>\n",
      "DatetimeIndex: 253 entries, 2021-04-28 to 2022-04-27\n",
      "Data columns (total 8 columns):\n",
      " #   Column            Non-Null Count  Dtype  \n",
      "---  ------            --------------  -----  \n",
      " 0   High              253 non-null    float64\n",
      " 1   Low               253 non-null    float64\n",
      " 2   Open              253 non-null    float64\n",
      " 3   Close             253 non-null    float64\n",
      " 4   Volume            253 non-null    float64\n",
      " 5   Adj Close         253 non-null    float64\n",
      " 6   close_day_before  252 non-null    float64\n",
      " 7   returns           252 non-null    float64\n",
      "dtypes: float64(8)\n",
      "memory usage: 17.8 KB\n"
     ]
    }
   ],
   "source": [
    "today = datetime.now()\n",
    "one_yr_ago = today.replace(year=today.year-1)\n",
    "\n",
    "df = web.DataReader(name=stock, data_source='yahoo', start=one_yr_ago, end=today)\n",
    "df = df.sort_values(by='Date')\n",
    "df = df.dropna()\n",
    "\n",
    "df = df.assign(close_day_before=df.Close.shift(1))\n",
    "df['returns'] = ((df.Close-df.close_day_before) / df.close_day_before)\n",
    "\n",
    "df.info()"
   ]
  },
  {
   "cell_type": "markdown",
   "id": "954ff0c9-17f9-4456-b212-0cf2efde5acd",
   "metadata": {},
   "source": [
    "---\n",
    "## Collecting Variables\n",
    "---"
   ]
  },
  {
   "cell_type": "code",
   "execution_count": 4,
   "id": "634eb82e-4aa1-439b-ab9e-73f215b3d093",
   "metadata": {},
   "outputs": [
    {
     "name": "stdout",
     "output_type": "stream",
     "text": [
      "SPY Black Scholes Variables Are:\n",
      "Volatility:  0.1576001708979281\n",
      "Risk-Free Rate:  0.02818000078201294\n",
      "Current Price:  417.2699890136719\n",
      "Time to Maturity:  0.6383561643835617\n",
      "\n",
      "\n",
      "Determined via Biased Analysis:\n",
      "Strike Price:  370\n"
     ]
    }
   ],
   "source": [
    "# σ = volatility (σ is lowercase)\n",
    "sigma = np.sqrt(252) * df['returns'].std()\n",
    "\n",
    "# r = risk-free rate (10-yr U.S. Treasury Yield, can get from ^TNX)\n",
    "usTY10 = '^TNX'\n",
    "riskFree = (web.DataReader(name=usTY10, data_source='yahoo', start=today.replace(day=today.day-1), end=today)['Close'].iloc[-1])/100\n",
    "\n",
    "# s = Current Stock Price (spot price, or last close price )\n",
    "lastCloseP = df['Close'].iloc[-1]\n",
    "\n",
    "# t = Time To Maturity \n",
    "tMature = (datetime.strptime(expiration, \"%m-%d-%Y\") - datetime.utcnow()).days / 365\n",
    "\n",
    "\n",
    "print('{} Black Scholes Variables Are:'.format(stock),end='\\n')\n",
    "print('Volatility: ',sigma,end='\\n')\n",
    "print('Risk-Free Rate: ',riskFree,end='\\n')\n",
    "print('Current Price: ',lastCloseP,end='\\n')\n",
    "print('Time to Maturity: ',tMature,end='\\n')\n",
    "print('\\n')\n",
    "print('Determined via Biased Analysis:',end='\\n')\n",
    "print('Strike Price: ',strike_price,end='\\n')"
   ]
  },
  {
   "cell_type": "markdown",
   "id": "7c9ead60-b7b3-43d9-84cb-d0180f8319da",
   "metadata": {},
   "source": [
    "---\n",
    "## Calculate D1 and D2 Values \n",
    "---\n",
    "![BlackScholesFunction](data/black_scholes_formula.png)"
   ]
  },
  {
   "cell_type": "code",
   "execution_count": 5,
   "id": "beac9743-3e2f-4711-8291-300f71889207",
   "metadata": {},
   "outputs": [],
   "source": [
    "def d1(s,k,t,r,sigma):\n",
    "    return(log(s/k) + (r+sigma**2/2) * t) / (sigma*sqrt(t))\n",
    "\n",
    "def d2(s,k,t,r,sigma):\n",
    "    return d1(s,k,t,r,sigma) - sigma*sqrt(t)"
   ]
  },
  {
   "cell_type": "markdown",
   "id": "0927c49c-f226-43a9-97f7-9e9e23a4f397",
   "metadata": {},
   "source": [
    "---\n",
    "## Black Scholes: Call Option\n",
    "---"
   ]
  },
  {
   "cell_type": "code",
   "execution_count": 6,
   "id": "22fa8c0c-c19e-4244-a4a8-be9107fbdcaa",
   "metadata": {},
   "outputs": [],
   "source": [
    "def bs_call(s,k,t,r,sigma):\n",
    "    return s*norm.cdf(d1(s,k,t,r,sigma)) - k*exp(-r*t)*norm.cdf(d2(s,k,t,r,sigma))"
   ]
  },
  {
   "cell_type": "code",
   "execution_count": 7,
   "id": "c0f52c10-f70e-4ff0-9e70-10947690460c",
   "metadata": {},
   "outputs": [
    {
     "name": "stdout",
     "output_type": "stream",
     "text": [
      "Call Option: 57.24200706648833\n"
     ]
    }
   ],
   "source": [
    "callOption = bs_call(lastCloseP, strike_price, tMature, riskFree, sigma)\n",
    "\n",
    "print('Call Option: {}'.format(callOption))"
   ]
  },
  {
   "cell_type": "markdown",
   "id": "87f217cf-2419-48cb-a9d1-c4191f31b9ff",
   "metadata": {},
   "source": [
    "---\n",
    "## Black Scholes: Put Option\n",
    "---"
   ]
  },
  {
   "cell_type": "code",
   "execution_count": 8,
   "id": "c040ef24-e6be-48f9-8737-17f4cc2ee3c4",
   "metadata": {},
   "outputs": [],
   "source": [
    "def bs_put(s,k,t,r,sigma):\n",
    "    return k*exp(-r*t) - s+bs_call(s,k,t,r,sigma)"
   ]
  },
  {
   "cell_type": "code",
   "execution_count": 9,
   "id": "82cba8a7-9de2-40cd-af72-b6154a3e6982",
   "metadata": {},
   "outputs": [
    {
     "name": "stdout",
     "output_type": "stream",
     "text": [
      "Put Option: 3.3756420645468665\n"
     ]
    }
   ],
   "source": [
    "putOption = bs_put(lastCloseP, strike_price, tMature, riskFree, sigma)\n",
    "\n",
    "print('Put Option: {}'.format(putOption))"
   ]
  },
  {
   "cell_type": "markdown",
   "id": "b9c92bf6-9aa3-4ed1-a98f-67951dd629e1",
   "metadata": {},
   "source": [
    "--- \n",
    "## Implied Volatility\n",
    "---\n",
    "- expected future volatility of the stock over the life of the option \n",
    "- influenced by supply and demand of the underlying option and the market's expectation of the stock price's direction \n",
    "- calculated by solving the *Black Scholes* equation backwards for the (σ)volatility starting with option trading price \n",
    "- measure if prices are cheap or expensive \n",
    "- **High:** high-priced option premiums\n",
    "- **Low:** demand for option decreasing, prices decrease "
   ]
  },
  {
   "cell_type": "code",
   "execution_count": 10,
   "id": "73231ee3-5ae8-40c4-80f9-be4d5c9acee2",
   "metadata": {},
   "outputs": [],
   "source": [
    "vol_sigma = 0.001"
   ]
  },
  {
   "cell_type": "markdown",
   "id": "6e9c10a1-c1f7-41d9-9411-0ba9c7eb3b4a",
   "metadata": {},
   "source": [
    "#### Call Option Implied Volatility "
   ]
  },
  {
   "cell_type": "code",
   "execution_count": 11,
   "id": "7a36e5d9-9bd0-4188-aa26-98c34e28b7f0",
   "metadata": {},
   "outputs": [],
   "source": [
    "def call_implied_volatility(price,sigma,s,k,t,r):\n",
    "    og_sig = sigma\n",
    "    while sigma < 1:\n",
    "        implied_p = s * norm.cdf(d1(s,k,t,r,sigma))-k*exp(-r*t) * norm.cdf(d2(s,k,t,r,sigma))\n",
    "        if price-implied_p < og_sig:\n",
    "            return sigma \n",
    "        sigma += og_sig\n",
    "    return \"Not Found\""
   ]
  },
  {
   "cell_type": "code",
   "execution_count": 12,
   "id": "971f7962-bd70-4cb9-8975-28cd88631ab7",
   "metadata": {},
   "outputs": [
    {
     "name": "stdout",
     "output_type": "stream",
     "text": [
      "Call Option Implied Volatility: 15.800000000000011%\n"
     ]
    }
   ],
   "source": [
    "call_IV = call_implied_volatility(callOption, vol_sigma, lastCloseP, strike_price, tMature, riskFree)\n",
    "\n",
    "print('Call Option Implied Volatility: {}%'.format(100*call_IV))"
   ]
  },
  {
   "cell_type": "markdown",
   "id": "94377f29-4656-4bdc-b46b-f74607f3d8e7",
   "metadata": {},
   "source": [
    "### Put Option Implied Volatility"
   ]
  },
  {
   "cell_type": "code",
   "execution_count": 13,
   "id": "a4bf24ea-e75d-4681-a5e0-d2bc59baa0b6",
   "metadata": {},
   "outputs": [],
   "source": [
    "def put_implied_volatility(price,sigma,s,k,t,r):\n",
    "    og_sig = sigma\n",
    "    while sigma < 1: \n",
    "        implied_p = k*exp(-r*t) - s + bs_call(s,k,t,r,sigma)\n",
    "        if price-implied_p < og_sig: \n",
    "            return sigma\n",
    "        sigma += og_sig\n",
    "    return \"Not Found\""
   ]
  },
  {
   "cell_type": "code",
   "execution_count": 14,
   "id": "678e228a-fe55-4a7a-aa71-e259f2c4c00e",
   "metadata": {},
   "outputs": [
    {
     "name": "stdout",
     "output_type": "stream",
     "text": [
      "Put Option Implied Volatility: 66.30000000000005%\n"
     ]
    }
   ],
   "source": [
    "put_IV = put_implied_volatility(callOption, vol_sigma, lastCloseP, strike_price, tMature, riskFree)\n",
    "\n",
    "print('Put Option Implied Volatility: {}%'.format(100*put_IV))"
   ]
  },
  {
   "cell_type": "markdown",
   "id": "bc769551-61b0-4731-8157-97b64f331826",
   "metadata": {},
   "source": [
    "---\n",
    "---\n",
    "# **[GREEKS](greeks.ipynb)**\n",
    "---\n",
    "---\n",
    "## Greeks: Delta\n",
    "---\n",
    "- sensitivity of an option's price changes relative to the changes in underlying asset's prices "
   ]
  },
  {
   "cell_type": "code",
   "execution_count": 15,
   "id": "9c689953-d84b-469f-a15e-203b918a9156",
   "metadata": {},
   "outputs": [],
   "source": [
    "# Call Option: Delta\n",
    "def call_delta(s,k,t,r,sigma): \n",
    "    return norm.cdf(d1(s,k,t,r,sigma))\n",
    "\n",
    "# Put Option: Delta\n",
    "def put_delta(s,k,t,r,sigma): \n",
    "    return -norm.cdf(-d1(s,k,t,r,sigma))"
   ]
  },
  {
   "cell_type": "code",
   "execution_count": 16,
   "id": "4b01b684-11c7-452e-9256-fbd8e8a04b8c",
   "metadata": {},
   "outputs": [
    {
     "name": "stdout",
     "output_type": "stream",
     "text": [
      "Call Option Delta: 0.8771081359638118\n",
      "Put Option Delta: -0.12289186403618824\n"
     ]
    }
   ],
   "source": [
    "cDelta = call_delta(lastCloseP, strike_price, tMature, riskFree, sigma)\n",
    "pDelta = put_delta(lastCloseP, strike_price, tMature, riskFree, sigma)\n",
    "\n",
    "print('Call Option Delta: {}'.format(cDelta),end='\\n')\n",
    "print('Put Option Delta: {}'.format(pDelta),end='\\n')"
   ]
  },
  {
   "cell_type": "markdown",
   "id": "d04ec6cf-f4e8-4287-a465-c3c46c4880f7",
   "metadata": {},
   "source": [
    "## Greeks: Gamma\n",
    "---\n",
    "- Delta's cange relative to the changes in the price of the underlying asset "
   ]
  },
  {
   "cell_type": "code",
   "execution_count": 17,
   "id": "c6012462-c223-4b6b-8999-1fe0876b747e",
   "metadata": {},
   "outputs": [],
   "source": [
    "# Call Option: Gamma\n",
    "def call_gamma(s,k,t,r,sigma): \n",
    "    return norm.pdf(d1(s,k,t,r,sigma)) / (s*sigma*sqrt(t))\n",
    "\n",
    "# Put Option: Gamma\n",
    "def put_gamma(s,k,t,r,sigma): \n",
    "    return norm.pdf(d1(s,k,t,r,sigma)) / (s*sigma*sqrt(t))"
   ]
  },
  {
   "cell_type": "code",
   "execution_count": 18,
   "id": "5de5ef0b-b18a-4fa1-b785-a244bcec93a7",
   "metadata": {},
   "outputs": [
    {
     "name": "stdout",
     "output_type": "stream",
     "text": [
      "Call Option Gamma: 0.003871534761025364\n",
      "Put Option Gamma: 0.003871534761025364\n"
     ]
    }
   ],
   "source": [
    "cGamma = call_gamma(lastCloseP, strike_price, tMature, riskFree, sigma)\n",
    "pGamma = put_gamma(lastCloseP, strike_price, tMature, riskFree, sigma)\n",
    "\n",
    "print('Call Option Gamma: {}'.format(cGamma),end='\\n')\n",
    "print('Put Option Gamma: {}'.format(pGamma),end='\\n')"
   ]
  },
  {
   "cell_type": "markdown",
   "id": "7f8ea21f-9f01-41b2-9f6e-458664ef6d6d",
   "metadata": {},
   "source": [
    "## Greeks: Vega\n",
    "---\n",
    "- sensitivity of an option price relative to the volatility of the underlying asset "
   ]
  },
  {
   "cell_type": "code",
   "execution_count": 19,
   "id": "c052db39-e335-44de-b9f9-91dab38da010",
   "metadata": {},
   "outputs": [],
   "source": [
    "# Call Option: Vega\n",
    "def call_vega(s,k,t,r,sigma): \n",
    "    return 0.01 * (s * norm.pdf(d1(s,k,t,r,sigma))*sqrt(t))\n",
    "\n",
    "# Put Option: Gamma\n",
    "def put_vega(s,k,t,r,sigma): \n",
    "    return 0.01 * (s * norm.pdf(d1(s,k,t,r,sigma))*sqrt(t))"
   ]
  },
  {
   "cell_type": "code",
   "execution_count": 20,
   "id": "3ccb3d73-9fa3-42d3-8d42-08db0206275d",
   "metadata": {},
   "outputs": [
    {
     "name": "stdout",
     "output_type": "stream",
     "text": [
      "Call Option Vega: 0.6781678612296412\n",
      "Put Option Vega: 0.6781678612296412\n"
     ]
    }
   ],
   "source": [
    "cVega = call_vega(lastCloseP, strike_price, tMature, riskFree, sigma)\n",
    "pVega = put_vega(lastCloseP, strike_price, tMature, riskFree, sigma)\n",
    "\n",
    "print('Call Option Vega: {}'.format(cVega),end='\\n')\n",
    "print('Put Option Vega: {}'.format(pVega),end='\\n')"
   ]
  },
  {
   "cell_type": "markdown",
   "id": "0c007347-7a57-4a7e-b472-cf07700ceb40",
   "metadata": {},
   "source": [
    "## Greeks: Theta\n",
    "---\n",
    "- sensitivity of option price relative to the option's time to maturity "
   ]
  },
  {
   "cell_type": "code",
   "execution_count": 21,
   "id": "96d25a16-159f-4830-8b86-fa48ab8672f7",
   "metadata": {},
   "outputs": [],
   "source": [
    "# Call Option: Theta\n",
    "def call_theta(s,k,t,r,sigma): \n",
    "    return 0.01 * (-(s * norm.pdf(d1(s,k,t,r,sigma))*sigma)/(2*sqrt(t)) - r*k*exp(-r*t)*norm.cdf(d2(s,k,t,r,sigma)))\n",
    "\n",
    "# Put Option: Theta\n",
    "def put_theta(s,k,t,r,sigma): \n",
    "    return 0.01 * (-(s * norm.pdf(d1(s,k,t,r,sigma))*sigma)/(2*sqrt(t)) + r*k*exp(-r*t)*norm.cdf(-d2(s,k,t,r,sigma)))"
   ]
  },
  {
   "cell_type": "code",
   "execution_count": 22,
   "id": "304d7b89-fe50-4c09-bfa3-b00fd545e447",
   "metadata": {},
   "outputs": [
    {
     "name": "stdout",
     "output_type": "stream",
     "text": [
      "Call Option Theta: -0.17071996973152526\n",
      "Put Option Theta: -0.06831282564315626\n"
     ]
    }
   ],
   "source": [
    "cTheta = call_theta(lastCloseP, strike_price, tMature, riskFree, sigma)\n",
    "pTheta = put_theta(lastCloseP, strike_price, tMature, riskFree, sigma)\n",
    "\n",
    "print('Call Option Theta: {}'.format(cTheta),end='\\n')\n",
    "print('Put Option Theta: {}'.format(pTheta),end='\\n')"
   ]
  },
  {
   "cell_type": "markdown",
   "id": "b6eba23f-d323-4352-a229-f259e6005a15",
   "metadata": {},
   "source": [
    "## Greeks: Rho\n",
    "---\n",
    "- sensitivity of the option price relative to interest rates"
   ]
  },
  {
   "cell_type": "code",
   "execution_count": 23,
   "id": "a6bca461-73a8-4cae-b337-7f855ffd027e",
   "metadata": {},
   "outputs": [],
   "source": [
    "# Call Option: Rho\n",
    "def call_rho(s,k,t,r,sigma): \n",
    "    return 0.01 * (k*t*exp(-r*t) * norm.cdf(d2(s,k,t,r,sigma)))\n",
    "\n",
    "# Put Option: Rho\n",
    "def put_rho(s,k,t,r,sigma): \n",
    "    return 0.01 * (-k*t*exp(-r*t) * norm.cdf(-d2(s,k,t,r,sigma)))"
   ]
  },
  {
   "cell_type": "code",
   "execution_count": 24,
   "id": "cc702f60-a0c6-4d00-9e05-1a98b225cd64",
   "metadata": {},
   "outputs": [
    {
     "name": "stdout",
     "output_type": "stream",
     "text": [
      "Call Option Rho: 1.9709176049174668\n",
      "Put Option Rho: -0.3488918305546755\n"
     ]
    }
   ],
   "source": [
    "cRho = call_rho(lastCloseP, strike_price, tMature, riskFree, sigma)\n",
    "pRho = put_rho(lastCloseP, strike_price, tMature, riskFree, sigma)\n",
    "\n",
    "print('Call Option Rho: {}'.format(cRho),end='\\n')\n",
    "print('Put Option Rho: {}'.format(pRho),end='\\n')"
   ]
  },
  {
   "cell_type": "code",
   "execution_count": null,
   "id": "e2d23371-6de3-41d3-aecf-fa1a70bfe5cf",
   "metadata": {},
   "outputs": [],
   "source": []
  }
 ],
 "metadata": {
  "kernelspec": {
   "display_name": "Python 3",
   "language": "python",
   "name": "python3"
  },
  "language_info": {
   "codemirror_mode": {
    "name": "ipython",
    "version": 3
   },
   "file_extension": ".py",
   "mimetype": "text/x-python",
   "name": "python",
   "nbconvert_exporter": "python",
   "pygments_lexer": "ipython3",
   "version": "3.8.8"
  }
 },
 "nbformat": 4,
 "nbformat_minor": 5
}
