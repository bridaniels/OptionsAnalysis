{
 "cells": [
  {
   "cell_type": "markdown",
   "id": "cf8ee8cd-5f60-4b2b-ba20-801a66305a2f",
   "metadata": {},
   "source": [
    "# **Geometric Brownian Motion**\n",
    "---\n",
    "- stochastic process to help better define and expound upon Black-Scholes Model "
   ]
  },
  {
   "cell_type": "markdown",
   "id": "9566c099-10f0-4b95-b586-ea4de498f099",
   "metadata": {},
   "source": [
    "### Import *.py* Libraries"
   ]
  },
  {
   "cell_type": "code",
   "execution_count": 1,
   "id": "0016c8bc-64ed-4653-9c96-9bfefeb55030",
   "metadata": {},
   "outputs": [
    {
     "name": "stdout",
     "output_type": "stream",
     "text": [
      "Stock: SPY \n",
      " Expiration: 12-18-2022 \n",
      " Strike Price: 370 \n",
      " Data Source: yahoo \n",
      "\n",
      "<class 'pandas.core.frame.DataFrame'>\n",
      "DatetimeIndex: 253 entries, 2021-04-29 to 2022-04-28\n",
      "Data columns (total 8 columns):\n",
      " #   Column            Non-Null Count  Dtype  \n",
      "---  ------            --------------  -----  \n",
      " 0   High              253 non-null    float64\n",
      " 1   Low               253 non-null    float64\n",
      " 2   Open              253 non-null    float64\n",
      " 3   Close             253 non-null    float64\n",
      " 4   Volume            253 non-null    float64\n",
      " 5   Adj Close         253 non-null    float64\n",
      " 6   close_day_before  252 non-null    float64\n",
      " 7   returns           252 non-null    float64\n",
      "dtypes: float64(8)\n",
      "memory usage: 17.8 KB\n",
      "None\n",
      " \n",
      "Variables: \n",
      " s = Last Close Price: 427.80999755859375 \n",
      " k = Strike Price: 370 \n",
      " t = Time to Maturity: 0.6383561643835617 \n",
      " r = Risk-Free-Rate: 0.0286299991607666 \n",
      " Sigma: 0.15948160363892538\n",
      "Risk-Adjusted Probability (d1): 1.3464809910807405 (d2): 1.2190596644800977\n",
      "Individual Functions: \n",
      " Call Option: 66.87957058462212 \n",
      " Put Option: 2.3688209814717993\n",
      "black_scholes(): \n",
      " Call Option: 66.87957058462212 \n",
      " Put Option: 2.3688209814717993\n"
     ]
    }
   ],
   "source": [
    "# only shows data first time - restart kernel \n",
    "import CONFIG as c\n",
    "import BLACK_SCHOLES as bs"
   ]
  },
  {
   "cell_type": "markdown",
   "id": "09f9dd94-16e2-4a6c-b1e8-462829104fde",
   "metadata": {},
   "source": [
    "### Import Libraries"
   ]
  },
  {
   "cell_type": "code",
   "execution_count": 18,
   "id": "1e1db302-6a41-4bfa-aebf-53d41ca4fdf4",
   "metadata": {},
   "outputs": [],
   "source": [
    "import pandas as pd\n",
    "import numpy as np \n",
    "\n",
    "from datetime import datetime,date\n",
    "from scipy.stats import norm\n",
    "from math import log, sqrt, pi, exp"
   ]
  },
  {
   "cell_type": "markdown",
   "id": "58f94130-732c-4bd0-8382-c00a42cd031b",
   "metadata": {},
   "source": [
    "---\n",
    "---\n",
    "## Stochastic Differential Equation: \n",
    "---\n",
    "---\n",
    "#### Function: `dSt = r*Stdt + sigma*StdZt`\n",
    "##### Variables: \n",
    "> - St: index level at date *t*\n",
    "> - r: risk-free rate\n",
    "> - sigma: volatility \n",
    "> - Z: standard normally distributed random variable "
   ]
  },
  {
   "cell_type": "code",
   "execution_count": 19,
   "id": "5cee9ed8-cd05-4836-a288-f996a25bf794",
   "metadata": {},
   "outputs": [],
   "source": [
    "# Class to Model Market Environment Relevant for Valuation \n",
    "class MarketEnvironment(object): \n",
    "    def __init__(self, name, pricing_date): \n",
    "        self.name = name\n",
    "        self.pricing_date = pricing_date\n",
    "        self.constants = {}\n",
    "        self.lists = {}\n",
    "        self.curves = {}\n",
    "        \n",
    "    def add_constant(self,key,constant): \n",
    "        self.constants[key] = constant \n",
    "    def get_constant(self,key): \n",
    "        return self.constants[key]\n",
    "    \n",
    "    def add_list(self, key, list_object): \n",
    "        self.lists[key] = list_object\n",
    "    def get_list(self, key):\n",
    "        return self.lists[key]\n",
    "    \n",
    "    def add_curve(self, key, curve): \n",
    "        self.curves[key] = curve\n",
    "    def get_curve(self, key): \n",
    "        return self.curves[key]\n",
    "    \n",
    "    def add_environment(self, env): \n",
    "        for key in env.constants: \n",
    "            self.constants[key] = env.constants[key]\n",
    "        for key in env.lists: \n",
    "            self.lists[key] = env.lists[key]\n",
    "        for key in env.curves: \n",
    "            self.curves[key] = env.curves[key]"
   ]
  },
  {
   "cell_type": "code",
   "execution_count": 28,
   "id": "595db150-0c97-45fb-9c7a-a8ae4d56d889",
   "metadata": {},
   "outputs": [],
   "source": [
    "# Simulation Class to Simulate Various Models\n",
    "class SimulationClass(object): \n",
    "    def __init__(self, name, mar_env, corr): \n",
    "        try: \n",
    "            self.name = name\n",
    "            self.pricing_date = mar_env.pricing_date\n",
    "            self.initial_value = mar_env.get_constant('initial_value')\n",
    "            self.volatility = mar_env.get_constant('volatility')\n",
    "            self.final_date = mar_env.get_constant('final_date')\n",
    "            self.currency = mar_env.get_constant('currency')\n",
    "            self.frequency = mar_env.get_constant('frequency')\n",
    "            self.paths = mar_env.get_constant('paths')\n",
    "            self.discount_curve = mar_env.get_constant('discount_curve')\n",
    "        \n",
    "            try: \n",
    "                self.time_grid = mar_env.get_list('time_grid')\n",
    "            except: \n",
    "                self.time_grid = None\n",
    "        \n",
    "            try: \n",
    "                self.special_dates = mar_env.get_list('special_dates')\n",
    "            except: \n",
    "                self.special_dates = []\n",
    "        \n",
    "            self.instrument_values = None\n",
    "            self.correlated = corr\n",
    "            if corr is True: \n",
    "                self.cholesky_matrix = mar_env.get_list('cholesky_matrix')\n",
    "                self.rn_set = mar_env.get_list('rn_set')[self.name]\n",
    "                self.random_numbers = mar_env.get_list('random_numbers')\n",
    "        except: \n",
    "            print(\"Error Parsing Market Environment\")\n",
    "            \n",
    "            \n",
    "        \n",
    "    def generate_time_grid(self): \n",
    "        start = self.pricing_date\n",
    "        end = self.final_date\n",
    "        \n",
    "        time_grid = pd.date_range(start=start, end=end, freq=self.frequency)\n",
    "        time_grid = list(time_grid)\n",
    "        \n",
    "        if start not in time_grid: \n",
    "            time_grid.insert(0,start)\n",
    "        if end not in time_grid:\n",
    "            time_grid.append(end)\n",
    "        if len(self.special_dates) > 0: \n",
    "            time_grid.extend(self.special_dates)\n",
    "            time_grid = list(set(time_grid))\n",
    "            time_grid.sort()\n",
    "        self.time_grid = np.array(time_grid) \n",
    "        \n",
    "        \n",
    "    def get_instrument_values(self, fixed_seed=True): \n",
    "        if self.instrument_values is None: \n",
    "            # self.generate_paths in GeometricBrownianMotion\n",
    "            self.generate_paths(fixed_seed=fixed_seed, day_count=365)\n",
    "        elif fixed_seed is False: \n",
    "            self.generate_paths(fixed_seed=fixed_seed, day_count=365)\n",
    "        return self.instrument_values"
   ]
  },
  {
   "cell_type": "code",
   "execution_count": 32,
   "id": "01ff4a86-bccf-42eb-9fff-4fb529f329ee",
   "metadata": {},
   "outputs": [],
   "source": [
    "# Generates Simulated Paths\n",
    "# Super Method -> calls SimulationClass\n",
    "class GeometricBrownianMotion(SimulationClass): \n",
    "    \n",
    "    def __init__(self, name, mar_env, corr=False): \n",
    "        super(GeometricBrownianMotion, self).__init__(name, mar_env, corr)\n",
    "        \n",
    "    \n",
    "    def update(self, initial_value=None, volatility=None, final_date=None): \n",
    "        if initial_value is not None: \n",
    "            self.initial_value = initial_value\n",
    "        if volatility is not None: \n",
    "            self.volatility = volatility\n",
    "        if final_date is not None: \n",
    "            self.final_date = final_date\n",
    "    \n",
    "    def generate_paths(self, fixed_seed=False, day_count=365):\n",
    "        if self.time_grid is None: \n",
    "            self.generate_time_grid()\n",
    "        \n",
    "        M = len(self.time_grid)\n",
    "        J = self.paths\n",
    "        paths = np.zeros((M,J))\n",
    "        \n",
    "        if not self.correlated: \n",
    "            rand = sn_random_numbers((1,M,J), fixed_seed=fixed_seed)\n",
    "        else: \n",
    "            rand = self.random_numbers\n",
    "        \n",
    "        short_rate = self.discount_curve.short_rate\n",
    "        for t in range(1, len(self.time_grid)):\n",
    "            if not self.correlated:\n",
    "                ran = rand[t]\n",
    "            else: \n",
    "                ran = np.dot(self.cholesky_matrix, rand[:, t, :])\n",
    "                ran = ran[self.rn_set]\n",
    "            dt = (self.time_grid[t] - self.time_grid[t-1]).days/day_count\n",
    "            paths[t] = paths[t-1] * np.exp((short_rate - 0.5 * self.volatility**2) * dt + self.volatility*np.sqrt(dt)*ran)\n",
    "        self.instrument_values = paths "
   ]
  },
  {
   "cell_type": "code",
   "execution_count": 33,
   "id": "fa142d5d-42d5-4cd5-865b-caa90af0b532",
   "metadata": {},
   "outputs": [],
   "source": [
    "class ConstantShortRate(object):\n",
    "    \n",
    "    def __init__(self, name, short_rate): \n",
    "        self.name=name\n",
    "        self.short_rate = short_rate \n",
    "        if short_rate < 0: \n",
    "            raise ValueError(\"Negative Short Rate\")\n",
    "            \n",
    "    def get_year_deltas(date_list, day_count=365): \n",
    "        start = min(date_list)\n",
    "        delta_list = [(date - start).days / day_count for date in date_list]\n",
    "        return np.array(delta_list)\n",
    "    \n",
    "    def get_discount_factors(self, date_list, dtobjects=True): \n",
    "        if dtobjects is true: \n",
    "            dlist = get_year_deltas(date_list)\n",
    "        else: \n",
    "            dlist = np.array(date_list)\n",
    "        dflist = np.exp(self.short_rate * -dlist)\n",
    "        return np.array((date_list, dflist)).T"
   ]
  },
  {
   "cell_type": "code",
   "execution_count": 34,
   "id": "96ab2836-334c-438a-823d-a876dfdce92c",
   "metadata": {},
   "outputs": [
    {
     "name": "stdout",
     "output_type": "stream",
     "text": [
      "Error Parsing Market Environment\n"
     ]
    },
    {
     "ename": "AttributeError",
     "evalue": "'GeometricBrownianMotion' object has no attribute 'special_dates'",
     "output_type": "error",
     "traceback": [
      "\u001b[0;31m---------------------------------------------------------------------------\u001b[0m",
      "\u001b[0;31mAttributeError\u001b[0m                            Traceback (most recent call last)",
      "\u001b[0;32m<ipython-input-34-cdec0bf386b0>\u001b[0m in \u001b[0;36m<module>\u001b[0;34m\u001b[0m\n\u001b[1;32m     13\u001b[0m \u001b[0mgbm\u001b[0m \u001b[0;34m=\u001b[0m \u001b[0mGeometricBrownianMotion\u001b[0m\u001b[0;34m(\u001b[0m\u001b[0;34m'gbm'\u001b[0m\u001b[0;34m,\u001b[0m \u001b[0mme_gbm\u001b[0m\u001b[0;34m)\u001b[0m\u001b[0;34m\u001b[0m\u001b[0;34m\u001b[0m\u001b[0m\n\u001b[1;32m     14\u001b[0m \u001b[0;34m\u001b[0m\u001b[0m\n\u001b[0;32m---> 15\u001b[0;31m \u001b[0mgbm\u001b[0m\u001b[0;34m.\u001b[0m\u001b[0mgenerate_time_grid\u001b[0m\u001b[0;34m(\u001b[0m\u001b[0;34m)\u001b[0m\u001b[0;34m\u001b[0m\u001b[0;34m\u001b[0m\u001b[0m\n\u001b[0m\u001b[1;32m     16\u001b[0m \u001b[0mpaths_1\u001b[0m \u001b[0;34m=\u001b[0m \u001b[0mgbm\u001b[0m\u001b[0;34m.\u001b[0m\u001b[0mget_instrument_values\u001b[0m\u001b[0;34m(\u001b[0m\u001b[0;34m)\u001b[0m\u001b[0;34m\u001b[0m\u001b[0;34m\u001b[0m\u001b[0m\n\u001b[1;32m     17\u001b[0m \u001b[0mgbm\u001b[0m\u001b[0;34m.\u001b[0m\u001b[0mupdate\u001b[0m\u001b[0;34m(\u001b[0m\u001b[0mvolatility\u001b[0m\u001b[0;34m=\u001b[0m\u001b[0;36m0.5\u001b[0m\u001b[0;34m)\u001b[0m\u001b[0;34m\u001b[0m\u001b[0;34m\u001b[0m\u001b[0m\n",
      "\u001b[0;32m<ipython-input-28-7de072b68380>\u001b[0m in \u001b[0;36mgenerate_time_grid\u001b[0;34m(self)\u001b[0m\n\u001b[1;32m     45\u001b[0m         \u001b[0;32mif\u001b[0m \u001b[0mend\u001b[0m \u001b[0;32mnot\u001b[0m \u001b[0;32min\u001b[0m \u001b[0mtime_grid\u001b[0m\u001b[0;34m:\u001b[0m\u001b[0;34m\u001b[0m\u001b[0;34m\u001b[0m\u001b[0m\n\u001b[1;32m     46\u001b[0m             \u001b[0mtime_grid\u001b[0m\u001b[0;34m.\u001b[0m\u001b[0mappend\u001b[0m\u001b[0;34m(\u001b[0m\u001b[0mend\u001b[0m\u001b[0;34m)\u001b[0m\u001b[0;34m\u001b[0m\u001b[0;34m\u001b[0m\u001b[0m\n\u001b[0;32m---> 47\u001b[0;31m         \u001b[0;32mif\u001b[0m \u001b[0mlen\u001b[0m\u001b[0;34m(\u001b[0m\u001b[0mself\u001b[0m\u001b[0;34m.\u001b[0m\u001b[0mspecial_dates\u001b[0m\u001b[0;34m)\u001b[0m \u001b[0;34m>\u001b[0m \u001b[0;36m0\u001b[0m\u001b[0;34m:\u001b[0m\u001b[0;34m\u001b[0m\u001b[0;34m\u001b[0m\u001b[0m\n\u001b[0m\u001b[1;32m     48\u001b[0m             \u001b[0mtime_grid\u001b[0m\u001b[0;34m.\u001b[0m\u001b[0mextend\u001b[0m\u001b[0;34m(\u001b[0m\u001b[0mself\u001b[0m\u001b[0;34m.\u001b[0m\u001b[0mspecial_dates\u001b[0m\u001b[0;34m)\u001b[0m\u001b[0;34m\u001b[0m\u001b[0;34m\u001b[0m\u001b[0m\n\u001b[1;32m     49\u001b[0m             \u001b[0mtime_grid\u001b[0m \u001b[0;34m=\u001b[0m \u001b[0mlist\u001b[0m\u001b[0;34m(\u001b[0m\u001b[0mset\u001b[0m\u001b[0;34m(\u001b[0m\u001b[0mtime_grid\u001b[0m\u001b[0;34m)\u001b[0m\u001b[0;34m)\u001b[0m\u001b[0;34m\u001b[0m\u001b[0;34m\u001b[0m\u001b[0m\n",
      "\u001b[0;31mAttributeError\u001b[0m: 'GeometricBrownianMotion' object has no attribute 'special_dates'"
     ]
    }
   ],
   "source": [
    "me_gbm = MarketEnvironment('me_gbm', datetime(2020,1,1))\n",
    "\n",
    "me_gbm.add_constant('initial_value',36)\n",
    "me_gbm.add_constant('volatility', 0.1)\n",
    "me_gbm.add_constant('final_date', datetime(2020,12,31))\n",
    "me_gbm.add_constant('currency', 'EUR')\n",
    "me_gbm.add_constant('frequency', 'M')\n",
    "me_gbm.add_constant('paths', 10000)\n",
    "\n",
    "csr = ConstantShortRate('csr', 0.05)\n",
    "me_gbm.add_curve('discount_curve', csr)\n",
    "\n",
    "gbm = GeometricBrownianMotion('gbm', me_gbm)\n",
    "\n",
    "gbm.generate_time_grid()\n",
    "paths_1 = gbm.get_instrument_values()\n",
    "gbm.update(volatility=0.5)\n",
    "paths_2 = gbm.get_instrument_values(fixed_seed=False)"
   ]
  },
  {
   "cell_type": "code",
   "execution_count": null,
   "id": "b135a97b-b78c-4a2e-b50d-b44cad448257",
   "metadata": {},
   "outputs": [],
   "source": []
  },
  {
   "cell_type": "code",
   "execution_count": null,
   "id": "94061e8c-428f-478f-82d4-9092ce00eb1a",
   "metadata": {},
   "outputs": [],
   "source": []
  }
 ],
 "metadata": {
  "kernelspec": {
   "display_name": "Python 3",
   "language": "python",
   "name": "python3"
  },
  "language_info": {
   "codemirror_mode": {
    "name": "ipython",
    "version": 3
   },
   "file_extension": ".py",
   "mimetype": "text/x-python",
   "name": "python",
   "nbconvert_exporter": "python",
   "pygments_lexer": "ipython3",
   "version": "3.8.8"
  }
 },
 "nbformat": 4,
 "nbformat_minor": 5
}
