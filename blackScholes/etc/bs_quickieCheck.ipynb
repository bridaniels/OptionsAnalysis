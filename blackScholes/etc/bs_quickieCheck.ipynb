{
 "cells": [
  {
   "cell_type": "markdown",
   "id": "ff154e99-66d8-4d43-9dcc-e5d7c3937d82",
   "metadata": {},
   "source": [
    "# Black Scholes Quickie\n",
    "---"
   ]
  },
  {
   "cell_type": "code",
   "execution_count": 1,
   "id": "759e6dd6-4a62-45e0-8459-351bab5e6ac5",
   "metadata": {},
   "outputs": [
    {
     "name": "stdout",
     "output_type": "stream",
     "text": [
      "Stock: SPY \n",
      " Expiration: 12-18-2022 \n",
      " Strike Price: 370 \n",
      " Data Source: yahoo \n",
      "\n",
      "<class 'pandas.core.frame.DataFrame'>\n",
      "DatetimeIndex: 253 entries, 2021-04-29 to 2022-04-28\n",
      "Data columns (total 8 columns):\n",
      " #   Column            Non-Null Count  Dtype  \n",
      "---  ------            --------------  -----  \n",
      " 0   High              253 non-null    float64\n",
      " 1   Low               253 non-null    float64\n",
      " 2   Open              253 non-null    float64\n",
      " 3   Close             253 non-null    float64\n",
      " 4   Volume            253 non-null    float64\n",
      " 5   Adj Close         253 non-null    float64\n",
      " 6   close_day_before  252 non-null    float64\n",
      " 7   returns           252 non-null    float64\n",
      "dtypes: float64(8)\n",
      "memory usage: 17.8 KB\n",
      "None\n",
      " \n",
      "Variables: \n",
      " s = Last Close Price: 427.80999755859375 \n",
      " k = Strike Price: 370 \n",
      " t = Time to Maturity: 0.6383561643835617 \n",
      " r = Risk-Free-Rate: 0.0286299991607666 \n",
      " Sigma: 0.15948160363892538\n",
      "Risk-Adjusted Probability (d1): 1.3464809910807405 (d2): 1.2190596644800977\n",
      "Individual Functions: \n",
      " Call Option: 66.87957058462212 \n",
      " Put Option: 2.3688209814717993\n",
      "black_scholes(): \n",
      " Call Option: 66.87957058462212 \n",
      " Put Option: 2.3688209814717993\n"
     ]
    }
   ],
   "source": [
    "import CONFIG as c\n",
    "import BLACK_SCHOLES as bs"
   ]
  },
  {
   "cell_type": "code",
   "execution_count": 2,
   "id": "2e212d49-a24e-41cf-b894-5763c6e661b6",
   "metadata": {},
   "outputs": [
    {
     "name": "stdout",
     "output_type": "stream",
     "text": [
      "Stock: SPY \n",
      " Expiration: 12-18-2022 \n",
      " Strike Price: 370 \n",
      " Data Source: yahoo \n",
      "\n",
      "<class 'pandas.core.frame.DataFrame'>\n",
      "DatetimeIndex: 253 entries, 2021-04-29 to 2022-04-28\n",
      "Data columns (total 8 columns):\n",
      " #   Column            Non-Null Count  Dtype  \n",
      "---  ------            --------------  -----  \n",
      " 0   High              253 non-null    float64\n",
      " 1   Low               253 non-null    float64\n",
      " 2   Open              253 non-null    float64\n",
      " 3   Close             253 non-null    float64\n",
      " 4   Volume            253 non-null    float64\n",
      " 5   Adj Close         253 non-null    float64\n",
      " 6   close_day_before  252 non-null    float64\n",
      " 7   returns           252 non-null    float64\n",
      "dtypes: float64(8)\n",
      "memory usage: 17.8 KB\n",
      "None\n",
      " \n",
      "Variables: \n",
      " s = Last Close Price: 427.80999755859375 \n",
      " k = Strike Price: 370 \n",
      " t = Time to Maturity: 0.6383561643835617 \n",
      " r = Risk-Free-Rate: 0.0286299991607666 \n",
      " Sigma: 0.15948160363892538\n",
      "Risk-Adjusted Probability (d1): 1.3464809910807405 (d2): 1.2190596644800977\n",
      "Individual Functions: \n",
      " Call Option: 66.87957058462212 \n",
      " Put Option: 2.3688209814717993\n",
      "black_scholes(): \n",
      " Call Option: 66.87957058462212 \n",
      " Put Option: 2.3688209814717993\n"
     ]
    }
   ],
   "source": [
    "print('Stock: {} \\n Expiration: {} \\n Strike Price: {} \\n Data Source: {} \\n'.format(c.stock, c.expiration, c.strike_price, c.dataSource))\n",
    "print(bs.df.info(),end='\\n \\n')\n",
    "print('Variables: \\n s = Last Close Price: {} \\n k = Strike Price: {} \\n t = Time to Maturity: {} \\n r = Risk-Free-Rate: {} \\n Sigma: {}'.format(bs.lastCloseP, c.strike_price, bs.tMature, bs.riskFree, bs.sigma))\n",
    "print('Risk-Adjusted Probability (d1): {} (d2): {}'.format(bs.prob1,bs.prob2))\n",
    "print('Individual Functions: \\n Call Option: {} \\n Put Option: {}'.format(bs.callOption, bs.putOption))\n",
    "print('black_scholes(): \\n Call Option: {} \\n Put Option: {}'.format(bs.callWhole,bs.putWhole))"
   ]
  },
  {
   "cell_type": "code",
   "execution_count": null,
   "id": "a0a8fe7e-9922-45d2-8f98-043b860d980e",
   "metadata": {},
   "outputs": [],
   "source": []
  }
 ],
 "metadata": {
  "kernelspec": {
   "display_name": "Python 3",
   "language": "python",
   "name": "python3"
  },
  "language_info": {
   "codemirror_mode": {
    "name": "ipython",
    "version": 3
   },
   "file_extension": ".py",
   "mimetype": "text/x-python",
   "name": "python",
   "nbconvert_exporter": "python",
   "pygments_lexer": "ipython3",
   "version": "3.8.8"
  }
 },
 "nbformat": 4,
 "nbformat_minor": 5
}
