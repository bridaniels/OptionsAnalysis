{
 "cells": [
  {
   "cell_type": "markdown",
   "id": "6ed3f2fa-c9bd-4c43-99a8-b4fc01aca611",
   "metadata": {},
   "source": [
    "## [Level of Underlying](levelUnderlying.ipynb)"
   ]
  },
  {
   "cell_type": "code",
   "execution_count": 70,
   "id": "96a2b37c-c830-4dab-9192-11da235546e1",
   "metadata": {},
   "outputs": [],
   "source": [
    "class levelOfUnderlying():\n",
    "    \n",
    "    def __init__(self,s,k,t,r,sigma,option='call'):\n",
    "        self.s = s\n",
    "        self.k = k\n",
    "        self.t = t\n",
    "        self.r = r\n",
    "        self.sigma = sigma\n",
    "        self.option = option \n",
    "        \n",
    "    def oneYrExpiration(self,k,t,r,sigma,option): \n",
    "        exp_oneYr_arr = make_array()\n",
    "        for price in np.arange(0,101,10):\n",
    "            if price == 0: \n",
    "                exp_oneYr_arr = np.append(exp_oneYr_arr, 0)\n",
    "            else: \n",
    "                exp_oneYr_arr = np.append(exp, blackScholes(price, k, t, r, sigma, option='call'))\n",
    "        return exp_oneYr_arr\n",
    "    \n",
    "    def noExpiration(self,k,r,sigma,option):\n",
    "        no_exp_arr = make_array()\n",
    "        no_ex_time = 0.0000001\n",
    "        for price in np.arange(0,101,10):\n",
    "            if price == 0: \n",
    "                no_exp_arr = np.append(no_exp_arr, 0)\n",
    "            else: \n",
    "                no_exp_arr = np.append(no_exp_arr, blackScholes(price, k, no_ex_time, r, sigma, option='call'))\n",
    "        return no_exp_arr\n",
    "    \n",
    "    \n",
    "    def table(self): \n",
    "        new_table = Table().with_column(\"Level of Underlying\", np.arrange(0,101,10))\n",
    "        \n",
    "        oneYrExpiration(k,t,r,sigma,option)\n",
    "        noExpiration(k,r,sigma,option)\n",
    "        \n",
    "        new_table = new_table.with_column(\"Time to Expiration of One Year\", exp_oneYr_arr)\n",
    "        new_table = new_table.with_column(\"Time to Expiration of None\", no_exp_arr)\n",
    "        \n",
    "        return new_table.show(), new_table.plot(\"Level of Underlying\")\n",
    "            "
   ]
  },
  {
   "cell_type": "code",
   "execution_count": null,
   "id": "2f5d1518-be91-45b0-af6b-0912ba149ced",
   "metadata": {},
   "outputs": [],
   "source": []
  },
  {
   "cell_type": "code",
   "execution_count": null,
   "id": "23a21fd2-8599-44ac-9c45-83a5f086e1f1",
   "metadata": {},
   "outputs": [],
   "source": []
  },
  {
   "cell_type": "code",
   "execution_count": null,
   "id": "555c1c8d-b423-4f88-963b-2b5aef4b479b",
   "metadata": {},
   "outputs": [],
   "source": []
  },
  {
   "cell_type": "code",
   "execution_count": null,
   "id": "9216084d-b3a7-436a-b7e7-58706891d8d8",
   "metadata": {},
   "outputs": [],
   "source": []
  },
  {
   "cell_type": "code",
   "execution_count": null,
   "id": "b72bd93c-1839-4726-873d-174e5856c2da",
   "metadata": {},
   "outputs": [],
   "source": []
  },
  {
   "cell_type": "code",
   "execution_count": null,
   "id": "35231286-9a55-4a74-a64e-bb3725b54a55",
   "metadata": {},
   "outputs": [],
   "source": []
  },
  {
   "cell_type": "code",
   "execution_count": null,
   "id": "99e71f88-b47f-479b-8f2c-d523280868c5",
   "metadata": {},
   "outputs": [],
   "source": []
  },
  {
   "cell_type": "code",
   "execution_count": null,
   "id": "c9b71151-71d6-4a9d-bcf2-7f7e2a43480f",
   "metadata": {},
   "outputs": [],
   "source": []
  },
  {
   "cell_type": "code",
   "execution_count": null,
   "id": "e670d986-7ddc-479a-b590-065473da1620",
   "metadata": {},
   "outputs": [],
   "source": []
  }
 ],
 "metadata": {
  "kernelspec": {
   "display_name": "Python 3",
   "language": "python",
   "name": "python3"
  },
  "language_info": {
   "codemirror_mode": {
    "name": "ipython",
    "version": 3
   },
   "file_extension": ".py",
   "mimetype": "text/x-python",
   "name": "python",
   "nbconvert_exporter": "python",
   "pygments_lexer": "ipython3",
   "version": "3.8.8"
  }
 },
 "nbformat": 4,
 "nbformat_minor": 5
}
