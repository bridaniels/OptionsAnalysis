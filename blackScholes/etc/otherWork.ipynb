{
 "cells": [
  {
   "cell_type": "markdown",
   "id": "6ed3f2fa-c9bd-4c43-99a8-b4fc01aca611",
   "metadata": {},
   "source": [
    "## [Level of Underlying](levelUnderlying.ipynb)"
   ]
  },
  {
   "cell_type": "code",
   "execution_count": 70,
   "id": "96a2b37c-c830-4dab-9192-11da235546e1",
   "metadata": {},
   "outputs": [],
   "source": [
    "class levelOfUnderlying():\n",
    "    \n",
    "    def __init__(self,s,k,t,r,sigma,option='call'):\n",
    "        self.s = s\n",
    "        self.k = k\n",
    "        self.t = t\n",
    "        self.r = r\n",
    "        self.sigma = sigma\n",
    "        self.option = option \n",
    "        \n",
    "    def oneYrExpiration(self,k,t,r,sigma,option): \n",
    "        exp_oneYr_arr = make_array()\n",
    "        for price in np.arange(0,101,10):\n",
    "            if price == 0: \n",
    "                exp_oneYr_arr = np.append(exp_oneYr_arr, 0)\n",
    "            else: \n",
    "                exp_oneYr_arr = np.append(exp, blackScholes(price, k, t, r, sigma, option='call'))\n",
    "        return exp_oneYr_arr\n",
    "    \n",
    "    def noExpiration(self,k,r,sigma,option):\n",
    "        no_exp_arr = make_array()\n",
    "        no_ex_time = 0.0000001\n",
    "        for price in np.arange(0,101,10):\n",
    "            if price == 0: \n",
    "                no_exp_arr = np.append(no_exp_arr, 0)\n",
    "            else: \n",
    "                no_exp_arr = np.append(no_exp_arr, blackScholes(price, k, no_ex_time, r, sigma, option='call'))\n",
    "        return no_exp_arr\n",
    "    \n",
    "    \n",
    "    def table(self): \n",
    "        new_table = Table().with_column(\"Level of Underlying\", np.arrange(0,101,10))\n",
    "        \n",
    "        oneYrExpiration(k,t,r,sigma,option)\n",
    "        noExpiration(k,r,sigma,option)\n",
    "        \n",
    "        new_table = new_table.with_column(\"Time to Expiration of One Year\", exp_oneYr_arr)\n",
    "        new_table = new_table.with_column(\"Time to Expiration of None\", no_exp_arr)\n",
    "        \n",
    "        return new_table.show(), new_table.plot(\"Level of Underlying\")\n",
    "            "
   ]
  }
 ],
 "metadata": {
  "kernelspec": {
   "display_name": "Python 3",
   "language": "python",
   "name": "python3"
  },
  "language_info": {
   "codemirror_mode": {
    "name": "ipython",
    "version": 3
   },
   "file_extension": ".py",
   "mimetype": "text/x-python",
   "name": "python",
   "nbconvert_exporter": "python",
   "pygments_lexer": "ipython3",
   "version": "3.8.8"
  }
 },
 "nbformat": 4,
 "nbformat_minor": 5
}
