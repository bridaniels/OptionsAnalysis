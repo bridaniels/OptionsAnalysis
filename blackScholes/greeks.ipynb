{
 "cells": [
  {
   "cell_type": "markdown",
   "id": "b0f715b2-fd80-4c65-a5b8-a6922d66274d",
   "metadata": {},
   "source": [
    "# **Greeks**\n",
    "---\n",
    "- calculations you can use to measure different factors that might affect the price of an options contract \n",
    "- Delta, Gamma, Theta, Vega, and Rho"
   ]
  },
  {
   "cell_type": "markdown",
   "id": "1597e1a5-3f8b-4bd5-98e7-f30612d0f28a",
   "metadata": {},
   "source": [
    "#### Import Libraries "
   ]
  },
  {
   "cell_type": "code",
   "execution_count": 1,
   "id": "b2fee0a8-a4a8-4d32-9a42-4b2efcb56dfc",
   "metadata": {},
   "outputs": [],
   "source": [
    "import pandas as pd\n",
    "import numpy as np \n",
    "\n",
    "from pandas_datareader import data as web\n",
    "from datetime import datetime,date\n",
    "from scipy.stats import norm\n",
    "from math import log, sqrt, pi, exp"
   ]
  },
  {
   "cell_type": "markdown",
   "id": "2a38ff80-7a34-4e3d-b0c4-efb365b1570a",
   "metadata": {},
   "source": [
    "#### Define Variables"
   ]
  },
  {
   "cell_type": "code",
   "execution_count": 2,
   "id": "c1d0b067-5146-4609-9889-692e3fc6640a",
   "metadata": {},
   "outputs": [],
   "source": [
    "stock = 'SPY'\n",
    "expiration = '12-18-2022'\n",
    "strike_price = 370"
   ]
  },
  {
   "cell_type": "markdown",
   "id": "02b6cfad-0924-453c-8ec2-7b823c97a4f9",
   "metadata": {},
   "source": [
    "#### Import Data"
   ]
  },
  {
   "cell_type": "code",
   "execution_count": 3,
   "id": "c595468b-ad89-4cc5-8f56-00c5dc45d4d7",
   "metadata": {},
   "outputs": [],
   "source": [
    "today = datetime.now()\n",
    "one_yr_ago = today.replace(year=today.year-1)\n",
    "\n",
    "df = web.DataReader(name=stock, data_source='yahoo', start=one_yr_ago, end=today)\n",
    "df = df.sort_values(by='Date')\n",
    "df = df.dropna()\n",
    "\n",
    "df = df.assign(close_day_before=df.Close.shift(1))\n",
    "df['returns'] = ((df.Close-df.close_day_before) / df.close_day_before)\n",
    "\n",
    "# df.info()"
   ]
  },
  {
   "cell_type": "markdown",
   "id": "a13e8acf-cbd8-42af-a4ae-20b873fd15fb",
   "metadata": {},
   "source": [
    "### Collecting Variables"
   ]
  },
  {
   "cell_type": "code",
   "execution_count": 4,
   "id": "5d0e6f2b-53fa-4b8c-bc64-3cfcf77c4e32",
   "metadata": {},
   "outputs": [
    {
     "name": "stdout",
     "output_type": "stream",
     "text": [
      "0.15945891385385957 0.0286299991607666 427.75 0.6383561643835617\n"
     ]
    }
   ],
   "source": [
    "# σ = volatility (σ is lowercase)\n",
    "sigma = np.sqrt(252) * df['returns'].std()\n",
    "\n",
    "# r = risk-free rate (10-yr U.S. Treasury Yield, can get from ^TNX)\n",
    "usTY10 = '^TNX'\n",
    "riskFree = (web.DataReader(name=usTY10, data_source='yahoo', start=today.replace(day=today.day-1), end=today)['Close'].iloc[-1])/100\n",
    "\n",
    "# s = Current Stock Price (spot price, or last close price )\n",
    "lastCloseP = df['Close'].iloc[-1]\n",
    "\n",
    "# t = Time To Maturity \n",
    "tMature = (datetime.strptime(expiration, \"%m-%d-%Y\") - datetime.utcnow()).days / 365\n",
    "\n",
    "print(sigma, riskFree, lastCloseP, tMature)"
   ]
  },
  {
   "cell_type": "markdown",
   "id": "2fab95ce-af3c-488a-aabb-b521d3bf1c41",
   "metadata": {},
   "source": [
    "### D1, D2, and Black Scholes Functions"
   ]
  },
  {
   "cell_type": "code",
   "execution_count": 5,
   "id": "e9c249d5-62c0-4c9f-8a49-7bde4dc5c4f6",
   "metadata": {},
   "outputs": [],
   "source": [
    "def d1(s,k,t,r,sigma):\n",
    "    return(log(s/k) + (r+sigma**2/2) * t) / (sigma*sqrt(t))\n",
    "\n",
    "def d2(s,k,t,r,sigma):\n",
    "    return d1(s,k,t,r,sigma) - sigma*sqrt(t)\n",
    "\n",
    "derivative1 = d1(lastCloseP, strike_price, tMature, riskFree, sigma)\n",
    "derivative2 = d2(lastCloseP, strike_price, tMature, riskFree, sigma)\n",
    "\n",
    "def bs_call(s,k,t,r,sigma):\n",
    "    return s*norm.cdf(d1(s,k,t,r,sigma)) - k*exp(-r*t)*norm.cdf(d2(s,k,t,r,sigma))\n",
    "\n",
    "def bs_put(s,k,t,r,sigma):\n",
    "    return k*exp(-r*t) - s+bs_call(s,k,t,r,sigma)\n",
    "\n",
    "callOption = bs_call(lastCloseP, strike_price, tMature, riskFree, sigma)\n",
    "putOption = bs_put(lastCloseP, strike_price, tMature, riskFree, sigma)"
   ]
  },
  {
   "cell_type": "code",
   "execution_count": 6,
   "id": "cee8d0c8-4d62-4828-8ac8-cf33eaab6bc4",
   "metadata": {},
   "outputs": [
    {
     "name": "stdout",
     "output_type": "stream",
     "text": [
      "Derivative1: 1.3455535935159157\n",
      "Derivative2: 1.2181503954169146\n",
      "Call Option: 66.8236712469365\n",
      "Put Option: 2.372919202379933\n"
     ]
    }
   ],
   "source": [
    "print('Derivative1: {}'.format(derivative1))\n",
    "print('Derivative2: {}'.format(derivative2))\n",
    "print('Call Option: {}'.format(callOption))\n",
    "print('Put Option: {}'.format(putOption))"
   ]
  },
  {
   "cell_type": "markdown",
   "id": "aa3769a2-bea2-432f-b08d-eecbf5a2341e",
   "metadata": {},
   "source": [
    "## Delta\n",
    "---\n",
    "- sensitivity of an option's price changes relative to the changes in underlying asset's prices \n",
    "- snapshot in time\n",
    "- gauge likelihood option will expire *in-the-money* (ITM)\n",
    "    - strik price below (for calls) or above (for puts) the underlying security's market price (MP)\n",
    "- How much an Option's price can be expected to move for every `$1` change in the price of the underlying security or index \n",
    "    - Delta of `0.40` -> price will theoretically move `$0.40` for every `$1` change in the price of the underlying security or index \n",
    "    - Higher the Delta -> Bigger the Price Change \n",
    "- Number of shares of the underlying stock the option behaves like\n",
    "    - Delta of `0.40` -> given a `$1` move in the underlying stock, would be comparable to owning `40` shares of the stock \n",
    "\n",
    "> Call Options:\n",
    ">> - Positive range from `0:1`\n",
    ">> - *at-the-money* -> options delta near `0.50`\n",
    ">> - *in-the-money* -> get closer to `1` as expiration approaches \n",
    ">> - *out-of-the-money* -> closer to `0` as expiration approaches \n",
    "\n",
    "> Put Options: \n",
    ">> - negative range from `0:-1`\n",
    ">> - *at-the-money* -> options delta near `-0.50`\n",
    ">> - *in-the-money* -> closer to `-1` as expiration approaches\n",
    ">> - *out-of-the-money* -> closer to `0` as expiration approaches "
   ]
  },
  {
   "cell_type": "code",
   "execution_count": 7,
   "id": "81ab4f9b-b4ce-49d7-b714-cc443e41b52c",
   "metadata": {},
   "outputs": [],
   "source": [
    "# Call Option: Delta\n",
    "def call_delta(s,k,t,r,sigma): \n",
    "    return norm.cdf(d1(s,k,t,r,sigma))\n",
    "\n",
    "# Put Option: Delta\n",
    "def put_delta(s,k,t,r,sigma): \n",
    "    return -norm.cdf(-d1(s,k,t,r,sigma))"
   ]
  },
  {
   "cell_type": "code",
   "execution_count": 8,
   "id": "723f59f0-ad9a-4ad5-a717-74f7299a8cea",
   "metadata": {},
   "outputs": [
    {
     "name": "stdout",
     "output_type": "stream",
     "text": [
      "Call Option Delta: 0.9107767368345461\n",
      "Put Option Delta: -0.08922326316545398\n"
     ]
    }
   ],
   "source": [
    "cDelta = call_delta(lastCloseP, strike_price, tMature, riskFree, sigma)\n",
    "pDelta = put_delta(lastCloseP, strike_price, tMature, riskFree, sigma)\n",
    "\n",
    "print('Call Option Delta: {}'.format(cDelta),end='\\n')\n",
    "print('Put Option Delta: {}'.format(pDelta),end='\\n')"
   ]
  },
  {
   "cell_type": "markdown",
   "id": "d1409e7d-9006-4c53-83bd-e7c8eb288beb",
   "metadata": {},
   "source": [
    "---\n",
    "## Gamma\n",
    "---\n",
    "- measures rate of change in an option's *Delta* over time \n",
    "    - per `$1` change in the price of the underlying security/index\n",
    "- *Delta* went from `0.40` to `0.55` -> Change in *Delta* of `0.15` is the option's **Gamma**\n",
    "- **Gamma** decreases as an option becomes more ITM and *Delta* approaches `1`"
   ]
  },
  {
   "cell_type": "code",
   "execution_count": 9,
   "id": "4a375cbf-d179-4014-9622-8e6725a125e4",
   "metadata": {},
   "outputs": [],
   "source": [
    "# Call Option: Gamma\n",
    "def call_gamma(s,k,t,r,sigma): \n",
    "    return norm.pdf(d1(s,k,t,r,sigma)) / (s*sigma*sqrt(t))\n",
    "\n",
    "# Put Option: Gamma\n",
    "def put_gamma(s,k,t,r,sigma): \n",
    "    return norm.pdf(d1(s,k,t,r,sigma)) / (s*sigma*sqrt(t))"
   ]
  },
  {
   "cell_type": "code",
   "execution_count": 10,
   "id": "9b0edbfe-33f5-4f53-9837-179ec97d72f6",
   "metadata": {},
   "outputs": [
    {
     "name": "stdout",
     "output_type": "stream",
     "text": [
      "Call Option Gamma: 0.0029606801721716574\n",
      "Put Option Gamma: 0.0029606801721716574\n"
     ]
    }
   ],
   "source": [
    "cGamma = call_gamma(lastCloseP, strike_price, tMature, riskFree, sigma)\n",
    "pGamma = put_gamma(lastCloseP, strike_price, tMature, riskFree, sigma)\n",
    "\n",
    "print('Call Option Gamma: {}'.format(cGamma),end='\\n')\n",
    "print('Put Option Gamma: {}'.format(pGamma),end='\\n')"
   ]
  },
  {
   "cell_type": "markdown",
   "id": "a6ecb901-c8cf-48ad-8824-2ee7f2c92828",
   "metadata": {},
   "source": [
    "---\n",
    "## Vega\n",
    "---\n",
    "- sensitivity of an option price relative to the volatility of the underlying asset \n",
    "- measures rate of change in an option's price per *one-percentage-point-change* in the **implied volatility** of the underlying stock \n",
    "- How much an option's price SHOULD MOVE when the volatility of the underlying security/index increases or decreases \n",
    "- Drop in Vega: cause both calls and puts to lose value\n",
    "- Increase in Vega: cause both calls and puts to gain value \n",
    "- Ignoring Vega can cause you to potentially overpay when buying otpions\n",
    "    - consider buying options when vega is below 'normal' levels \n",
    "    - consider selling options when vega is above 'normal' levels \n",
    "    - find 'normal' by comparing historical volatility to the implied volatility "
   ]
  },
  {
   "cell_type": "code",
   "execution_count": 11,
   "id": "4979e88d-0c07-4e3e-a48e-17c26f51ade8",
   "metadata": {},
   "outputs": [],
   "source": [
    "# Call Option: Vega\n",
    "def call_vega(s,k,t,r,sigma): \n",
    "    return 0.01 * (s * norm.pdf(d1(s,k,t,r,sigma))*sqrt(t))\n",
    "\n",
    "# Put Option: Gamma\n",
    "def put_vega(s,k,t,r,sigma): \n",
    "    return 0.01 * (s * norm.pdf(d1(s,k,t,r,sigma))*sqrt(t))"
   ]
  },
  {
   "cell_type": "code",
   "execution_count": 12,
   "id": "94bcadbc-4dea-4757-b2a2-3639631bd0ff",
   "metadata": {},
   "outputs": [
    {
     "name": "stdout",
     "output_type": "stream",
     "text": [
      "Call Option Vega: 0.551421112105077\n",
      "Put Option Vega: 0.551421112105077\n"
     ]
    }
   ],
   "source": [
    "cVega = call_vega(lastCloseP, strike_price, tMature, riskFree, sigma)\n",
    "pVega = put_vega(lastCloseP, strike_price, tMature, riskFree, sigma)\n",
    "\n",
    "print('Call Option Vega: {}'.format(cVega),end='\\n')\n",
    "print('Put Option Vega: {}'.format(pVega),end='\\n')"
   ]
  },
  {
   "cell_type": "markdown",
   "id": "25654c58-cb88-4584-9350-d80c8236da50",
   "metadata": {},
   "source": [
    "---\n",
    "## Theta\n",
    "---\n",
    "- sensitivity of option price relative to the option's time to maturity \n",
    "- how much the price of an option should decrease each day as the option nears expiration \n",
    "- price erosion over time: **time decay**\n",
    "- Time-Value erosion is not linear\n",
    "    - ATM just slightly OOTM as expiration approaches\n",
    "    - ITM increases as expiration approaches \n",
    "    - OOTM decrease as expiration approaches"
   ]
  },
  {
   "cell_type": "code",
   "execution_count": 13,
   "id": "c8818dd9-1c18-4967-91f4-d77a19f3fd91",
   "metadata": {},
   "outputs": [],
   "source": [
    "# Call Option: Theta\n",
    "def call_theta(s,k,t,r,sigma): \n",
    "    return 0.01 * (-(s * norm.pdf(d1(s,k,t,r,sigma))*sigma)/(2*sqrt(t)) - r*k*exp(-r*t)*norm.cdf(d2(s,k,t,r,sigma)))\n",
    "\n",
    "# Put Option: Theta\n",
    "def put_theta(s,k,t,r,sigma): \n",
    "    return 0.01 * (-(s * norm.pdf(d1(s,k,t,r,sigma))*sigma)/(2*sqrt(t)) + r*k*exp(-r*t)*norm.cdf(-d2(s,k,t,r,sigma)))"
   ]
  },
  {
   "cell_type": "code",
   "execution_count": 14,
   "id": "22b26562-be1c-4566-be6a-6eac73d6146f",
   "metadata": {},
   "outputs": [
    {
     "name": "stdout",
     "output_type": "stream",
     "text": [
      "Call Option Theta: -0.161277930037944\n",
      "Put Option Theta: -0.057265358397229175\n"
     ]
    }
   ],
   "source": [
    "cTheta = call_theta(lastCloseP, strike_price, tMature, riskFree, sigma)\n",
    "pTheta = put_theta(lastCloseP, strike_price, tMature, riskFree, sigma)\n",
    "\n",
    "print('Call Option Theta: {}'.format(cTheta),end='\\n')\n",
    "print('Put Option Theta: {}'.format(pTheta),end='\\n')"
   ]
  },
  {
   "cell_type": "markdown",
   "id": "90c70b6c-1219-4834-9254-2c24b08f98aa",
   "metadata": {},
   "source": [
    "---\n",
    "## Rho\n",
    "---\n",
    "- sensitivity of the option price relative to interest rates\n",
    "- measures expected change in an option's price per *one-percentage-point* change in interest rates \n",
    "    - how much the price of an option should rise or fall if the risk-free interest rate (US T-Bills) increases or decreases\n",
    "    - impliest potential change in interest rates \n",
    "    - applied around FOMC meetings \n",
    "- IR Increase: value of **call options** increase\n",
    "    - Call Options: Positive Rho\n",
    "- IR Decrease: value of **put options** decrease \n",
    "    - Put Options: Negative Rho \n",
    "- stock trading at strike price of `$25`\n",
    "    - 25 calls and 25 puts -> exactly at the money\n",
    "    - calls trading at `$0.60`\n",
    "    - puts trading at `$0.50`\n",
    "    - when IR are low, price difference between puts and calls will be relatively small\n",
    "    - when IR increase, gap widens - calls will become more expensive \n",
    "- Long-Term Equity AnticiPation Securities (LEAPS) far more sensitive to change in IR than short-term options \n",
    "  "
   ]
  },
  {
   "cell_type": "code",
   "execution_count": 15,
   "id": "b9bd0afe-4e08-4ff1-8594-a024a28a307d",
   "metadata": {},
   "outputs": [],
   "source": [
    "# Call Option: Rho\n",
    "def call_rho(s,k,t,r,sigma): \n",
    "    return 0.01 * (k*t*exp(-r*t) * norm.cdf(d2(s,k,t,r,sigma)))\n",
    "\n",
    "# Put Option: Rho\n",
    "def put_rho(s,k,t,r,sigma): \n",
    "    return 0.01 * (-k*t*exp(-r*t) * norm.cdf(-d2(s,k,t,r,sigma)))"
   ]
  },
  {
   "cell_type": "code",
   "execution_count": 16,
   "id": "5993aea2-74e7-4ee9-8853-77595c896ec2",
   "metadata": {},
   "outputs": [
    {
     "name": "stdout",
     "output_type": "stream",
     "text": [
      "Call Option Rho: 2.0603652372227796\n",
      "Put Option Rho: -0.258777907259914\n"
     ]
    }
   ],
   "source": [
    "cRho = call_rho(lastCloseP, strike_price, tMature, riskFree, sigma)\n",
    "pRho = put_rho(lastCloseP, strike_price, tMature, riskFree, sigma)\n",
    "\n",
    "print('Call Option Rho: {}'.format(cRho),end='\\n')\n",
    "print('Put Option Rho: {}'.format(pRho),end='\\n')"
   ]
  },
  {
   "cell_type": "code",
   "execution_count": null,
   "id": "cad33c46-56ee-4a29-9ffa-77bee5b050ae",
   "metadata": {},
   "outputs": [],
   "source": []
  },
  {
   "cell_type": "code",
   "execution_count": null,
   "id": "2ce95cd9-b05e-42a6-8a97-706fdffd5610",
   "metadata": {},
   "outputs": [],
   "source": []
  },
  {
   "cell_type": "code",
   "execution_count": null,
   "id": "908bbb02-ebfc-4718-a044-7d67b832f0b9",
   "metadata": {},
   "outputs": [],
   "source": []
  },
  {
   "cell_type": "code",
   "execution_count": null,
   "id": "7e1f214f-3fa4-4c88-851b-00bdf5ea0773",
   "metadata": {},
   "outputs": [],
   "source": []
  }
 ],
 "metadata": {
  "kernelspec": {
   "display_name": "Python 3",
   "language": "python",
   "name": "python3"
  },
  "language_info": {
   "codemirror_mode": {
    "name": "ipython",
    "version": 3
   },
   "file_extension": ".py",
   "mimetype": "text/x-python",
   "name": "python",
   "nbconvert_exporter": "python",
   "pygments_lexer": "ipython3",
   "version": "3.8.8"
  }
 },
 "nbformat": 4,
 "nbformat_minor": 5
}
