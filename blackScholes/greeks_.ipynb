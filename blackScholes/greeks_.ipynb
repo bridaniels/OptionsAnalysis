{
 "cells": [
  {
   "cell_type": "markdown",
   "id": "b0f715b2-fd80-4c65-a5b8-a6922d66274d",
   "metadata": {},
   "source": [
    "---\n",
    "---\n",
    "# **Greeks**\n",
    "---\n",
    "---\n",
    "#### ***Delta, Gamma, Theta, Vega, and Rho***\n",
    "- calculations to measure different factors that might affect the price of an options contract "
   ]
  },
  {
   "cell_type": "markdown",
   "id": "32b99da2-3101-4895-9256-bdf5df802b1e",
   "metadata": {},
   "source": [
    "### Import *.py* Files"
   ]
  },
  {
   "cell_type": "code",
   "execution_count": 1,
   "id": "56dce171-0e82-4fd9-a0b4-63bc22ba6717",
   "metadata": {},
   "outputs": [
    {
     "name": "stdout",
     "output_type": "stream",
     "text": [
      "Stock: SPY \n",
      " Expiration: 12-18-2022 \n",
      " Strike Price: 370 \n",
      " Data Source: yahoo \n",
      "\n",
      "<class 'pandas.core.frame.DataFrame'>\n",
      "DatetimeIndex: 253 entries, 2021-05-04 to 2022-05-03\n",
      "Data columns (total 8 columns):\n",
      " #   Column            Non-Null Count  Dtype  \n",
      "---  ------            --------------  -----  \n",
      " 0   High              253 non-null    float64\n",
      " 1   Low               253 non-null    float64\n",
      " 2   Open              253 non-null    float64\n",
      " 3   Close             253 non-null    float64\n",
      " 4   Volume            253 non-null    float64\n",
      " 5   Adj Close         253 non-null    float64\n",
      " 6   close_day_before  252 non-null    float64\n",
      " 7   returns           252 non-null    float64\n",
      "dtypes: float64(8)\n",
      "memory usage: 17.8 KB\n",
      "None\n",
      " \n",
      "Variables: \n",
      " s = Last Close Price: 416.3800048828125 \n",
      " k = Strike Price: 370 \n",
      " t = Time to Maturity: 0.6246575342465753 \n",
      " r = Risk-Free-Rate: 0.029600000381469725 \n",
      " Sigma: 0.1636450203001912\n",
      "Risk-Adjusted Probability (d1): 1.1207072069160982 (d2): 0.9913699083880638\n",
      "Individual Functions: \n",
      " Call Option: 56.9155132430883 \n",
      " Put Option: 3.7571178265057483\n",
      "black_scholes(): \n",
      " Call Option: 56.9155132430883 \n",
      " Put Option: 3.7571178265057483\n"
     ]
    }
   ],
   "source": [
    "# only shows data first time - restart kernel \n",
    "import CONFIG as c\n",
    "import BLACK_SCHOLES as bs\n",
    "import GREEKS as g"
   ]
  },
  {
   "cell_type": "markdown",
   "id": "1597e1a5-3f8b-4bd5-98e7-f30612d0f28a",
   "metadata": {},
   "source": [
    "#### Import Libraries "
   ]
  },
  {
   "cell_type": "code",
   "execution_count": 2,
   "id": "b2fee0a8-a4a8-4d32-9a42-4b2efcb56dfc",
   "metadata": {},
   "outputs": [],
   "source": [
    "import pandas as pd\n",
    "import numpy as np \n",
    "\n",
    "from datetime import datetime,date\n",
    "from scipy.stats import norm\n",
    "from math import log, sqrt, pi, exp"
   ]
  },
  {
   "cell_type": "markdown",
   "id": "aa3769a2-bea2-432f-b08d-eecbf5a2341e",
   "metadata": {},
   "source": [
    "# Delta\n",
    "---\n",
    "- sensitivity of an option's price changes relative to the changes in underlying asset's prices \n",
    "- snapshot in time\n",
    "- gauge likelihood option will expire *in-the-money* (ITM)\n",
    "    - strik price below (for calls) or above (for puts) the underlying security's market price (MP)\n",
    "- How much an Option's price can be expected to move for every `$1` change in the price of the underlying security or index \n",
    "    - Delta of `0.40` -> price will theoretically move `$0.40` for every `$1` change in the price of the underlying security or index \n",
    "    - Higher the Delta -> Bigger the Price Change \n",
    "- Number of shares of the underlying stock the option behaves like\n",
    "    - Delta of `0.40` -> given a `$1` move in the underlying stock, would be comparable to owning `40` shares of the stock \n",
    "\n",
    "> Call Options:\n",
    ">> - Positive range from `0:1`\n",
    ">> - *at-the-money* -> options delta near `0.50`\n",
    ">> - *in-the-money* -> get closer to `1` as expiration approaches \n",
    ">> - *out-of-the-money* -> closer to `0` as expiration approaches \n",
    "\n",
    "> Put Options: \n",
    ">> - negative range from `0:-1`\n",
    ">> - *at-the-money* -> options delta near `-0.50`\n",
    ">> - *in-the-money* -> closer to `-1` as expiration approaches\n",
    ">> - *out-of-the-money* -> closer to `0` as expiration approaches "
   ]
  },
  {
   "cell_type": "code",
   "execution_count": 3,
   "id": "cad33c46-56ee-4a29-9ffa-77bee5b050ae",
   "metadata": {},
   "outputs": [
    {
     "name": "stdout",
     "output_type": "stream",
     "text": [
      "Call Delta: 0.8687937432584167\n",
      "Put Delta: -0.13120625674158332\n"
     ]
    }
   ],
   "source": [
    "# From .py File \n",
    "print('Call Delta: {}'.format(g.DELTA.call(bs.lastCloseP, c.strike_price, bs.tMature, bs.riskFree, bs.sigma)))\n",
    "print('Put Delta: {}'.format(g.DELTA.put(bs.lastCloseP, c.strike_price, bs.tMature, bs.riskFree, bs.sigma)))"
   ]
  },
  {
   "cell_type": "code",
   "execution_count": 4,
   "id": "81ab4f9b-b4ce-49d7-b714-cc443e41b52c",
   "metadata": {},
   "outputs": [],
   "source": [
    "# Call Option: Delta\n",
    "def call_delta(s,k,t,r,sigma): \n",
    "    return norm.cdf(bs.d1(s,k,t,r,sigma))\n",
    "\n",
    "# Put Option: Delta\n",
    "def put_delta(s,k,t,r,sigma): \n",
    "    return -norm.cdf(-bs.d1(s,k,t,r,sigma))"
   ]
  },
  {
   "cell_type": "code",
   "execution_count": 5,
   "id": "723f59f0-ad9a-4ad5-a717-74f7299a8cea",
   "metadata": {},
   "outputs": [
    {
     "name": "stdout",
     "output_type": "stream",
     "text": [
      "Call Option Delta: 0.8687937432584167\n",
      "Put Option Delta: -0.13120625674158332\n"
     ]
    }
   ],
   "source": [
    "cDelta = call_delta(bs.lastCloseP, c.strike_price, bs.tMature, bs.riskFree, bs.sigma)\n",
    "pDelta = put_delta(bs.lastCloseP, c.strike_price, bs.tMature, bs.riskFree, bs.sigma)\n",
    "\n",
    "print('Call Option Delta: {}'.format(cDelta),end='\\n')\n",
    "print('Put Option Delta: {}'.format(pDelta),end='\\n')"
   ]
  },
  {
   "cell_type": "markdown",
   "id": "d1409e7d-9006-4c53-83bd-e7c8eb288beb",
   "metadata": {},
   "source": [
    "# Gamma\n",
    "---\n",
    "- measures rate of change in an option's *Delta* over time \n",
    "    - per `$1` change in the price of the underlying security/index\n",
    "- *Delta* went from `0.40` to `0.55` -> Change in *Delta* of `0.15` is the option's **Gamma**\n",
    "- **Gamma** decreases as an option becomes more ITM and *Delta* approaches `1`"
   ]
  },
  {
   "cell_type": "code",
   "execution_count": 6,
   "id": "31a715d7",
   "metadata": {},
   "outputs": [
    {
     "name": "stdout",
     "output_type": "stream",
     "text": [
      "Call Gamma: 0.003953327689004186\n",
      "Put Gamma: 0.003953327689004186\n"
     ]
    }
   ],
   "source": [
    "# From .py File\n",
    "print('Call Gamma: {}'.format(g.GAMMA.call(bs.lastCloseP, c.strike_price, bs.tMature, bs.riskFree, bs.sigma)))\n",
    "print('Put Gamma: {}'.format(g.GAMMA.put(bs.lastCloseP, c.strike_price, bs.tMature, bs.riskFree, bs.sigma)))"
   ]
  },
  {
   "cell_type": "code",
   "execution_count": 7,
   "id": "4a375cbf-d179-4014-9622-8e6725a125e4",
   "metadata": {},
   "outputs": [],
   "source": [
    "# Call Option: Gamma\n",
    "def call_gamma(s,k,t,r,sigma): \n",
    "    return norm.pdf(bs.d1(s,k,t,r,sigma)) / (s*sigma*sqrt(t))\n",
    "\n",
    "# Put Option: Gamma\n",
    "def put_gamma(s,k,t,r,sigma): \n",
    "    return norm.pdf(bs.d1(s,k,t,r,sigma)) / (s*sigma*sqrt(t))"
   ]
  },
  {
   "cell_type": "code",
   "execution_count": 8,
   "id": "9b0edbfe-33f5-4f53-9837-179ec97d72f6",
   "metadata": {},
   "outputs": [
    {
     "name": "stdout",
     "output_type": "stream",
     "text": [
      "Call Option Gamma: 0.003953327689004186\n",
      "Put Option Gamma: 0.003953327689004186\n"
     ]
    }
   ],
   "source": [
    "cGamma = call_gamma(bs.lastCloseP, c.strike_price, bs.tMature, bs.riskFree, bs.sigma)\n",
    "pGamma = put_gamma(bs.lastCloseP, c.strike_price, bs.tMature, bs.riskFree, bs.sigma)\n",
    "\n",
    "print('Call Option Gamma: {}'.format(cGamma),end='\\n')\n",
    "print('Put Option Gamma: {}'.format(pGamma),end='\\n')"
   ]
  },
  {
   "cell_type": "markdown",
   "id": "a6ecb901-c8cf-48ad-8824-2ee7f2c92828",
   "metadata": {},
   "source": [
    "# Vega\n",
    "---\n",
    "- sensitivity of an option price relative to the volatility of the underlying asset \n",
    "- measures rate of change in an option's price per *one-percentage-point-change* in the **implied volatility** of the underlying stock \n",
    "- How much an option's price SHOULD MOVE when the volatility of the underlying security/index increases or decreases \n",
    "- Drop in Vega: cause both calls and puts to lose value\n",
    "- Increase in Vega: cause both calls and puts to gain value \n",
    "- Ignoring Vega can cause you to potentially overpay when buying otpions\n",
    "    - consider buying options when vega is below 'normal' levels \n",
    "    - consider selling options when vega is above 'normal' levels \n",
    "    - find 'normal' by comparing historical volatility to the implied volatility "
   ]
  },
  {
   "cell_type": "code",
   "execution_count": 9,
   "id": "7e1f214f-3fa4-4c88-851b-00bdf5ea0773",
   "metadata": {},
   "outputs": [
    {
     "name": "stdout",
     "output_type": "stream",
     "text": [
      "Call Vega: 0.7006277313263973\n",
      "Put Vega: 0.7006277313263973\n"
     ]
    }
   ],
   "source": [
    "# From .py File\n",
    "print('Call Vega: {}'.format(g.VEGA.call(bs.lastCloseP, c.strike_price, bs.tMature, bs.riskFree, bs.sigma)))\n",
    "print('Put Vega: {}'.format(g.VEGA.put(bs.lastCloseP, c.strike_price, bs.tMature, bs.riskFree, bs.sigma)))"
   ]
  },
  {
   "cell_type": "code",
   "execution_count": 10,
   "id": "4979e88d-0c07-4e3e-a48e-17c26f51ade8",
   "metadata": {},
   "outputs": [],
   "source": [
    "# Call Option: Vega\n",
    "def call_vega(s,k,t,r,sigma): \n",
    "    return 0.01 * (s * norm.pdf(bs.d1(s,k,t,r,sigma))*sqrt(t))\n",
    "\n",
    "# Put Option: Gamma\n",
    "def put_vega(s,k,t,r,sigma): \n",
    "    return 0.01 * (s * norm.pdf(bs.d1(s,k,t,r,sigma))*sqrt(t))"
   ]
  },
  {
   "cell_type": "code",
   "execution_count": 11,
   "id": "94bcadbc-4dea-4757-b2a2-3639631bd0ff",
   "metadata": {},
   "outputs": [
    {
     "name": "stdout",
     "output_type": "stream",
     "text": [
      "Call Option Vega: 0.7006277313263973\n",
      "Put Option Vega: 0.7006277313263973\n"
     ]
    }
   ],
   "source": [
    "cVega = call_vega(bs.lastCloseP, c.strike_price, bs.tMature, bs.riskFree, bs.sigma)\n",
    "pVega = put_vega(bs.lastCloseP, c.strike_price, bs.tMature, bs.riskFree, bs.sigma)\n",
    "\n",
    "print('Call Option Vega: {}'.format(cVega),end='\\n')\n",
    "print('Put Option Vega: {}'.format(pVega),end='\\n')"
   ]
  },
  {
   "cell_type": "markdown",
   "id": "25654c58-cb88-4584-9350-d80c8236da50",
   "metadata": {},
   "source": [
    "# Theta\n",
    "---\n",
    "- sensitivity of option price relative to the option's time to maturity \n",
    "- how much the price of an option should decrease each day as the option nears expiration \n",
    "- price erosion over time: **time decay**\n",
    "- Time-Value erosion is not linear\n",
    "    - ATM just slightly OOTM as expiration approaches\n",
    "    - ITM increases as expiration approaches \n",
    "    - OOTM decrease as expiration approaches"
   ]
  },
  {
   "cell_type": "code",
   "execution_count": 12,
   "id": "908bbb02-ebfc-4718-a044-7d67b832f0b9",
   "metadata": {},
   "outputs": [
    {
     "name": "stdout",
     "output_type": "stream",
     "text": [
      "Call Theta: -0.18200419718837588\n",
      "Put Theta: -0.07449059940079135\n"
     ]
    }
   ],
   "source": [
    "# From .py file\n",
    "print('Call Theta: {}'.format(g.THETA.call(bs.lastCloseP, c.strike_price, bs.tMature, bs.riskFree, bs.sigma)))\n",
    "print('Put Theta: {}'.format(g.THETA.put(bs.lastCloseP, c.strike_price, bs.tMature, bs.riskFree, bs.sigma)))"
   ]
  },
  {
   "cell_type": "code",
   "execution_count": 13,
   "id": "c8818dd9-1c18-4967-91f4-d77a19f3fd91",
   "metadata": {},
   "outputs": [],
   "source": [
    "# Call Option: Theta\n",
    "def call_theta(s,k,t,r,sigma): \n",
    "    return 0.01 * (-(s * norm.pdf(bs.d1(s,k,t,r,sigma))*sigma)/(2*sqrt(t)) - r*k*exp(-r*t)*norm.cdf(bs.d2(s,k,t,r,sigma)))\n",
    "\n",
    "# Put Option: Theta\n",
    "def put_theta(s,k,t,r,sigma): \n",
    "    return 0.01 * (-(s * norm.pdf(bs.d1(s,k,t,r,sigma))*sigma)/(2*sqrt(t)) + r*k*exp(-r*t)*norm.cdf(-bs.d2(s,k,t,r,sigma)))"
   ]
  },
  {
   "cell_type": "code",
   "execution_count": 14,
   "id": "22b26562-be1c-4566-be6a-6eac73d6146f",
   "metadata": {},
   "outputs": [
    {
     "name": "stdout",
     "output_type": "stream",
     "text": [
      "Call Option Theta: -0.18200419718837588\n",
      "Put Option Theta: -0.07449059940079135\n"
     ]
    }
   ],
   "source": [
    "cTheta = call_theta(bs.lastCloseP, c.strike_price, bs.tMature, bs.riskFree, bs.sigma)\n",
    "pTheta = put_theta(bs.lastCloseP, c.strike_price, bs.tMature, bs.riskFree, bs.sigma)\n",
    "\n",
    "print('Call Option Theta: {}'.format(cTheta),end='\\n')\n",
    "print('Put Option Theta: {}'.format(pTheta),end='\\n')"
   ]
  },
  {
   "cell_type": "markdown",
   "id": "90c70b6c-1219-4834-9254-2c24b08f98aa",
   "metadata": {},
   "source": [
    "---\n",
    "## Rho\n",
    "---\n",
    "- sensitivity of the option price relative to interest rates\n",
    "- measures expected change in an option's price per *one-percentage-point* change in interest rates \n",
    "    - how much the price of an option should rise or fall if the risk-free interest rate (US T-Bills) increases or decreases\n",
    "    - impliest potential change in interest rates \n",
    "    - applied around FOMC meetings \n",
    "- IR Increase: value of **call options** increase\n",
    "    - Call Options: Positive Rho\n",
    "- IR Decrease: value of **put options** decrease \n",
    "    - Put Options: Negative Rho \n",
    "- stock trading at strike price of `$25`\n",
    "    - 25 calls and 25 puts -> exactly at the money\n",
    "    - calls trading at `$0.60`\n",
    "    - puts trading at `$0.50`\n",
    "    - when IR are low, price difference between puts and calls will be relatively small\n",
    "    - when IR increase, gap widens - calls will become more expensive \n",
    "- Long-Term Equity AnticiPation Securities (LEAPS) far more sensitive to change in IR than short-term options \n",
    "  "
   ]
  },
  {
   "cell_type": "code",
   "execution_count": 15,
   "id": "2ce95cd9-b05e-42a6-8a97-706fdffd5610",
   "metadata": {},
   "outputs": [
    {
     "name": "stdout",
     "output_type": "stream",
     "text": [
      "Call Rho: 1.9041612383089828\n",
      "Put Rho: -0.36472991123349474\n"
     ]
    }
   ],
   "source": [
    "# From .py File\n",
    "print('Call Rho: {}'.format(g.RHO.call(bs.lastCloseP, c.strike_price, bs.tMature, bs.riskFree, bs.sigma)))\n",
    "print('Put Rho: {}'.format(g.RHO.put(bs.lastCloseP, c.strike_price, bs.tMature, bs.riskFree, bs.sigma)))"
   ]
  },
  {
   "cell_type": "code",
   "execution_count": 16,
   "id": "b9bd0afe-4e08-4ff1-8594-a024a28a307d",
   "metadata": {},
   "outputs": [],
   "source": [
    "# Call Option: Rho\n",
    "def call_rho(s,k,t,r,sigma): \n",
    "    return 0.01 * (k*t*exp(-r*t) * norm.cdf(bs.d2(s,k,t,r,sigma)))\n",
    "\n",
    "# Put Option: Rho\n",
    "def put_rho(s,k,t,r,sigma): \n",
    "    return 0.01 * (-k*t*exp(-r*t) * norm.cdf(-bs.d2(s,k,t,r,sigma)))"
   ]
  },
  {
   "cell_type": "code",
   "execution_count": 17,
   "id": "5993aea2-74e7-4ee9-8853-77595c896ec2",
   "metadata": {},
   "outputs": [
    {
     "name": "stdout",
     "output_type": "stream",
     "text": [
      "Call Option Rho: 1.9041612383089828\n",
      "Put Option Rho: -0.36472991123349474\n"
     ]
    }
   ],
   "source": [
    "cRho = call_rho(bs.lastCloseP, c.strike_price, bs.tMature, bs.riskFree, bs.sigma)\n",
    "pRho = put_rho(bs.lastCloseP, c.strike_price, bs.tMature, bs.riskFree, bs.sigma)\n",
    "\n",
    "print('Call Option Rho: {}'.format(cRho),end='\\n')\n",
    "print('Put Option Rho: {}'.format(pRho),end='\\n')"
   ]
  },
  {
   "cell_type": "code",
   "execution_count": null,
   "id": "d65c3ede",
   "metadata": {},
   "outputs": [],
   "source": []
  }
 ],
 "metadata": {
  "kernelspec": {
   "display_name": "Python 3",
   "language": "python",
   "name": "python3"
  },
  "language_info": {
   "codemirror_mode": {
    "name": "ipython",
    "version": 3
   },
   "file_extension": ".py",
   "mimetype": "text/x-python",
   "name": "python",
   "nbconvert_exporter": "python",
   "pygments_lexer": "ipython3",
   "version": "3.8.8"
  }
 },
 "nbformat": 4,
 "nbformat_minor": 5
}
