{
 "cells": [
  {
   "cell_type": "markdown",
   "id": "b0f715b2-fd80-4c65-a5b8-a6922d66274d",
   "metadata": {},
   "source": [
    "---\n",
    "---\n",
    "# **Greeks**\n",
    "---\n",
    "---\n",
    "#### ***Delta, Gamma, Theta, Vega, and Rho***\n",
    "- calculations to measure different factors that might affect the price of an options contract "
   ]
  },
  {
   "cell_type": "markdown",
   "id": "32b99da2-3101-4895-9256-bdf5df802b1e",
   "metadata": {},
   "source": [
    "### Import *.py* Files"
   ]
  },
  {
   "cell_type": "code",
   "execution_count": 15,
   "id": "56dce171-0e82-4fd9-a0b4-63bc22ba6717",
   "metadata": {},
   "outputs": [],
   "source": [
    "# only shows data first time - restart kernel \n",
    "import CONFIG as c\n",
    "import BLACK_SCHOLES as bs\n",
    "import GREEKS as g"
   ]
  },
  {
   "cell_type": "markdown",
   "id": "1597e1a5-3f8b-4bd5-98e7-f30612d0f28a",
   "metadata": {},
   "source": [
    "#### Import Libraries "
   ]
  },
  {
   "cell_type": "code",
   "execution_count": 16,
   "id": "b2fee0a8-a4a8-4d32-9a42-4b2efcb56dfc",
   "metadata": {},
   "outputs": [],
   "source": [
    "import pandas as pd\n",
    "import numpy as np \n",
    "\n",
    "from datetime import datetime,date\n",
    "from scipy.stats import norm\n",
    "from math import log, sqrt, pi, exp"
   ]
  },
  {
   "cell_type": "markdown",
   "id": "aa3769a2-bea2-432f-b08d-eecbf5a2341e",
   "metadata": {},
   "source": [
    "# Delta\n",
    "---\n",
    "- sensitivity of an option's price changes relative to the changes in underlying asset's prices \n",
    "- snapshot in time\n",
    "- gauge likelihood option will expire *in-the-money* (ITM)\n",
    "    - strik price below (for calls) or above (for puts) the underlying security's market price (MP)\n",
    "- How much an Option's price can be expected to move for every `$1` change in the price of the underlying security or index \n",
    "    - Delta of `0.40` -> price will theoretically move `$0.40` for every `$1` change in the price of the underlying security or index \n",
    "    - Higher the Delta -> Bigger the Price Change \n",
    "- Number of shares of the underlying stock the option behaves like\n",
    "    - Delta of `0.40` -> given a `$1` move in the underlying stock, would be comparable to owning `40` shares of the stock \n",
    "\n",
    "> Call Options:\n",
    ">> - Positive range from `0:1`\n",
    ">> - *at-the-money* -> options delta near `0.50`\n",
    ">> - *in-the-money* -> get closer to `1` as expiration approaches \n",
    ">> - *out-of-the-money* -> closer to `0` as expiration approaches \n",
    "\n",
    "> Put Options: \n",
    ">> - negative range from `0:-1`\n",
    ">> - *at-the-money* -> options delta near `-0.50`\n",
    ">> - *in-the-money* -> closer to `-1` as expiration approaches\n",
    ">> - *out-of-the-money* -> closer to `0` as expiration approaches "
   ]
  },
  {
   "cell_type": "code",
   "execution_count": 17,
   "id": "cad33c46-56ee-4a29-9ffa-77bee5b050ae",
   "metadata": {},
   "outputs": [
    {
     "name": "stdout",
     "output_type": "stream",
     "text": [
      "Call Delta: 0.8687937432584167\n",
      "Put Delta: -0.13120625674158332\n"
     ]
    }
   ],
   "source": [
    "# From .py File \n",
    "print('Call Delta: {}'.format(g.DELTA.call(bs.lastCloseP, c.strike_price, bs.tMature, bs.riskFree, bs.sigma)))\n",
    "print('Put Delta: {}'.format(g.DELTA.put(bs.lastCloseP, c.strike_price, bs.tMature, bs.riskFree, bs.sigma)))"
   ]
  },
  {
   "cell_type": "code",
   "execution_count": 18,
   "id": "81ab4f9b-b4ce-49d7-b714-cc443e41b52c",
   "metadata": {},
   "outputs": [],
   "source": [
    "# Call Option: Delta\n",
    "def call_delta(s,k,t,r,sigma): \n",
    "    return norm.cdf(bs.d1(s,k,t,r,sigma))\n",
    "\n",
    "# Put Option: Delta\n",
    "def put_delta(s,k,t,r,sigma): \n",
    "    return -norm.cdf(-bs.d1(s,k,t,r,sigma))"
   ]
  },
  {
   "cell_type": "code",
   "execution_count": 19,
   "id": "723f59f0-ad9a-4ad5-a717-74f7299a8cea",
   "metadata": {},
   "outputs": [
    {
     "name": "stdout",
     "output_type": "stream",
     "text": [
      "Call Option Delta: 0.8687937432584167\n",
      "Put Option Delta: -0.13120625674158332\n"
     ]
    }
   ],
   "source": [
    "cDelta = call_delta(bs.lastCloseP, c.strike_price, bs.tMature, bs.riskFree, bs.sigma)\n",
    "pDelta = put_delta(bs.lastCloseP, c.strike_price, bs.tMature, bs.riskFree, bs.sigma)\n",
    "\n",
    "print('Call Option Delta: {}'.format(cDelta),end='\\n')\n",
    "print('Put Option Delta: {}'.format(pDelta),end='\\n')"
   ]
  },
  {
   "cell_type": "markdown",
   "id": "d1409e7d-9006-4c53-83bd-e7c8eb288beb",
   "metadata": {},
   "source": [
    "# Gamma\n",
    "---\n",
    "- measures rate of change in an option's *Delta* over time \n",
    "    - per `$1` change in the price of the underlying security/index\n",
    "- *Delta* went from `0.40` to `0.55` -> Change in *Delta* of `0.15` is the option's **Gamma**\n",
    "- **Gamma** decreases as an option becomes more ITM and *Delta* approaches `1`"
   ]
  },
  {
   "cell_type": "code",
   "execution_count": 20,
   "id": "31a715d7",
   "metadata": {},
   "outputs": [
    {
     "name": "stdout",
     "output_type": "stream",
     "text": [
      "Call Gamma: 0.003953327689004186\n",
      "Put Gamma: 0.003953327689004186\n"
     ]
    }
   ],
   "source": [
    "# From .py File\n",
    "print('Call Gamma: {}'.format(g.GAMMA.call(bs.lastCloseP, c.strike_price, bs.tMature, bs.riskFree, bs.sigma)))\n",
    "print('Put Gamma: {}'.format(g.GAMMA.put(bs.lastCloseP, c.strike_price, bs.tMature, bs.riskFree, bs.sigma)))"
   ]
  },
  {
   "cell_type": "code",
   "execution_count": 21,
   "id": "4a375cbf-d179-4014-9622-8e6725a125e4",
   "metadata": {},
   "outputs": [],
   "source": [
    "# Call Option: Gamma\n",
    "def call_gamma(s,k,t,r,sigma): \n",
    "    return norm.pdf(bs.d1(s,k,t,r,sigma)) / (s*sigma*sqrt(t))\n",
    "\n",
    "# Put Option: Gamma\n",
    "def put_gamma(s,k,t,r,sigma): \n",
    "    return norm.pdf(bs.d1(s,k,t,r,sigma)) / (s*sigma*sqrt(t))"
   ]
  },
  {
   "cell_type": "code",
   "execution_count": 22,
   "id": "9b0edbfe-33f5-4f53-9837-179ec97d72f6",
   "metadata": {},
   "outputs": [
    {
     "name": "stdout",
     "output_type": "stream",
     "text": [
      "Call Option Gamma: 0.003953327689004186\n",
      "Put Option Gamma: 0.003953327689004186\n"
     ]
    }
   ],
   "source": [
    "cGamma = call_gamma(bs.lastCloseP, c.strike_price, bs.tMature, bs.riskFree, bs.sigma)\n",
    "pGamma = put_gamma(bs.lastCloseP, c.strike_price, bs.tMature, bs.riskFree, bs.sigma)\n",
    "\n",
    "print('Call Option Gamma: {}'.format(cGamma),end='\\n')\n",
    "print('Put Option Gamma: {}'.format(pGamma),end='\\n')"
   ]
  },
  {
   "cell_type": "markdown",
   "id": "a6ecb901-c8cf-48ad-8824-2ee7f2c92828",
   "metadata": {},
   "source": [
    "# Vega\n",
    "---\n",
    "- sensitivity of an option price relative to the volatility of the underlying asset \n",
    "- measures rate of change in an option's price per *one-percentage-point-change* in the **implied volatility** of the underlying stock \n",
    "- How much an option's price SHOULD MOVE when the volatility of the underlying security/index increases or decreases \n",
    "- Drop in Vega: cause both calls and puts to lose value\n",
    "- Increase in Vega: cause both calls and puts to gain value \n",
    "- Ignoring Vega can cause you to potentially overpay when buying otpions\n",
    "    - consider buying options when vega is below 'normal' levels \n",
    "    - consider selling options when vega is above 'normal' levels \n",
    "    - find 'normal' by comparing historical volatility to the implied volatility "
   ]
  },
  {
   "cell_type": "code",
   "execution_count": 23,
   "id": "7e1f214f-3fa4-4c88-851b-00bdf5ea0773",
   "metadata": {},
   "outputs": [
    {
     "ename": "AttributeError",
     "evalue": "type object 'VEGA' has no attribute 'call'",
     "output_type": "error",
     "traceback": [
      "\u001b[0;31m---------------------------------------------------------------------------\u001b[0m",
      "\u001b[0;31mAttributeError\u001b[0m                            Traceback (most recent call last)",
      "\u001b[0;32m<ipython-input-23-1cdb22cac6c4>\u001b[0m in \u001b[0;36m<module>\u001b[0;34m\u001b[0m\n\u001b[1;32m      1\u001b[0m \u001b[0;31m# From .py File\u001b[0m\u001b[0;34m\u001b[0m\u001b[0;34m\u001b[0m\u001b[0;34m\u001b[0m\u001b[0m\n\u001b[0;32m----> 2\u001b[0;31m \u001b[0mprint\u001b[0m\u001b[0;34m(\u001b[0m\u001b[0;34m'Call Vega: {}'\u001b[0m\u001b[0;34m.\u001b[0m\u001b[0mformat\u001b[0m\u001b[0;34m(\u001b[0m\u001b[0mg\u001b[0m\u001b[0;34m.\u001b[0m\u001b[0mVEGA\u001b[0m\u001b[0;34m.\u001b[0m\u001b[0mcall\u001b[0m\u001b[0;34m(\u001b[0m\u001b[0mbs\u001b[0m\u001b[0;34m.\u001b[0m\u001b[0mlastCloseP\u001b[0m\u001b[0;34m,\u001b[0m \u001b[0mc\u001b[0m\u001b[0;34m.\u001b[0m\u001b[0mstrike_price\u001b[0m\u001b[0;34m,\u001b[0m \u001b[0mbs\u001b[0m\u001b[0;34m.\u001b[0m\u001b[0mtMature\u001b[0m\u001b[0;34m,\u001b[0m \u001b[0mbs\u001b[0m\u001b[0;34m.\u001b[0m\u001b[0mriskFree\u001b[0m\u001b[0;34m,\u001b[0m \u001b[0mbs\u001b[0m\u001b[0;34m.\u001b[0m\u001b[0msigma\u001b[0m\u001b[0;34m)\u001b[0m\u001b[0;34m)\u001b[0m\u001b[0;34m)\u001b[0m\u001b[0;34m\u001b[0m\u001b[0;34m\u001b[0m\u001b[0m\n\u001b[0m\u001b[1;32m      3\u001b[0m \u001b[0mprint\u001b[0m\u001b[0;34m(\u001b[0m\u001b[0;34m'Put Vega: {}'\u001b[0m\u001b[0;34m.\u001b[0m\u001b[0mformat\u001b[0m\u001b[0;34m(\u001b[0m\u001b[0mg\u001b[0m\u001b[0;34m.\u001b[0m\u001b[0mVEGA\u001b[0m\u001b[0;34m.\u001b[0m\u001b[0mput\u001b[0m\u001b[0;34m(\u001b[0m\u001b[0mbs\u001b[0m\u001b[0;34m.\u001b[0m\u001b[0mlastCloseP\u001b[0m\u001b[0;34m,\u001b[0m \u001b[0mc\u001b[0m\u001b[0;34m.\u001b[0m\u001b[0mstrike_price\u001b[0m\u001b[0;34m,\u001b[0m \u001b[0mbs\u001b[0m\u001b[0;34m.\u001b[0m\u001b[0mtMature\u001b[0m\u001b[0;34m,\u001b[0m \u001b[0mbs\u001b[0m\u001b[0;34m.\u001b[0m\u001b[0mriskFree\u001b[0m\u001b[0;34m,\u001b[0m \u001b[0mbs\u001b[0m\u001b[0;34m.\u001b[0m\u001b[0msigma\u001b[0m\u001b[0;34m)\u001b[0m\u001b[0;34m)\u001b[0m\u001b[0;34m)\u001b[0m\u001b[0;34m\u001b[0m\u001b[0;34m\u001b[0m\u001b[0m\n",
      "\u001b[0;31mAttributeError\u001b[0m: type object 'VEGA' has no attribute 'call'"
     ]
    }
   ],
   "source": [
    "# From .py File\n",
    "print('Call Vega: {}'.format(g.VEGA.call(bs.lastCloseP, c.strike_price, bs.tMature, bs.riskFree, bs.sigma)))\n",
    "print('Put Vega: {}'.format(g.VEGA.put(bs.lastCloseP, c.strike_price, bs.tMature, bs.riskFree, bs.sigma)))"
   ]
  },
  {
   "cell_type": "code",
   "execution_count": null,
   "id": "4979e88d-0c07-4e3e-a48e-17c26f51ade8",
   "metadata": {},
   "outputs": [],
   "source": [
    "# Call Option: Vega\n",
    "def call_vega(s,k,t,r,sigma): \n",
    "    return 0.01 * (s * norm.pdf(bs.d1(s,k,t,r,sigma))*sqrt(t))\n",
    "\n",
    "# Put Option: Gamma\n",
    "def put_vega(s,k,t,r,sigma): \n",
    "    return 0.01 * (s * norm.pdf(bs.d1(s,k,t,r,sigma))*sqrt(t))"
   ]
  },
  {
   "cell_type": "code",
   "execution_count": null,
   "id": "94bcadbc-4dea-4757-b2a2-3639631bd0ff",
   "metadata": {},
   "outputs": [],
   "source": [
    "cVega = call_vega(bs.lastCloseP, c.strike_price, bs.tMature, bs.riskFree, bs.sigma)\n",
    "pVega = put_vega(bs.lastCloseP, c.strike_price, bs.tMature, bs.riskFree, bs.sigma)\n",
    "\n",
    "print('Call Option Vega: {}'.format(cVega),end='\\n')\n",
    "print('Put Option Vega: {}'.format(pVega),end='\\n')"
   ]
  },
  {
   "cell_type": "markdown",
   "id": "25654c58-cb88-4584-9350-d80c8236da50",
   "metadata": {},
   "source": [
    "# Theta\n",
    "---\n",
    "- sensitivity of option price relative to the option's time to maturity \n",
    "- how much the price of an option should decrease each day as the option nears expiration \n",
    "- price erosion over time: **time decay**\n",
    "- Time-Value erosion is not linear\n",
    "    - ATM just slightly OOTM as expiration approaches\n",
    "    - ITM increases as expiration approaches \n",
    "    - OOTM decrease as expiration approaches"
   ]
  },
  {
   "cell_type": "code",
   "execution_count": 24,
   "id": "908bbb02-ebfc-4718-a044-7d67b832f0b9",
   "metadata": {},
   "outputs": [
    {
     "ename": "AttributeError",
     "evalue": "type object 'THETA' has no attribute 'call'",
     "output_type": "error",
     "traceback": [
      "\u001b[0;31m---------------------------------------------------------------------------\u001b[0m",
      "\u001b[0;31mAttributeError\u001b[0m                            Traceback (most recent call last)",
      "\u001b[0;32m<ipython-input-24-b90f57f32ea1>\u001b[0m in \u001b[0;36m<module>\u001b[0;34m\u001b[0m\n\u001b[1;32m      1\u001b[0m \u001b[0;31m# From .py file\u001b[0m\u001b[0;34m\u001b[0m\u001b[0;34m\u001b[0m\u001b[0;34m\u001b[0m\u001b[0m\n\u001b[0;32m----> 2\u001b[0;31m \u001b[0mprint\u001b[0m\u001b[0;34m(\u001b[0m\u001b[0;34m'Call Theta: {}'\u001b[0m\u001b[0;34m.\u001b[0m\u001b[0mformat\u001b[0m\u001b[0;34m(\u001b[0m\u001b[0mg\u001b[0m\u001b[0;34m.\u001b[0m\u001b[0mTHETA\u001b[0m\u001b[0;34m.\u001b[0m\u001b[0mcall\u001b[0m\u001b[0;34m(\u001b[0m\u001b[0mbs\u001b[0m\u001b[0;34m.\u001b[0m\u001b[0mlastCloseP\u001b[0m\u001b[0;34m,\u001b[0m \u001b[0mc\u001b[0m\u001b[0;34m.\u001b[0m\u001b[0mstrike_price\u001b[0m\u001b[0;34m,\u001b[0m \u001b[0mbs\u001b[0m\u001b[0;34m.\u001b[0m\u001b[0mtMature\u001b[0m\u001b[0;34m,\u001b[0m \u001b[0mbs\u001b[0m\u001b[0;34m.\u001b[0m\u001b[0mriskFree\u001b[0m\u001b[0;34m,\u001b[0m \u001b[0mbs\u001b[0m\u001b[0;34m.\u001b[0m\u001b[0msigma\u001b[0m\u001b[0;34m)\u001b[0m\u001b[0;34m)\u001b[0m\u001b[0;34m)\u001b[0m\u001b[0;34m\u001b[0m\u001b[0;34m\u001b[0m\u001b[0m\n\u001b[0m\u001b[1;32m      3\u001b[0m \u001b[0mprint\u001b[0m\u001b[0;34m(\u001b[0m\u001b[0;34m'Put Theta: {}'\u001b[0m\u001b[0;34m.\u001b[0m\u001b[0mformat\u001b[0m\u001b[0;34m(\u001b[0m\u001b[0mg\u001b[0m\u001b[0;34m.\u001b[0m\u001b[0mTHETA\u001b[0m\u001b[0;34m.\u001b[0m\u001b[0mput\u001b[0m\u001b[0;34m(\u001b[0m\u001b[0mbs\u001b[0m\u001b[0;34m.\u001b[0m\u001b[0mlastCloseP\u001b[0m\u001b[0;34m,\u001b[0m \u001b[0mc\u001b[0m\u001b[0;34m.\u001b[0m\u001b[0mstrike_price\u001b[0m\u001b[0;34m,\u001b[0m \u001b[0mbs\u001b[0m\u001b[0;34m.\u001b[0m\u001b[0mtMature\u001b[0m\u001b[0;34m,\u001b[0m \u001b[0mbs\u001b[0m\u001b[0;34m.\u001b[0m\u001b[0mriskFree\u001b[0m\u001b[0;34m,\u001b[0m \u001b[0mbs\u001b[0m\u001b[0;34m.\u001b[0m\u001b[0msigma\u001b[0m\u001b[0;34m)\u001b[0m\u001b[0;34m)\u001b[0m\u001b[0;34m)\u001b[0m\u001b[0;34m\u001b[0m\u001b[0;34m\u001b[0m\u001b[0m\n",
      "\u001b[0;31mAttributeError\u001b[0m: type object 'THETA' has no attribute 'call'"
     ]
    }
   ],
   "source": [
    "# From .py file\n",
    "print('Call Theta: {}'.format(g.THETA.call(bs.lastCloseP, c.strike_price, bs.tMature, bs.riskFree, bs.sigma)))\n",
    "print('Put Theta: {}'.format(g.THETA.put(bs.lastCloseP, c.strike_price, bs.tMature, bs.riskFree, bs.sigma)))"
   ]
  },
  {
   "cell_type": "code",
   "execution_count": null,
   "id": "c8818dd9-1c18-4967-91f4-d77a19f3fd91",
   "metadata": {},
   "outputs": [],
   "source": [
    "# Call Option: Theta\n",
    "def call_theta(s,k,t,r,sigma): \n",
    "    return 0.01 * (-(s * norm.pdf(bs.d1(s,k,t,r,sigma))*sigma)/(2*sqrt(t)) - r*k*exp(-r*t)*norm.cdf(bs.d2(s,k,t,r,sigma)))\n",
    "\n",
    "# Put Option: Theta\n",
    "def put_theta(s,k,t,r,sigma): \n",
    "    return 0.01 * (-(s * norm.pdf(bs.d1(s,k,t,r,sigma))*sigma)/(2*sqrt(t)) + r*k*exp(-r*t)*norm.cdf(-bs.d2(s,k,t,r,sigma)))"
   ]
  },
  {
   "cell_type": "code",
   "execution_count": null,
   "id": "22b26562-be1c-4566-be6a-6eac73d6146f",
   "metadata": {},
   "outputs": [],
   "source": [
    "cTheta = call_theta(bs.lastCloseP, c.strike_price, bs.tMature, bs.riskFree, bs.sigma)\n",
    "pTheta = put_theta(bs.lastCloseP, c.strike_price, bs.tMature, bs.riskFree, bs.sigma)\n",
    "\n",
    "print('Call Option Theta: {}'.format(cTheta),end='\\n')\n",
    "print('Put Option Theta: {}'.format(pTheta),end='\\n')"
   ]
  },
  {
   "cell_type": "markdown",
   "id": "90c70b6c-1219-4834-9254-2c24b08f98aa",
   "metadata": {},
   "source": [
    "---\n",
    "## Rho\n",
    "---\n",
    "- sensitivity of the option price relative to interest rates\n",
    "- measures expected change in an option's price per *one-percentage-point* change in interest rates \n",
    "    - how much the price of an option should rise or fall if the risk-free interest rate (US T-Bills) increases or decreases\n",
    "    - impliest potential change in interest rates \n",
    "    - applied around FOMC meetings \n",
    "- IR Increase: value of **call options** increase\n",
    "    - Call Options: Positive Rho\n",
    "- IR Decrease: value of **put options** decrease \n",
    "    - Put Options: Negative Rho \n",
    "- stock trading at strike price of `$25`\n",
    "    - 25 calls and 25 puts -> exactly at the money\n",
    "    - calls trading at `$0.60`\n",
    "    - puts trading at `$0.50`\n",
    "    - when IR are low, price difference between puts and calls will be relatively small\n",
    "    - when IR increase, gap widens - calls will become more expensive \n",
    "- Long-Term Equity AnticiPation Securities (LEAPS) far more sensitive to change in IR than short-term options \n",
    "  "
   ]
  },
  {
   "cell_type": "code",
   "execution_count": 26,
   "id": "2ce95cd9-b05e-42a6-8a97-706fdffd5610",
   "metadata": {},
   "outputs": [
    {
     "ename": "AttributeError",
     "evalue": "type object 'RHO' has no attribute 'call'",
     "output_type": "error",
     "traceback": [
      "\u001b[0;31m---------------------------------------------------------------------------\u001b[0m",
      "\u001b[0;31mAttributeError\u001b[0m                            Traceback (most recent call last)",
      "\u001b[0;32m<ipython-input-26-cab0d37fe0d0>\u001b[0m in \u001b[0;36m<module>\u001b[0;34m\u001b[0m\n\u001b[1;32m      1\u001b[0m \u001b[0;31m# From .py File\u001b[0m\u001b[0;34m\u001b[0m\u001b[0;34m\u001b[0m\u001b[0;34m\u001b[0m\u001b[0m\n\u001b[0;32m----> 2\u001b[0;31m \u001b[0mprint\u001b[0m\u001b[0;34m(\u001b[0m\u001b[0;34m'Call Rho: {}'\u001b[0m\u001b[0;34m.\u001b[0m\u001b[0mformat\u001b[0m\u001b[0;34m(\u001b[0m\u001b[0mg\u001b[0m\u001b[0;34m.\u001b[0m\u001b[0mRHO\u001b[0m\u001b[0;34m.\u001b[0m\u001b[0mcall\u001b[0m\u001b[0;34m(\u001b[0m\u001b[0mbs\u001b[0m\u001b[0;34m.\u001b[0m\u001b[0mlastCloseP\u001b[0m\u001b[0;34m,\u001b[0m \u001b[0mc\u001b[0m\u001b[0;34m.\u001b[0m\u001b[0mstrike_price\u001b[0m\u001b[0;34m,\u001b[0m \u001b[0mbs\u001b[0m\u001b[0;34m.\u001b[0m\u001b[0mtMature\u001b[0m\u001b[0;34m,\u001b[0m \u001b[0mbs\u001b[0m\u001b[0;34m.\u001b[0m\u001b[0mriskFree\u001b[0m\u001b[0;34m,\u001b[0m \u001b[0mbs\u001b[0m\u001b[0;34m.\u001b[0m\u001b[0msigma\u001b[0m\u001b[0;34m)\u001b[0m\u001b[0;34m)\u001b[0m\u001b[0;34m)\u001b[0m\u001b[0;34m\u001b[0m\u001b[0;34m\u001b[0m\u001b[0m\n\u001b[0m\u001b[1;32m      3\u001b[0m \u001b[0mprint\u001b[0m\u001b[0;34m(\u001b[0m\u001b[0;34m'Put Rho: {}'\u001b[0m\u001b[0;34m.\u001b[0m\u001b[0mformat\u001b[0m\u001b[0;34m(\u001b[0m\u001b[0mg\u001b[0m\u001b[0;34m.\u001b[0m\u001b[0mRHO\u001b[0m\u001b[0;34m.\u001b[0m\u001b[0mput\u001b[0m\u001b[0;34m(\u001b[0m\u001b[0mbs\u001b[0m\u001b[0;34m.\u001b[0m\u001b[0mlastCloseP\u001b[0m\u001b[0;34m,\u001b[0m \u001b[0mc\u001b[0m\u001b[0;34m.\u001b[0m\u001b[0mstrike_price\u001b[0m\u001b[0;34m,\u001b[0m \u001b[0mbs\u001b[0m\u001b[0;34m.\u001b[0m\u001b[0mtMature\u001b[0m\u001b[0;34m,\u001b[0m \u001b[0mbs\u001b[0m\u001b[0;34m.\u001b[0m\u001b[0mriskFree\u001b[0m\u001b[0;34m,\u001b[0m \u001b[0mbs\u001b[0m\u001b[0;34m.\u001b[0m\u001b[0msigma\u001b[0m\u001b[0;34m)\u001b[0m\u001b[0;34m)\u001b[0m\u001b[0;34m)\u001b[0m\u001b[0;34m\u001b[0m\u001b[0;34m\u001b[0m\u001b[0m\n",
      "\u001b[0;31mAttributeError\u001b[0m: type object 'RHO' has no attribute 'call'"
     ]
    }
   ],
   "source": [
    "# From .py File\n",
    "print('Call Rho: {}'.format(g.RHO.call(bs.lastCloseP, c.strike_price, bs.tMature, bs.riskFree, bs.sigma)))\n",
    "print('Put Rho: {}'.format(g.RHO.put(bs.lastCloseP, c.strike_price, bs.tMature, bs.riskFree, bs.sigma)))"
   ]
  },
  {
   "cell_type": "code",
   "execution_count": null,
   "id": "b9bd0afe-4e08-4ff1-8594-a024a28a307d",
   "metadata": {},
   "outputs": [],
   "source": [
    "# Call Option: Rho\n",
    "def call_rho(s,k,t,r,sigma): \n",
    "    return 0.01 * (k*t*exp(-r*t) * norm.cdf(bs.d2(s,k,t,r,sigma)))\n",
    "\n",
    "# Put Option: Rho\n",
    "def put_rho(s,k,t,r,sigma): \n",
    "    return 0.01 * (-k*t*exp(-r*t) * norm.cdf(-bs.d2(s,k,t,r,sigma)))"
   ]
  },
  {
   "cell_type": "code",
   "execution_count": null,
   "id": "5993aea2-74e7-4ee9-8853-77595c896ec2",
   "metadata": {},
   "outputs": [],
   "source": [
    "cRho = call_rho(bs.lastCloseP, c.strike_price, bs.tMature, bs.riskFree, bs.sigma)\n",
    "pRho = put_rho(bs.lastCloseP, c.strike_price, bs.tMature, bs.riskFree, bs.sigma)\n",
    "\n",
    "print('Call Option Rho: {}'.format(cRho),end='\\n')\n",
    "print('Put Option Rho: {}'.format(pRho),end='\\n')"
   ]
  },
  {
   "cell_type": "code",
   "execution_count": null,
   "id": "d65c3ede",
   "metadata": {},
   "outputs": [],
   "source": []
  }
 ],
 "metadata": {
  "kernelspec": {
   "display_name": "Python 3",
   "language": "python",
   "name": "python3"
  },
  "language_info": {
   "codemirror_mode": {
    "name": "ipython",
    "version": 3
   },
   "file_extension": ".py",
   "mimetype": "text/x-python",
   "name": "python",
   "nbconvert_exporter": "python",
   "pygments_lexer": "ipython3",
   "version": "3.8.8"
  }
 },
 "nbformat": 4,
 "nbformat_minor": 5
}
