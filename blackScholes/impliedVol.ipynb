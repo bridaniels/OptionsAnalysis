{
 "cells": [
  {
   "cell_type": "markdown",
   "id": "4dd62504-66a2-4587-bf83-8e0cab343106",
   "metadata": {},
   "source": [
    "# **Implied Volatility**\n",
    "---\n",
    "---"
   ]
  },
  {
   "cell_type": "markdown",
   "id": "6a097259-36d4-4166-b4b3-b3bab5a923a2",
   "metadata": {},
   "source": [
    "### Import *.py* Files"
   ]
  },
  {
   "cell_type": "code",
   "execution_count": 37,
   "id": "35937e79-4d7d-4cad-8ee7-38259848b92a",
   "metadata": {},
   "outputs": [],
   "source": [
    "# only shows data first time - restart kernel \n",
    "import CONFIG as c\n",
    "import BLACK_SCHOLES as bs\n",
    "import IMPLIEDVOL as iv"
   ]
  },
  {
   "cell_type": "markdown",
   "id": "95ab5f53-1a50-465f-90f1-400228c33394",
   "metadata": {},
   "source": [
    "### Import Libraries "
   ]
  },
  {
   "cell_type": "code",
   "execution_count": 38,
   "id": "e8123d5e-db2a-4cd5-87bb-d40a359308bb",
   "metadata": {},
   "outputs": [],
   "source": [
    "import math\n",
    "\n",
    "import pandas as pd\n",
    "import numpy as np \n",
    "\n",
    "from datetime import datetime,date\n",
    "from scipy.stats import norm\n",
    "from math import log, sqrt, pi, exp"
   ]
  },
  {
   "cell_type": "markdown",
   "id": "9b2ec201-c94e-46a1-9679-bcb45a6128e5",
   "metadata": {},
   "source": [
    "--- \n",
    "---\n",
    "# Implied Volatility\n",
    "---\n",
    "---\n",
    "- expected future volatility of the stock over the life of the option \n",
    "- influenced by supply and demand of the underlying option and the market's expectation of the stock price's direction \n",
    "- calculated by solving the *Black Scholes* equation backwards for the (σ)volatility starting with option trading price \n",
    "- measure if prices are cheap or expensive \n",
    "- **High:** high-priced option premiums\n",
    "- **Low:** demand for option decreasing, prices decrease "
   ]
  },
  {
   "cell_type": "code",
   "execution_count": 39,
   "id": "d7d8df25-d097-491f-8c0c-ce32126f9f62",
   "metadata": {},
   "outputs": [],
   "source": [
    "vol_sigma = 0.001"
   ]
  },
  {
   "cell_type": "markdown",
   "id": "8511b3ed-8ac1-4036-85da-4a9f11e28e9b",
   "metadata": {},
   "source": [
    "## Call Option Implied Volatility \n",
    "---\n",
    "- different *sigma*"
   ]
  },
  {
   "cell_type": "code",
   "execution_count": 40,
   "id": "af5425e8-dae2-4260-ba2c-e3433f1d3b81",
   "metadata": {},
   "outputs": [],
   "source": [
    "def call_implied_volatility(price,sigma, s,k,t,r):\n",
    "    og_sig = sigma\n",
    "    while sigma < 1: \n",
    "        # sigma is different than in bs.prob1 and bs.prob2 \n",
    "        implied_p = (s * norm.cdf(bs.d1(s,k,t,r,sigma)) - k*math.exp(-r*t) * norm.cdf(bs.d2(s,k,t,r,sigma)))\n",
    "        if price-implied_p < og_sig: \n",
    "            return sigma\n",
    "        sigma += og_sig\n",
    "    return \"Not Found\""
   ]
  },
  {
   "cell_type": "code",
   "execution_count": 41,
   "id": "cfe18b52-5216-46b6-b45b-4517eaa75ede",
   "metadata": {},
   "outputs": [
    {
     "name": "stdout",
     "output_type": "stream",
     "text": [
      "Call Option Implied Volatility: 16.400000000000013%\n",
      "IMPLIEDVOL.py: 16.400000000000013%\n",
      "Volatility: 0.001\n",
      "IMPLIEDVOL.py: 16.400000000000013%\n"
     ]
    }
   ],
   "source": [
    "call_IV = call_implied_volatility(bs.callOption, vol_sigma, bs.lastCloseP, c.strike_price, bs.tMature, bs.riskFree)\n",
    "\n",
    "print('Call Option Implied Volatility: {}%'.format(100*call_IV))\n",
    "\n",
    "print('IMPLIEDVOL.py: {}%'.format(100*iv.call_implied_volatility(bs.callOption, bs.lastCloseP, c.strike_price, bs.tMature, bs.riskFree)))\n",
    "print('Volatility: {}'.format(c.desired_sigma))\n",
    "print('IMPLIEDVOL.py: {}%'.format(100*iv.call_implied_volatility(bs.callOption, bs.lastCloseP, c.strike_price, bs.tMature, bs.riskFree, c.desired_sigma)))\n",
    "#print(c.desired_sigma)"
   ]
  },
  {
   "cell_type": "markdown",
   "id": "e318c88c-6e30-4349-94b0-f4cd276991b5",
   "metadata": {},
   "source": [
    "## Put Option Implied Volatility\n",
    "---\n",
    "- different *sigma*"
   ]
  },
  {
   "cell_type": "code",
   "execution_count": 42,
   "id": "66d7012d-50ce-4689-b403-0a7ce8da0126",
   "metadata": {},
   "outputs": [],
   "source": [
    "def put_implied_volatility(price,sigma, s,k,t,r):\n",
    "    og_sig = sigma \n",
    "    while sigma < 1: \n",
    "        # call back to sigma function \n",
    "        implied_p = k*math.exp(-r*t) - s + bs.bs_call(s,k,t,r,sigma)\n",
    "        if price-implied_p < og_sig: \n",
    "            return sigma\n",
    "        sigma += og_sig\n",
    "    return \"Not Found\""
   ]
  },
  {
   "cell_type": "code",
   "execution_count": 43,
   "id": "df238f49-b668-4c37-8324-57e101b1d09c",
   "metadata": {},
   "outputs": [
    {
     "name": "stdout",
     "output_type": "stream",
     "text": [
      "Put Option Implied Volatility: 66.60000000000005%\n",
      "IMPLIEDVOL.py: 66.60000000000005%\n",
      "Volatility: 0.001\n",
      " IMPLIEDVOL.py: 66.60000000000005%\n"
     ]
    }
   ],
   "source": [
    "put_IV = put_implied_volatility(bs.callOption, vol_sigma, bs.lastCloseP, c.strike_price, bs.tMature, bs.riskFree)\n",
    "\n",
    "print('Put Option Implied Volatility: {}%'.format(100*put_IV))\n",
    "print('IMPLIEDVOL.py: {}%'.format(100*iv.put_implied_volatility(bs.callOption, bs.lastCloseP, c.strike_price, bs.tMature, bs.riskFree)))\n",
    "print('Volatility: {}\\nIMPLIEDVOL.py: {}%'.format(c.desired_sigma, 100*iv.put_implied_volatility(bs.callOption, bs.lastCloseP, c.strike_price, bs.tMature, bs.riskFree, c.desired_sigma)))"
   ]
  },
  {
   "cell_type": "code",
   "execution_count": null,
   "id": "d99cd536-2167-47d4-bf28-84e89f74243e",
   "metadata": {},
   "outputs": [],
   "source": []
  }
 ],
 "metadata": {
  "kernelspec": {
   "display_name": "Python 3",
   "language": "python",
   "name": "python3"
  },
  "language_info": {
   "codemirror_mode": {
    "name": "ipython",
    "version": 3
   },
   "file_extension": ".py",
   "mimetype": "text/x-python",
   "name": "python",
   "nbconvert_exporter": "python",
   "pygments_lexer": "ipython3",
   "version": "3.8.8"
  }
 },
 "nbformat": 4,
 "nbformat_minor": 5
}
