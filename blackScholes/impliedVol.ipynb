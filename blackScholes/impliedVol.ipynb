{
 "cells": [
  {
   "cell_type": "markdown",
   "id": "4dd62504-66a2-4587-bf83-8e0cab343106",
   "metadata": {},
   "source": [
    "# **Implied Volatility**\n",
    "---\n",
    "---"
   ]
  },
  {
   "cell_type": "markdown",
   "id": "6a097259-36d4-4166-b4b3-b3bab5a923a2",
   "metadata": {},
   "source": [
    "### Import *.py* Files"
   ]
  },
  {
   "cell_type": "code",
   "execution_count": 1,
   "id": "35937e79-4d7d-4cad-8ee7-38259848b92a",
   "metadata": {},
   "outputs": [
    {
     "name": "stdout",
     "output_type": "stream",
     "text": [
      "Stock: SPY \n",
      " Expiration: 12-18-2022 \n",
      " Strike Price: 370 \n",
      " Data Source: yahoo \n",
      "\n",
      "<class 'pandas.core.frame.DataFrame'>\n",
      "DatetimeIndex: 253 entries, 2021-04-29 to 2022-04-28\n",
      "Data columns (total 8 columns):\n",
      " #   Column            Non-Null Count  Dtype  \n",
      "---  ------            --------------  -----  \n",
      " 0   High              253 non-null    float64\n",
      " 1   Low               253 non-null    float64\n",
      " 2   Open              253 non-null    float64\n",
      " 3   Close             253 non-null    float64\n",
      " 4   Volume            253 non-null    float64\n",
      " 5   Adj Close         253 non-null    float64\n",
      " 6   close_day_before  252 non-null    float64\n",
      " 7   returns           252 non-null    float64\n",
      "dtypes: float64(8)\n",
      "memory usage: 17.8 KB\n",
      "None\n",
      " \n",
      "Variables: \n",
      " s = Last Close Price: 427.80999755859375 \n",
      " k = Strike Price: 370 \n",
      " t = Time to Maturity: 0.6383561643835617 \n",
      " r = Risk-Free-Rate: 0.0286299991607666 \n",
      " Sigma: 0.15948160363892538\n",
      "Risk-Adjusted Probability (d1): 1.3464809910807405 (d2): 1.2190596644800977\n",
      "Individual Functions: \n",
      " Call Option: 66.87957058462212 \n",
      " Put Option: 2.3688209814717993\n",
      "black_scholes(): \n",
      " Call Option: 66.87957058462212 \n",
      " Put Option: 2.3688209814717993\n"
     ]
    }
   ],
   "source": [
    "# only shows data first time - restart kernel \n",
    "import CONFIG as c\n",
    "import BLACK_SCHOLES as bs"
   ]
  },
  {
   "cell_type": "markdown",
   "id": "95ab5f53-1a50-465f-90f1-400228c33394",
   "metadata": {},
   "source": [
    "### Import Libraries "
   ]
  },
  {
   "cell_type": "code",
   "execution_count": 2,
   "id": "e8123d5e-db2a-4cd5-87bb-d40a359308bb",
   "metadata": {},
   "outputs": [],
   "source": [
    "import pandas as pd\n",
    "import numpy as np \n",
    "\n",
    "from datetime import datetime,date\n",
    "from scipy.stats import norm\n",
    "from math import log, sqrt, pi, exp"
   ]
  },
  {
   "cell_type": "markdown",
   "id": "9b2ec201-c94e-46a1-9679-bcb45a6128e5",
   "metadata": {},
   "source": [
    "--- \n",
    "---\n",
    "# Implied Volatility\n",
    "---\n",
    "---\n",
    "- expected future volatility of the stock over the life of the option \n",
    "- influenced by supply and demand of the underlying option and the market's expectation of the stock price's direction \n",
    "- calculated by solving the *Black Scholes* equation backwards for the (σ)volatility starting with option trading price \n",
    "- measure if prices are cheap or expensive \n",
    "- **High:** high-priced option premiums\n",
    "- **Low:** demand for option decreasing, prices decrease "
   ]
  },
  {
   "cell_type": "code",
   "execution_count": 3,
   "id": "d7d8df25-d097-491f-8c0c-ce32126f9f62",
   "metadata": {},
   "outputs": [],
   "source": [
    "vol_sigma = 0.001"
   ]
  },
  {
   "cell_type": "markdown",
   "id": "8511b3ed-8ac1-4036-85da-4a9f11e28e9b",
   "metadata": {},
   "source": [
    "## Call Option Implied Volatility \n",
    "---\n",
    "- different *sigma*"
   ]
  },
  {
   "cell_type": "code",
   "execution_count": 4,
   "id": "af5425e8-dae2-4260-ba2c-e3433f1d3b81",
   "metadata": {},
   "outputs": [],
   "source": [
    "def call_implied_volatility(price,sigma, s,k,t,r):\n",
    "    og_sig = sigma\n",
    "    while sigma < 1: \n",
    "        # sigma is different than in bs.prob1 and bs.prob2 \n",
    "        implied_p = (s * norm.cdf(bs.d1(s,k,t,r,sigma)) - k*exp(-r*t) * norm.cdf(bs.d2(s,k,t,r,sigma)))\n",
    "        if price-implied_p < og_sig: \n",
    "            return sigma\n",
    "        sigma += og_sig\n",
    "    return \"Not Found\""
   ]
  },
  {
   "cell_type": "code",
   "execution_count": 5,
   "id": "cfe18b52-5216-46b6-b45b-4517eaa75ede",
   "metadata": {},
   "outputs": [
    {
     "name": "stdout",
     "output_type": "stream",
     "text": [
      "Call Option Implied Volatility: 16.00000000000001%\n"
     ]
    }
   ],
   "source": [
    "call_IV = call_implied_volatility(bs.callOption, vol_sigma, bs.lastCloseP, c.strike_price, bs.tMature, bs.riskFree)\n",
    "\n",
    "print('Call Option Implied Volatility: {}%'.format(100*call_IV))"
   ]
  },
  {
   "cell_type": "markdown",
   "id": "e318c88c-6e30-4349-94b0-f4cd276991b5",
   "metadata": {},
   "source": [
    "## Put Option Implied Volatility\n",
    "---\n",
    "- different *sigma*"
   ]
  },
  {
   "cell_type": "code",
   "execution_count": 6,
   "id": "66d7012d-50ce-4689-b403-0a7ce8da0126",
   "metadata": {},
   "outputs": [],
   "source": [
    "def put_implied_volatility(price,sigma, s,k,t,r):\n",
    "    og_sig = sigma \n",
    "    while sigma < 1: \n",
    "        # call back to sigma function \n",
    "        implied_p = k*exp(-r*t) - s + bs.bs_call(s,k,t,r,sigma)\n",
    "        if price-implied_p < og_sig: \n",
    "            return sigma\n",
    "        sigma += og_sig\n",
    "    return \"Not Found\""
   ]
  },
  {
   "cell_type": "code",
   "execution_count": 7,
   "id": "df238f49-b668-4c37-8324-57e101b1d09c",
   "metadata": {},
   "outputs": [
    {
     "name": "stdout",
     "output_type": "stream",
     "text": [
      "Put Option Implied Volatility: 77.30000000000005%\n"
     ]
    }
   ],
   "source": [
    "put_IV = put_implied_volatility(bs.callOption, vol_sigma, bs.lastCloseP, c.strike_price, bs.tMature, bs.riskFree)\n",
    "\n",
    "print('Put Option Implied Volatility: {}%'.format(100*put_IV))"
   ]
  },
  {
   "cell_type": "code",
   "execution_count": null,
   "id": "d99cd536-2167-47d4-bf28-84e89f74243e",
   "metadata": {},
   "outputs": [],
   "source": []
  }
 ],
 "metadata": {
  "kernelspec": {
   "display_name": "Python 3",
   "language": "python",
   "name": "python3"
  },
  "language_info": {
   "codemirror_mode": {
    "name": "ipython",
    "version": 3
   },
   "file_extension": ".py",
   "mimetype": "text/x-python",
   "name": "python",
   "nbconvert_exporter": "python",
   "pygments_lexer": "ipython3",
   "version": "3.8.8"
  }
 },
 "nbformat": 4,
 "nbformat_minor": 5
}
