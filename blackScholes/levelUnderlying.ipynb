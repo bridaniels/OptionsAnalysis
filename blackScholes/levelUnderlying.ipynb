{
 "cells": [
  {
   "cell_type": "markdown",
   "id": "77fa945a-6db9-4a0b-ba05-640850029167",
   "metadata": {},
   "source": [
    "---\n",
    "---\n",
    "# Level of Underlying \n",
    "---\n",
    "---"
   ]
  },
  {
   "cell_type": "markdown",
   "id": "ac96c3e0-1573-42b5-b3fc-816883ef4319",
   "metadata": {},
   "source": [
    "#### Import Libraries\n",
    "- [datascience](https://github.com/data-8/datascience)\n",
    "- [ipywidgets](https://ipywidgets.readthedocs.io/en/latest/)"
   ]
  },
  {
   "cell_type": "code",
   "execution_count": 1,
   "id": "10c50f7b-0339-4b8d-b3c7-d75570697993",
   "metadata": {},
   "outputs": [],
   "source": [
    "import matplotlib \n",
    "import warnings \n",
    "\n",
    "import pandas as pd\n",
    "import numpy as np \n",
    "\n",
    "import matplotlib.pyplot as plt \n",
    "import ipywidgets as widgets\n",
    "\n",
    "from pandas_datareader import data as web\n",
    "from datetime import datetime,date\n",
    "from scipy.stats import norm\n",
    "from math import log, sqrt, pi, exp\n",
    "\n",
    "from datascience import *\n",
    "from ipywidgets import interact, interactive, fixed, interact_manual\n",
    "\n",
    "plt.style.use('fivethirtyeight')\n",
    "warnings.simplefilter('ignore', FutureWarning)\n",
    "%matplotlib inline"
   ]
  },
  {
   "cell_type": "markdown",
   "id": "be9374b4-1b70-4609-87d9-fe997df23ca1",
   "metadata": {},
   "source": [
    "### Define Variables"
   ]
  },
  {
   "cell_type": "code",
   "execution_count": 2,
   "id": "edc36463-818d-4ce1-b49a-8a2f3d28d432",
   "metadata": {},
   "outputs": [],
   "source": [
    "stock = 'SPY'\n",
    "expiration = '12-18-2022'\n",
    "strike_price = 370"
   ]
  },
  {
   "cell_type": "markdown",
   "id": "ddc3e4f5-c36b-4a25-9340-2c11762a6fb1",
   "metadata": {},
   "source": [
    "### Import Data"
   ]
  },
  {
   "cell_type": "code",
   "execution_count": 3,
   "id": "fd5afdfa-cb39-4168-9e07-43b65accaac3",
   "metadata": {},
   "outputs": [
    {
     "name": "stdout",
     "output_type": "stream",
     "text": [
      "<class 'pandas.core.frame.DataFrame'>\n",
      "DatetimeIndex: 253 entries, 2021-04-29 to 2022-04-28\n",
      "Data columns (total 8 columns):\n",
      " #   Column            Non-Null Count  Dtype  \n",
      "---  ------            --------------  -----  \n",
      " 0   High              253 non-null    float64\n",
      " 1   Low               253 non-null    float64\n",
      " 2   Open              253 non-null    float64\n",
      " 3   Close             253 non-null    float64\n",
      " 4   Volume            253 non-null    float64\n",
      " 5   Adj Close         253 non-null    float64\n",
      " 6   close_day_before  252 non-null    float64\n",
      " 7   returns           252 non-null    float64\n",
      "dtypes: float64(8)\n",
      "memory usage: 17.8 KB\n"
     ]
    }
   ],
   "source": [
    "today = datetime.now()\n",
    "one_yr_ago = today.replace(year=today.year-1)\n",
    "\n",
    "df = web.DataReader(name=stock, data_source='yahoo', start=one_yr_ago, end=today)\n",
    "df = df.sort_values(by='Date')\n",
    "df = df.dropna()\n",
    "\n",
    "df = df.assign(close_day_before=df.Close.shift(1))\n",
    "df['returns'] = ((df.Close-df.close_day_before) / df.close_day_before)\n",
    "\n",
    "df.info()"
   ]
  },
  {
   "cell_type": "markdown",
   "id": "eaae559a-779d-4c5c-8519-bda576332f11",
   "metadata": {},
   "source": [
    "---\n",
    "## Black Scholes as a Single Function \n",
    "---"
   ]
  },
  {
   "cell_type": "code",
   "execution_count": 4,
   "id": "aeb90cab-8da7-4dab-acf4-2b5e50ca78f7",
   "metadata": {},
   "outputs": [
    {
     "name": "stdout",
     "output_type": "stream",
     "text": [
      "0.15948160363892538 0.0286299991607666 427.80999755859375 0.6383561643835617\n"
     ]
    }
   ],
   "source": [
    "# σ = volatility (σ is lowercase)\n",
    "sigma = np.sqrt(252) * df['returns'].std()\n",
    "# r = risk-free rate (10-yr U.S. Treasury Yield, can get from ^TNX)\n",
    "usTY10 = '^TNX'\n",
    "riskFree = (web.DataReader(name=usTY10, data_source='yahoo', start=today.replace(day=today.day-1), end=today)['Close'].iloc[-1])/100\n",
    "# s = Current Stock Price (spot price, or last close price )\n",
    "lastCloseP = df['Close'].iloc[-1]\n",
    "# t = Time To Maturity \n",
    "tMature = (datetime.strptime(expiration, \"%m-%d-%Y\") - datetime.utcnow()).days / 365\n",
    "print(sigma, riskFree, lastCloseP, tMature)"
   ]
  },
  {
   "cell_type": "code",
   "execution_count": 5,
   "id": "7b9c00e6-b10a-45d9-8f49-ab8b26798c6e",
   "metadata": {},
   "outputs": [],
   "source": [
    "def blackScholes(s,k,t,r,sigma,option='call'):\n",
    "    \n",
    "    d1 = (log(s/k) + (r + sigma**2/2) * t) / (sigma*sqrt(t))\n",
    "    d2 = (log(s/k) + (r - sigma**2/2) * t) / (sigma*sqrt(t))\n",
    "    \n",
    "    if option == 'call':\n",
    "        call = (s*norm.cdf(d1,0.0,1.0) - k*exp(-r*t) * norm.cdf(d2, 0.0, 1.0))\n",
    "        return call\n",
    "    if option == 'put':\n",
    "        put = (k*exp(-r*t) * norm.cdf(-d2, 0.0, 1.0) - s * norm.cdf(-d1, 0.0, 1.0))\n",
    "        return put "
   ]
  },
  {
   "cell_type": "code",
   "execution_count": 6,
   "id": "4bb414d4-45ac-4e96-b690-a21d52216cfb",
   "metadata": {},
   "outputs": [
    {
     "name": "stdout",
     "output_type": "stream",
     "text": [
      "Call Option:  66.87957058462212\n",
      "Put Option: 2.368820981471785\n"
     ]
    }
   ],
   "source": [
    "callSing = blackScholes(lastCloseP, strike_price, tMature, riskFree, sigma, option='call')\n",
    "putSing = blackScholes(lastCloseP, strike_price, tMature, riskFree, sigma, option='put')\n",
    "print('Call Option:  {}'.format(callSing))\n",
    "print('Put Option: {}'.format(putSing))"
   ]
  },
  {
   "cell_type": "markdown",
   "id": "b8526082-4874-4a11-a7ee-4de1ea881669",
   "metadata": {},
   "source": [
    "---\n",
    "---\n",
    "## Level of Underlying \n",
    "---\n",
    "---"
   ]
  },
  {
   "cell_type": "code",
   "execution_count": 7,
   "id": "f964e6c0-224a-405b-b5fe-5fbd863ca580",
   "metadata": {},
   "outputs": [],
   "source": [
    "new_table = Table().with_column(\"Level of Underlying\", np.arange(0,101,10))\n",
    "#new_table.show()"
   ]
  },
  {
   "cell_type": "code",
   "execution_count": 8,
   "id": "a103e6ec-166a-4713-a6e6-3cf9540c90a8",
   "metadata": {},
   "outputs": [],
   "source": [
    "ek = 50\n",
    "et = 1\n",
    "er = 0.1\n",
    "es = 0.39115"
   ]
  },
  {
   "cell_type": "code",
   "execution_count": 9,
   "id": "f0ffc594-6b1b-422e-93bb-78333c541aca",
   "metadata": {},
   "outputs": [
    {
     "data": {
      "text/plain": [
       "array([0.00000000e+00, 1.08176967e-04, 7.77138496e-02, 1.07658328e+00,\n",
       "       4.30794966e+00, 9.99974419e+00, 1.75336194e+01, 2.62035114e+01,\n",
       "       3.55074908e+01, 4.51478326e+01, 5.49623485e+01])"
      ]
     },
     "execution_count": 9,
     "metadata": {},
     "output_type": "execute_result"
    }
   ],
   "source": [
    "expiration_oneYR_arr = make_array()\n",
    "for price in np.arange(0,101,10):\n",
    "    if price == 0:\n",
    "        expiration_oneYR_arr = np.append(expiration_oneYR_arr,0)\n",
    "    else:\n",
    "        #expiration_oneYR_arr = np.append(expiration_oneYR_arr, blackScholes(price, strike_price, tMature, riskFree, sigma, option='call'))\n",
    "        expiration_oneYR_arr = np.append(expiration_oneYR_arr, blackScholes(price, ek, et, er, es, option='call'))\n",
    "\n",
    "expiration_oneYR_arr"
   ]
  },
  {
   "cell_type": "code",
   "execution_count": 10,
   "id": "c43a64d5-1097-4ed3-8a60-4e6c42f72f98",
   "metadata": {},
   "outputs": [
    {
     "data": {
      "text/html": [
       "<table border=\"1\" class=\"dataframe\">\n",
       "    <thead>\n",
       "        <tr>\n",
       "            <th>Level of Underlying</th> <th>Time to Expiration of One Year</th>\n",
       "        </tr>\n",
       "    </thead>\n",
       "    <tbody>\n",
       "        <tr>\n",
       "            <td>0                  </td> <td>0                             </td>\n",
       "        </tr>\n",
       "        <tr>\n",
       "            <td>10                 </td> <td>0.000108177                   </td>\n",
       "        </tr>\n",
       "        <tr>\n",
       "            <td>20                 </td> <td>0.0777138                     </td>\n",
       "        </tr>\n",
       "        <tr>\n",
       "            <td>30                 </td> <td>1.07658                       </td>\n",
       "        </tr>\n",
       "        <tr>\n",
       "            <td>40                 </td> <td>4.30795                       </td>\n",
       "        </tr>\n",
       "        <tr>\n",
       "            <td>50                 </td> <td>9.99974                       </td>\n",
       "        </tr>\n",
       "        <tr>\n",
       "            <td>60                 </td> <td>17.5336                       </td>\n",
       "        </tr>\n",
       "        <tr>\n",
       "            <td>70                 </td> <td>26.2035                       </td>\n",
       "        </tr>\n",
       "        <tr>\n",
       "            <td>80                 </td> <td>35.5075                       </td>\n",
       "        </tr>\n",
       "        <tr>\n",
       "            <td>90                 </td> <td>45.1478                       </td>\n",
       "        </tr>\n",
       "        <tr>\n",
       "            <td>100                </td> <td>54.9623                       </td>\n",
       "        </tr>\n",
       "    </tbody>\n",
       "</table>"
      ],
      "text/plain": [
       "<IPython.core.display.HTML object>"
      ]
     },
     "metadata": {},
     "output_type": "display_data"
    }
   ],
   "source": [
    "new_table = new_table.with_column(\"Time to Expiration of One Year\", expiration_oneYR_arr)\n",
    "new_table.show()"
   ]
  },
  {
   "cell_type": "code",
   "execution_count": 11,
   "id": "f915ffe7-783b-43a0-9f8c-24c4e291e3df",
   "metadata": {},
   "outputs": [
    {
     "data": {
      "text/plain": [
       "array([0.00000000e+00, 0.00000000e+00, 0.00000000e+00, 0.00000000e+00,\n",
       "       0.00000000e+00, 2.46755821e-03, 1.00000005e+01, 2.00000005e+01,\n",
       "       3.00000005e+01, 4.00000005e+01, 5.00000005e+01])"
      ]
     },
     "execution_count": 11,
     "metadata": {},
     "output_type": "execute_result"
    }
   ],
   "source": [
    "no_expiration = make_array()\n",
    "noExp = 0.0000001\n",
    "for price in np.arange(0,101,10):\n",
    "    if price == 0: \n",
    "        no_expiration = np.append(no_expiration, 0)\n",
    "    else: \n",
    "        #no_expiration = np.append(no_expiration, blackScholes(price, strike_price, noExp, riskFree, sigma, option='call'))\n",
    "        no_expiration = np.append(no_expiration, blackScholes(price, ek, noExp, er, es, option='call'))\n",
    "        \n",
    "no_expiration"
   ]
  },
  {
   "cell_type": "code",
   "execution_count": 12,
   "id": "5b4d205c-48c0-4f38-939c-378e3144583e",
   "metadata": {},
   "outputs": [
    {
     "data": {
      "text/html": [
       "<table border=\"1\" class=\"dataframe\">\n",
       "    <thead>\n",
       "        <tr>\n",
       "            <th>Level of Underlying</th> <th>Time to Expiration of One Year</th> <th>Time to Expiration of None</th>\n",
       "        </tr>\n",
       "    </thead>\n",
       "    <tbody>\n",
       "        <tr>\n",
       "            <td>0                  </td> <td>0                             </td> <td>0                         </td>\n",
       "        </tr>\n",
       "        <tr>\n",
       "            <td>10                 </td> <td>0.000108177                   </td> <td>0                         </td>\n",
       "        </tr>\n",
       "        <tr>\n",
       "            <td>20                 </td> <td>0.0777138                     </td> <td>0                         </td>\n",
       "        </tr>\n",
       "        <tr>\n",
       "            <td>30                 </td> <td>1.07658                       </td> <td>0                         </td>\n",
       "        </tr>\n",
       "        <tr>\n",
       "            <td>40                 </td> <td>4.30795                       </td> <td>0                         </td>\n",
       "        </tr>\n",
       "        <tr>\n",
       "            <td>50                 </td> <td>9.99974                       </td> <td>0.00246756                </td>\n",
       "        </tr>\n",
       "        <tr>\n",
       "            <td>60                 </td> <td>17.5336                       </td> <td>10                        </td>\n",
       "        </tr>\n",
       "        <tr>\n",
       "            <td>70                 </td> <td>26.2035                       </td> <td>20                        </td>\n",
       "        </tr>\n",
       "        <tr>\n",
       "            <td>80                 </td> <td>35.5075                       </td> <td>30                        </td>\n",
       "        </tr>\n",
       "        <tr>\n",
       "            <td>90                 </td> <td>45.1478                       </td> <td>40                        </td>\n",
       "        </tr>\n",
       "        <tr>\n",
       "            <td>100                </td> <td>54.9623                       </td> <td>50                        </td>\n",
       "        </tr>\n",
       "    </tbody>\n",
       "</table>"
      ],
      "text/plain": [
       "<IPython.core.display.HTML object>"
      ]
     },
     "metadata": {},
     "output_type": "display_data"
    }
   ],
   "source": [
    "new_table = new_table.with_column(\"Time to Expiration of None\", no_expiration)\n",
    "new_table.show()"
   ]
  },
  {
   "cell_type": "code",
   "execution_count": 13,
   "id": "1ed50790-6a30-4941-a053-53d3248c5f78",
   "metadata": {},
   "outputs": [
    {
     "data": {
      "image/png": "[encoded data removed]",
      "text/plain": [
       "<Figure size 432x432 with 1 Axes>"
      ]
     },
     "metadata": {
      "needs_background": "light"
     },
     "output_type": "display_data"
    }
   ],
   "source": [
    "new_table.plot(\"Level of Underlying\")"
   ]
  },
  {
   "cell_type": "code",
   "execution_count": 14,
   "id": "0dc5edde-9974-40a8-918c-af1160f2e5ff",
   "metadata": {},
   "outputs": [
    {
     "data": {
      "text/plain": [
       "array([0.00000000e+00, 1.09800777e-06, 3.33615911e-02, 1.17392974e+00,\n",
       "       5.87264615e+00, 1.37923682e+01, 2.31702304e+01, 3.30095768e+01,\n",
       "       4.29709246e+01, 5.29618710e+01, 6.29597533e+01])"
      ]
     },
     "execution_count": 14,
     "metadata": {},
     "output_type": "execute_result"
    }
   ],
   "source": [
    "exp_threeYr_arr = make_array()\n",
    "for price in np.arange(0,101,10):\n",
    "    threeYr = 3\n",
    "    if price == 0: \n",
    "        exp_threeYr_arr = np.append(exp_threeYr_arr, 0)\n",
    "    else: \n",
    "        #exp_threeYr_arr = np.append(exp_threeYr_arr, blackScholes(price, strike_price, threeYr, sigma, option='call'))\n",
    "        exp_threeYr_arr = np.append(exp_threeYr_arr, blackScholes(price, ek, threeYr, er, sigma, option='call'))\n",
    "exp_threeYr_arr"
   ]
  },
  {
   "cell_type": "code",
   "execution_count": 15,
   "id": "d5770fd3-96c7-4a98-ba2a-e91d01ef230e",
   "metadata": {},
   "outputs": [
    {
     "data": {
      "text/html": [
       "<table border=\"1\" class=\"dataframe\">\n",
       "    <thead>\n",
       "        <tr>\n",
       "            <th>Level of Underlying</th> <th>Time to Expiration of One Year</th> <th>Time to Expiration of None</th> <th>Time to Expiration of Three Years</th>\n",
       "        </tr>\n",
       "    </thead>\n",
       "    <tbody>\n",
       "        <tr>\n",
       "            <td>0                  </td> <td>0                             </td> <td>0                         </td> <td>0                                </td>\n",
       "        </tr>\n",
       "        <tr>\n",
       "            <td>10                 </td> <td>0.000108177                   </td> <td>0                         </td> <td>1.09801e-06                      </td>\n",
       "        </tr>\n",
       "        <tr>\n",
       "            <td>20                 </td> <td>0.0777138                     </td> <td>0                         </td> <td>0.0333616                        </td>\n",
       "        </tr>\n",
       "        <tr>\n",
       "            <td>30                 </td> <td>1.07658                       </td> <td>0                         </td> <td>1.17393                          </td>\n",
       "        </tr>\n",
       "        <tr>\n",
       "            <td>40                 </td> <td>4.30795                       </td> <td>0                         </td> <td>5.87265                          </td>\n",
       "        </tr>\n",
       "        <tr>\n",
       "            <td>50                 </td> <td>9.99974                       </td> <td>0.00246756                </td> <td>13.7924                          </td>\n",
       "        </tr>\n",
       "        <tr>\n",
       "            <td>60                 </td> <td>17.5336                       </td> <td>10                        </td> <td>23.1702                          </td>\n",
       "        </tr>\n",
       "        <tr>\n",
       "            <td>70                 </td> <td>26.2035                       </td> <td>20                        </td> <td>33.0096                          </td>\n",
       "        </tr>\n",
       "        <tr>\n",
       "            <td>80                 </td> <td>35.5075                       </td> <td>30                        </td> <td>42.9709                          </td>\n",
       "        </tr>\n",
       "        <tr>\n",
       "            <td>90                 </td> <td>45.1478                       </td> <td>40                        </td> <td>52.9619                          </td>\n",
       "        </tr>\n",
       "        <tr>\n",
       "            <td>100                </td> <td>54.9623                       </td> <td>50                        </td> <td>62.9598                          </td>\n",
       "        </tr>\n",
       "    </tbody>\n",
       "</table>"
      ],
      "text/plain": [
       "<IPython.core.display.HTML object>"
      ]
     },
     "metadata": {},
     "output_type": "display_data"
    }
   ],
   "source": [
    "new_table = new_table.with_column(\"Time to Expiration of Three Years\", exp_threeYr_arr)\n",
    "new_table.show()"
   ]
  },
  {
   "cell_type": "code",
   "execution_count": 16,
   "id": "1d831451-df3d-4069-b32a-075c5931e5f5",
   "metadata": {},
   "outputs": [
    {
     "data": {
      "image/png": "[encoded data removed]",
      "text/plain": [
       "<Figure size 432x432 with 1 Axes>"
      ]
     },
     "metadata": {
      "needs_background": "light"
     },
     "output_type": "display_data"
    }
   ],
   "source": [
    "new_table.plot(\"Level of Underlying\")\n",
    "plt.title('Level of Underlying for {}'.format(stock))\n",
    "plt.xlabel('Level of Underlying (Arbitrary)')\n",
    "plt.ylabel('Price (Arbitrary)')\n",
    "\n",
    "plt.show()"
   ]
  },
  {
   "cell_type": "code",
   "execution_count": null,
   "id": "dd50c2e8-a427-46d7-b608-8fa410c7dd99",
   "metadata": {},
   "outputs": [],
   "source": []
  }
 ],
 "metadata": {
  "kernelspec": {
   "display_name": "Python 3",
   "language": "python",
   "name": "python3"
  },
  "language_info": {
   "codemirror_mode": {
    "name": "ipython",
    "version": 3
   },
   "file_extension": ".py",
   "mimetype": "text/x-python",
   "name": "python",
   "nbconvert_exporter": "python",
   "pygments_lexer": "ipython3",
   "version": "3.8.8"
  }
 },
 "nbformat": 4,
 "nbformat_minor": 5
}
