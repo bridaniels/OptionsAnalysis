{
 "cells": [
  {
   "cell_type": "markdown",
   "id": "77fa945a-6db9-4a0b-ba05-640850029167",
   "metadata": {},
   "source": [
    "---\n",
    "---\n",
    "# Level of Underlying \n",
    "---\n",
    "---"
   ]
  },
  {
   "cell_type": "markdown",
   "id": "08ee5db0-a621-4846-8343-ec3e28c6299f",
   "metadata": {},
   "source": [
    "### Import *.py* Files"
   ]
  },
  {
   "cell_type": "code",
   "execution_count": 1,
   "id": "29657db6-ce84-4dd8-a05f-cb7dbe6fa8d7",
   "metadata": {},
   "outputs": [
    {
     "name": "stdout",
     "output_type": "stream",
     "text": [
      "Stock: SPY \n",
      " Expiration: 12-18-2022 \n",
      " Strike Price: 370 \n",
      " Data Source: yahoo \n",
      "\n",
      "<class 'pandas.core.frame.DataFrame'>\n",
      "DatetimeIndex: 253 entries, 2021-04-29 to 2022-04-28\n",
      "Data columns (total 8 columns):\n",
      " #   Column            Non-Null Count  Dtype  \n",
      "---  ------            --------------  -----  \n",
      " 0   High              253 non-null    float64\n",
      " 1   Low               253 non-null    float64\n",
      " 2   Open              253 non-null    float64\n",
      " 3   Close             253 non-null    float64\n",
      " 4   Volume            253 non-null    float64\n",
      " 5   Adj Close         253 non-null    float64\n",
      " 6   close_day_before  252 non-null    float64\n",
      " 7   returns           252 non-null    float64\n",
      "dtypes: float64(8)\n",
      "memory usage: 17.8 KB\n",
      "None\n",
      " \n",
      "Variables: \n",
      " s = Last Close Price: 427.80999755859375 \n",
      " k = Strike Price: 370 \n",
      " t = Time to Maturity: 0.6356164383561644 \n",
      " r = Risk-Free-Rate: 0.0286299991607666 \n",
      " Sigma: 0.15948160363892538\n",
      "Risk-Adjusted Probability (d1): 1.3484888365731964 (d2): 1.2213412403136228\n",
      "Individual Functions: \n",
      " Call Option: 66.83539620192323 \n",
      " Put Option: 2.353144311385165\n",
      "black_scholes(): \n",
      " Call Option: 66.83539620192323 \n",
      " Put Option: 2.353144311385165\n"
     ]
    }
   ],
   "source": [
    "# only shows data first time - restart kernel \n",
    "import CONFIG as c\n",
    "import BLACK_SCHOLES as bs"
   ]
  },
  {
   "cell_type": "markdown",
   "id": "ac96c3e0-1573-42b5-b3fc-816883ef4319",
   "metadata": {},
   "source": [
    "### Import Libraries\n",
    "- [datascience](https://github.com/data-8/datascience)\n",
    "- [ipywidgets](https://ipywidgets.readthedocs.io/en/latest/)"
   ]
  },
  {
   "cell_type": "code",
   "execution_count": 2,
   "id": "10c50f7b-0339-4b8d-b3c7-d75570697993",
   "metadata": {},
   "outputs": [],
   "source": [
    "import matplotlib \n",
    "import warnings \n",
    "\n",
    "import pandas as pd\n",
    "import numpy as np \n",
    "\n",
    "import matplotlib.pyplot as plt \n",
    "import ipywidgets as widgets\n",
    "\n",
    "from pandas_datareader import data as web\n",
    "from datetime import datetime,date\n",
    "from scipy.stats import norm\n",
    "from math import log, sqrt, pi, exp\n",
    "\n",
    "from datascience import *\n",
    "from ipywidgets import interact, interactive, fixed, interact_manual\n",
    "\n",
    "plt.style.use('fivethirtyeight')\n",
    "warnings.simplefilter('ignore', FutureWarning)\n",
    "%matplotlib inline"
   ]
  },
  {
   "cell_type": "markdown",
   "id": "b8526082-4874-4a11-a7ee-4de1ea881669",
   "metadata": {},
   "source": [
    "---\n",
    "---\n",
    "## Level of Underlying \n",
    "---\n",
    "---"
   ]
  },
  {
   "cell_type": "code",
   "execution_count": 3,
   "id": "f964e6c0-224a-405b-b5fe-5fbd863ca580",
   "metadata": {},
   "outputs": [],
   "source": [
    "new_table = Table().with_column(\"Level of Underlying\", np.arange(0,101,10))\n",
    "#new_table.show()"
   ]
  },
  {
   "cell_type": "code",
   "execution_count": 4,
   "id": "a103e6ec-166a-4713-a6e6-3cf9540c90a8",
   "metadata": {},
   "outputs": [],
   "source": [
    "ek = 50 #strikePrice\n",
    "et = 1 #timeToMaturity\n",
    "er = 0.1 #riskFreeRate\n",
    "es = 0.39115 #sigma"
   ]
  },
  {
   "cell_type": "code",
   "execution_count": 5,
   "id": "f0ffc594-6b1b-422e-93bb-78333c541aca",
   "metadata": {},
   "outputs": [
    {
     "data": {
      "text/plain": [
       "array([0.00000000e+00, 1.08176967e-04, 7.77138496e-02, 1.07658328e+00,\n",
       "       4.30794966e+00, 9.99974419e+00, 1.75336194e+01, 2.62035114e+01,\n",
       "       3.55074908e+01, 4.51478326e+01, 5.49623485e+01])"
      ]
     },
     "execution_count": 5,
     "metadata": {},
     "output_type": "execute_result"
    }
   ],
   "source": [
    "expiration_oneYR_arr = make_array()\n",
    "for price in np.arange(0,101,10):\n",
    "    if price == 0:\n",
    "        expiration_oneYR_arr = np.append(expiration_oneYR_arr,0)\n",
    "    else:\n",
    "        #expiration_oneYR_arr = np.append(expiration_oneYR_arr, bs.black_scholes(price, c.strike_price, bs.tMature, bs.riskFree, bs.sigma, option='call'))\n",
    "        expiration_oneYR_arr = np.append(expiration_oneYR_arr, bs.black_scholes(price, ek, et, er, es, option='call'))\n",
    "\n",
    "expiration_oneYR_arr"
   ]
  },
  {
   "cell_type": "code",
   "execution_count": 6,
   "id": "c43a64d5-1097-4ed3-8a60-4e6c42f72f98",
   "metadata": {},
   "outputs": [
    {
     "data": {
      "text/html": [
       "<table border=\"1\" class=\"dataframe\">\n",
       "    <thead>\n",
       "        <tr>\n",
       "            <th>Level of Underlying</th> <th>Time to Expiration of One Year</th>\n",
       "        </tr>\n",
       "    </thead>\n",
       "    <tbody>\n",
       "        <tr>\n",
       "            <td>0                  </td> <td>0                             </td>\n",
       "        </tr>\n",
       "        <tr>\n",
       "            <td>10                 </td> <td>0.000108177                   </td>\n",
       "        </tr>\n",
       "        <tr>\n",
       "            <td>20                 </td> <td>0.0777138                     </td>\n",
       "        </tr>\n",
       "        <tr>\n",
       "            <td>30                 </td> <td>1.07658                       </td>\n",
       "        </tr>\n",
       "        <tr>\n",
       "            <td>40                 </td> <td>4.30795                       </td>\n",
       "        </tr>\n",
       "        <tr>\n",
       "            <td>50                 </td> <td>9.99974                       </td>\n",
       "        </tr>\n",
       "        <tr>\n",
       "            <td>60                 </td> <td>17.5336                       </td>\n",
       "        </tr>\n",
       "        <tr>\n",
       "            <td>70                 </td> <td>26.2035                       </td>\n",
       "        </tr>\n",
       "        <tr>\n",
       "            <td>80                 </td> <td>35.5075                       </td>\n",
       "        </tr>\n",
       "        <tr>\n",
       "            <td>90                 </td> <td>45.1478                       </td>\n",
       "        </tr>\n",
       "        <tr>\n",
       "            <td>100                </td> <td>54.9623                       </td>\n",
       "        </tr>\n",
       "    </tbody>\n",
       "</table>"
      ],
      "text/plain": [
       "<IPython.core.display.HTML object>"
      ]
     },
     "metadata": {},
     "output_type": "display_data"
    }
   ],
   "source": [
    "new_table = new_table.with_column(\"Time to Expiration of One Year\", expiration_oneYR_arr)\n",
    "new_table.show()"
   ]
  },
  {
   "cell_type": "code",
   "execution_count": 7,
   "id": "f915ffe7-783b-43a0-9f8c-24c4e291e3df",
   "metadata": {},
   "outputs": [
    {
     "data": {
      "text/plain": [
       "array([0.00000000e+00, 0.00000000e+00, 0.00000000e+00, 0.00000000e+00,\n",
       "       0.00000000e+00, 2.46755821e-03, 1.00000005e+01, 2.00000005e+01,\n",
       "       3.00000005e+01, 4.00000005e+01, 5.00000005e+01])"
      ]
     },
     "execution_count": 7,
     "metadata": {},
     "output_type": "execute_result"
    }
   ],
   "source": [
    "no_expiration = make_array()\n",
    "noExpire = 0.0000001\n",
    "for price in np.arange(0,101,10):\n",
    "    if price == 0: \n",
    "        no_expiration = np.append(no_expiration, 0)\n",
    "    else: \n",
    "        #no_expiration = np.append(no_expiration, bs.black_scholes(price, c.strike_price, noExpire, bs.riskFree, bs.sigma, option='call'))\n",
    "        no_expiration = np.append(no_expiration, bs.black_scholes(price, ek, noExpire, er, es, option='call'))\n",
    "        \n",
    "no_expiration"
   ]
  },
  {
   "cell_type": "code",
   "execution_count": 8,
   "id": "5b4d205c-48c0-4f38-939c-378e3144583e",
   "metadata": {},
   "outputs": [
    {
     "data": {
      "text/html": [
       "<table border=\"1\" class=\"dataframe\">\n",
       "    <thead>\n",
       "        <tr>\n",
       "            <th>Level of Underlying</th> <th>Time to Expiration of One Year</th> <th>Time to Expiration of None</th>\n",
       "        </tr>\n",
       "    </thead>\n",
       "    <tbody>\n",
       "        <tr>\n",
       "            <td>0                  </td> <td>0                             </td> <td>0                         </td>\n",
       "        </tr>\n",
       "        <tr>\n",
       "            <td>10                 </td> <td>0.000108177                   </td> <td>0                         </td>\n",
       "        </tr>\n",
       "        <tr>\n",
       "            <td>20                 </td> <td>0.0777138                     </td> <td>0                         </td>\n",
       "        </tr>\n",
       "        <tr>\n",
       "            <td>30                 </td> <td>1.07658                       </td> <td>0                         </td>\n",
       "        </tr>\n",
       "        <tr>\n",
       "            <td>40                 </td> <td>4.30795                       </td> <td>0                         </td>\n",
       "        </tr>\n",
       "        <tr>\n",
       "            <td>50                 </td> <td>9.99974                       </td> <td>0.00246756                </td>\n",
       "        </tr>\n",
       "        <tr>\n",
       "            <td>60                 </td> <td>17.5336                       </td> <td>10                        </td>\n",
       "        </tr>\n",
       "        <tr>\n",
       "            <td>70                 </td> <td>26.2035                       </td> <td>20                        </td>\n",
       "        </tr>\n",
       "        <tr>\n",
       "            <td>80                 </td> <td>35.5075                       </td> <td>30                        </td>\n",
       "        </tr>\n",
       "        <tr>\n",
       "            <td>90                 </td> <td>45.1478                       </td> <td>40                        </td>\n",
       "        </tr>\n",
       "        <tr>\n",
       "            <td>100                </td> <td>54.9623                       </td> <td>50                        </td>\n",
       "        </tr>\n",
       "    </tbody>\n",
       "</table>"
      ],
      "text/plain": [
       "<IPython.core.display.HTML object>"
      ]
     },
     "metadata": {},
     "output_type": "display_data"
    }
   ],
   "source": [
    "new_table = new_table.with_column(\"Time to Expiration of None\", no_expiration)\n",
    "new_table.show()"
   ]
  },
  {
   "cell_type": "code",
   "execution_count": 9,
   "id": "1ed50790-6a30-4941-a053-53d3248c5f78",
   "metadata": {},
   "outputs": [
    {
     "data": {
      "image/png": "[encoded data removed]",
      "text/plain": [
       "<Figure size 432x432 with 1 Axes>"
      ]
     },
     "metadata": {
      "needs_background": "light"
     },
     "output_type": "display_data"
    }
   ],
   "source": [
    "new_table.plot(\"Level of Underlying\")"
   ]
  },
  {
   "cell_type": "code",
   "execution_count": 10,
   "id": "0dc5edde-9974-40a8-918c-af1160f2e5ff",
   "metadata": {},
   "outputs": [
    {
     "data": {
      "text/plain": [
       "array([ 0.        ,  0.12653854,  1.75641839,  5.77813145, 11.7582735 ,\n",
       "       19.0826488 , 27.28807781, 36.06767126, 45.22466791, 54.63318365,\n",
       "       64.21192494])"
      ]
     },
     "execution_count": 10,
     "metadata": {},
     "output_type": "execute_result"
    }
   ],
   "source": [
    "exp_threeYr_arr = make_array()\n",
    "for price in np.arange(0,101,10):\n",
    "    threeYr = 3\n",
    "    if price == 0: \n",
    "        exp_threeYr_arr = np.append(exp_threeYr_arr, 0)\n",
    "    else: \n",
    "        #exp_threeYr_arr = np.append(exp_threeYr_arr, bs.black_scholes(price, c.strike_price, threeYr, bs.riskFree, bs.sigma, option='call'))\n",
    "        exp_threeYr_arr = np.append(exp_threeYr_arr, bs.black_scholes(price, ek, threeYr, er, es, option='call'))\n",
    "exp_threeYr_arr"
   ]
  },
  {
   "cell_type": "code",
   "execution_count": 11,
   "id": "d5770fd3-96c7-4a98-ba2a-e91d01ef230e",
   "metadata": {},
   "outputs": [
    {
     "data": {
      "text/html": [
       "<table border=\"1\" class=\"dataframe\">\n",
       "    <thead>\n",
       "        <tr>\n",
       "            <th>Level of Underlying</th> <th>Time to Expiration of One Year</th> <th>Time to Expiration of None</th> <th>Time to Expiration of Three Years</th>\n",
       "        </tr>\n",
       "    </thead>\n",
       "    <tbody>\n",
       "        <tr>\n",
       "            <td>0                  </td> <td>0                             </td> <td>0                         </td> <td>0                                </td>\n",
       "        </tr>\n",
       "        <tr>\n",
       "            <td>10                 </td> <td>0.000108177                   </td> <td>0                         </td> <td>0.126539                         </td>\n",
       "        </tr>\n",
       "        <tr>\n",
       "            <td>20                 </td> <td>0.0777138                     </td> <td>0                         </td> <td>1.75642                          </td>\n",
       "        </tr>\n",
       "        <tr>\n",
       "            <td>30                 </td> <td>1.07658                       </td> <td>0                         </td> <td>5.77813                          </td>\n",
       "        </tr>\n",
       "        <tr>\n",
       "            <td>40                 </td> <td>4.30795                       </td> <td>0                         </td> <td>11.7583                          </td>\n",
       "        </tr>\n",
       "        <tr>\n",
       "            <td>50                 </td> <td>9.99974                       </td> <td>0.00246756                </td> <td>19.0826                          </td>\n",
       "        </tr>\n",
       "        <tr>\n",
       "            <td>60                 </td> <td>17.5336                       </td> <td>10                        </td> <td>27.2881                          </td>\n",
       "        </tr>\n",
       "        <tr>\n",
       "            <td>70                 </td> <td>26.2035                       </td> <td>20                        </td> <td>36.0677                          </td>\n",
       "        </tr>\n",
       "        <tr>\n",
       "            <td>80                 </td> <td>35.5075                       </td> <td>30                        </td> <td>45.2247                          </td>\n",
       "        </tr>\n",
       "        <tr>\n",
       "            <td>90                 </td> <td>45.1478                       </td> <td>40                        </td> <td>54.6332                          </td>\n",
       "        </tr>\n",
       "        <tr>\n",
       "            <td>100                </td> <td>54.9623                       </td> <td>50                        </td> <td>64.2119                          </td>\n",
       "        </tr>\n",
       "    </tbody>\n",
       "</table>"
      ],
      "text/plain": [
       "<IPython.core.display.HTML object>"
      ]
     },
     "metadata": {},
     "output_type": "display_data"
    }
   ],
   "source": [
    "new_table = new_table.with_column(\"Time to Expiration of Three Years\", exp_threeYr_arr)\n",
    "new_table.show()"
   ]
  },
  {
   "cell_type": "code",
   "execution_count": 12,
   "id": "1d831451-df3d-4069-b32a-075c5931e5f5",
   "metadata": {},
   "outputs": [
    {
     "data": {
      "image/png": "[encoded data removed]",
      "text/plain": [
       "<Figure size 432x432 with 1 Axes>"
      ]
     },
     "metadata": {
      "needs_background": "light"
     },
     "output_type": "display_data"
    }
   ],
   "source": [
    "new_table.plot(\"Level of Underlying\")\n",
    "plt.title('Level of Underlying for {}'.format(c.stock))\n",
    "plt.xlabel('Level of Underlying (Arbitrary)')\n",
    "plt.ylabel('Price (Arbitrary)')\n",
    "\n",
    "plt.show()"
   ]
  },
  {
   "cell_type": "code",
   "execution_count": null,
   "id": "dd50c2e8-a427-46d7-b608-8fa410c7dd99",
   "metadata": {},
   "outputs": [],
   "source": []
  }
 ],
 "metadata": {
  "kernelspec": {
   "display_name": "Python 3",
   "language": "python",
   "name": "python3"
  },
  "language_info": {
   "codemirror_mode": {
    "name": "ipython",
    "version": 3
   },
   "file_extension": ".py",
   "mimetype": "text/x-python",
   "name": "python",
   "nbconvert_exporter": "python",
   "pygments_lexer": "ipython3",
   "version": "3.8.8"
  }
 },
 "nbformat": 4,
 "nbformat_minor": 5
}
